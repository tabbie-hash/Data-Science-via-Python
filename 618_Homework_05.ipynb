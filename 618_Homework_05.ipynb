{
 "cells": [
  {
   "cell_type": "markdown",
   "metadata": {
    "colab_type": "text",
    "id": "UGqk3SzXsMR3"
   },
   "source": [
    "# Homework 5: Natural Language Processing"
   ]
  },
  {
   "cell_type": "markdown",
   "metadata": {
    "colab_type": "text",
    "id": "pbqbtPreaCjs"
   },
   "source": [
    "### The total score for this assignment will be 100 points, consisting of:\n",
    "- 10 pt: Overall quality of spelling, grammar, punctuation, etc. of written sentences.\n",
    "- 10 pt: Codes are written in [PEP 8](https://www.python.org/dev/peps/pep-0008/) style.\n",
    "- 80 pt: Homework questions. "
   ]
  },
  {
   "cell_type": "code",
   "execution_count": 434,
   "metadata": {
    "colab": {},
    "colab_type": "code",
    "id": "Ry_Zzg_nk6tm"
   },
   "outputs": [],
   "source": [
    "MY_UNIQNAME = 'tabbie'"
   ]
  },
  {
   "cell_type": "markdown",
   "metadata": {},
   "source": [
    "## Scenario\n",
    "\n",
    "As a newly hired member of the United Nation's (UN) Archives and Records Management Section (ARMS), your manager has asked you to analyze forty years of statements presented by hundreds of heads of state and senior officials at the UN General Debates. Your initial report should clearly document the steps you have taken to manipulate the data as well as insights from trends and patterns you identify which your manager may want to share with her peers within the UN. "
   ]
  },
  {
   "cell_type": "markdown",
   "metadata": {
    "colab_type": "text",
    "id": "Pr9WBUQyZY4V"
   },
   "source": [
    "## 0. Download the data from: \n",
    "\n",
    "* [https://www.kaggle.com/unitednations/un-general-debates](https://www.kaggle.com/unitednations/un-general-debates)"
   ]
  },
  {
   "cell_type": "code",
   "execution_count": 435,
   "metadata": {},
   "outputs": [],
   "source": [
    "import numpy as np\n",
    "import pandas as pd\n",
    "import matplotlib.pyplot as plt\n",
    "import seaborn as sns\n",
    "%matplotlib inline\n",
    "import statsmodels.api as sm\n",
    "import statsmodels.formula.api as smf\n",
    "import re\n",
    "from collections import Counter\n",
    "import nltk"
   ]
  },
  {
   "cell_type": "markdown",
   "metadata": {
    "colab_type": "text",
    "id": "lwumWcqTcMCs"
   },
   "source": [
    "### <span style=\"color:magenta\"> Q1. [10 pts] Initial clean up and EDA\n",
    "1. Load the UN General Debates data.\n",
    "1. Merge in the ISO 3166 country names available here: https://en.wikipedia.org/wiki/List_of_ISO_3166_country_codes.\n",
    "1. Clean and simplify the country names by removing any values between parentheses () or brackets [].\n",
    "1. Report the mean number of statements delivered by a country.\n",
    "1. Report the five countries that have delivered the fewest statements in total."
   ]
  },
  {
   "cell_type": "code",
   "execution_count": 436,
   "metadata": {},
   "outputs": [
    {
     "data": {
      "text/html": [
       "<div>\n",
       "<style scoped>\n",
       "    .dataframe tbody tr th:only-of-type {\n",
       "        vertical-align: middle;\n",
       "    }\n",
       "\n",
       "    .dataframe tbody tr th {\n",
       "        vertical-align: top;\n",
       "    }\n",
       "\n",
       "    .dataframe thead th {\n",
       "        text-align: right;\n",
       "    }\n",
       "</style>\n",
       "<table border=\"1\" class=\"dataframe\">\n",
       "  <thead>\n",
       "    <tr style=\"text-align: right;\">\n",
       "      <th></th>\n",
       "      <th>session</th>\n",
       "      <th>year</th>\n",
       "      <th>country</th>\n",
       "      <th>text</th>\n",
       "    </tr>\n",
       "  </thead>\n",
       "  <tbody>\n",
       "    <tr>\n",
       "      <td>0</td>\n",
       "      <td>44</td>\n",
       "      <td>1989</td>\n",
       "      <td>MDV</td>\n",
       "      <td>﻿It is indeed a pleasure for me and the member...</td>\n",
       "    </tr>\n",
       "    <tr>\n",
       "      <td>1</td>\n",
       "      <td>44</td>\n",
       "      <td>1989</td>\n",
       "      <td>FIN</td>\n",
       "      <td>﻿\\nMay I begin by congratulating you. Sir, on ...</td>\n",
       "    </tr>\n",
       "    <tr>\n",
       "      <td>2</td>\n",
       "      <td>44</td>\n",
       "      <td>1989</td>\n",
       "      <td>NER</td>\n",
       "      <td>﻿\\nMr. President, it is a particular pleasure ...</td>\n",
       "    </tr>\n",
       "    <tr>\n",
       "      <td>3</td>\n",
       "      <td>44</td>\n",
       "      <td>1989</td>\n",
       "      <td>URY</td>\n",
       "      <td>﻿\\nDuring the debate at the fortieth session o...</td>\n",
       "    </tr>\n",
       "    <tr>\n",
       "      <td>4</td>\n",
       "      <td>44</td>\n",
       "      <td>1989</td>\n",
       "      <td>ZWE</td>\n",
       "      <td>﻿I should like at the outset to express my del...</td>\n",
       "    </tr>\n",
       "  </tbody>\n",
       "</table>\n",
       "</div>"
      ],
      "text/plain": [
       "   session  year country                                               text\n",
       "0       44  1989     MDV  ﻿It is indeed a pleasure for me and the member...\n",
       "1       44  1989     FIN  ﻿\\nMay I begin by congratulating you. Sir, on ...\n",
       "2       44  1989     NER  ﻿\\nMr. President, it is a particular pleasure ...\n",
       "3       44  1989     URY  ﻿\\nDuring the debate at the fortieth session o...\n",
       "4       44  1989     ZWE  ﻿I should like at the outset to express my del..."
      ]
     },
     "execution_count": 436,
     "metadata": {},
     "output_type": "execute_result"
    }
   ],
   "source": [
    "#UN General Debates data loaded\n",
    "un_debates = pd.read_csv('un-general-debates.csv')\n",
    "un_debates.head()"
   ]
  },
  {
   "cell_type": "code",
   "execution_count": 437,
   "metadata": {},
   "outputs": [
    {
     "data": {
      "text/html": [
       "<div>\n",
       "<style scoped>\n",
       "    .dataframe tbody tr th:only-of-type {\n",
       "        vertical-align: middle;\n",
       "    }\n",
       "\n",
       "    .dataframe tbody tr th {\n",
       "        vertical-align: top;\n",
       "    }\n",
       "\n",
       "    .dataframe thead th {\n",
       "        text-align: right;\n",
       "    }\n",
       "</style>\n",
       "<table border=\"1\" class=\"dataframe\">\n",
       "  <thead>\n",
       "    <tr style=\"text-align: right;\">\n",
       "      <th></th>\n",
       "      <th>country_name</th>\n",
       "      <th>official_state_name</th>\n",
       "      <th>sovereignty</th>\n",
       "      <th>alpha-2_code</th>\n",
       "      <th>alpha-3_code</th>\n",
       "      <th>numeric_code</th>\n",
       "      <th>subdivision_code_links</th>\n",
       "      <th>internet_cctld</th>\n",
       "    </tr>\n",
       "  </thead>\n",
       "  <tbody>\n",
       "    <tr>\n",
       "      <td>0</td>\n",
       "      <td>Afghanistan</td>\n",
       "      <td>The Islamic Republic of Afghanistan</td>\n",
       "      <td>UN member state</td>\n",
       "      <td>.mw-parser-output .monospaced{font-family:mono...</td>\n",
       "      <td>AFG</td>\n",
       "      <td>004</td>\n",
       "      <td>ISO 3166-2:AF</td>\n",
       "      <td>.af</td>\n",
       "    </tr>\n",
       "    <tr>\n",
       "      <td>1</td>\n",
       "      <td>Akrotiri and Dhekelia – See United Kingdom, The</td>\n",
       "      <td>Akrotiri and Dhekelia – See United Kingdom, The</td>\n",
       "      <td>Akrotiri and Dhekelia – See United Kingdom, The</td>\n",
       "      <td>Akrotiri and Dhekelia – See United Kingdom, The</td>\n",
       "      <td>Akrotiri and Dhekelia – See United Kingdom, The</td>\n",
       "      <td>Akrotiri and Dhekelia – See United Kingdom, The</td>\n",
       "      <td>Akrotiri and Dhekelia – See United Kingdom, The</td>\n",
       "      <td>Akrotiri and Dhekelia – See United Kingdom, The</td>\n",
       "    </tr>\n",
       "    <tr>\n",
       "      <td>2</td>\n",
       "      <td>Åland Islands</td>\n",
       "      <td>Åland</td>\n",
       "      <td>Finland</td>\n",
       "      <td>AX</td>\n",
       "      <td>ALA</td>\n",
       "      <td>248</td>\n",
       "      <td>ISO 3166-2:AX</td>\n",
       "      <td>.ax</td>\n",
       "    </tr>\n",
       "    <tr>\n",
       "      <td>3</td>\n",
       "      <td>Albania</td>\n",
       "      <td>The Republic of Albania</td>\n",
       "      <td>UN member state</td>\n",
       "      <td>AL</td>\n",
       "      <td>ALB</td>\n",
       "      <td>008</td>\n",
       "      <td>ISO 3166-2:AL</td>\n",
       "      <td>.al</td>\n",
       "    </tr>\n",
       "    <tr>\n",
       "      <td>4</td>\n",
       "      <td>Algeria</td>\n",
       "      <td>The People's Democratic Republic of Algeria</td>\n",
       "      <td>UN member state</td>\n",
       "      <td>DZ</td>\n",
       "      <td>DZA</td>\n",
       "      <td>012</td>\n",
       "      <td>ISO 3166-2:DZ</td>\n",
       "      <td>.dz</td>\n",
       "    </tr>\n",
       "  </tbody>\n",
       "</table>\n",
       "</div>"
      ],
      "text/plain": [
       "                                      country_name  \\\n",
       "0                                      Afghanistan   \n",
       "1  Akrotiri and Dhekelia – See United Kingdom, The   \n",
       "2                                    Åland Islands   \n",
       "3                                          Albania   \n",
       "4                                          Algeria   \n",
       "\n",
       "                               official_state_name  \\\n",
       "0              The Islamic Republic of Afghanistan   \n",
       "1  Akrotiri and Dhekelia – See United Kingdom, The   \n",
       "2                                            Åland   \n",
       "3                          The Republic of Albania   \n",
       "4      The People's Democratic Republic of Algeria   \n",
       "\n",
       "                                       sovereignty  \\\n",
       "0                                  UN member state   \n",
       "1  Akrotiri and Dhekelia – See United Kingdom, The   \n",
       "2                                          Finland   \n",
       "3                                  UN member state   \n",
       "4                                  UN member state   \n",
       "\n",
       "                                        alpha-2_code  \\\n",
       "0  .mw-parser-output .monospaced{font-family:mono...   \n",
       "1    Akrotiri and Dhekelia – See United Kingdom, The   \n",
       "2                                                 AX   \n",
       "3                                                 AL   \n",
       "4                                                 DZ   \n",
       "\n",
       "                                      alpha-3_code  \\\n",
       "0                                              AFG   \n",
       "1  Akrotiri and Dhekelia – See United Kingdom, The   \n",
       "2                                              ALA   \n",
       "3                                              ALB   \n",
       "4                                              DZA   \n",
       "\n",
       "                                      numeric_code  \\\n",
       "0                                              004   \n",
       "1  Akrotiri and Dhekelia – See United Kingdom, The   \n",
       "2                                              248   \n",
       "3                                              008   \n",
       "4                                              012   \n",
       "\n",
       "                            subdivision_code_links  \\\n",
       "0                                    ISO 3166-2:AF   \n",
       "1  Akrotiri and Dhekelia – See United Kingdom, The   \n",
       "2                                    ISO 3166-2:AX   \n",
       "3                                    ISO 3166-2:AL   \n",
       "4                                    ISO 3166-2:DZ   \n",
       "\n",
       "                                    internet_cctld  \n",
       "0                                              .af  \n",
       "1  Akrotiri and Dhekelia – See United Kingdom, The  \n",
       "2                                              .ax  \n",
       "3                                              .al  \n",
       "4                                              .dz  "
      ]
     },
     "execution_count": 437,
     "metadata": {},
     "output_type": "execute_result"
    }
   ],
   "source": [
    "#Loading the data from wikipedia and cleaning the column names \n",
    "wiki_df = pd.read_html('https://en.wikipedia.org/wiki/List_of_ISO_3166_country_codes', header=1)\n",
    "wiki = wiki_df[0]\n",
    "wiki.columns = wiki.columns.str.strip().str.lower().str.replace(' ','_')\n",
    "wiki.columns = wiki.columns.str.strip().str.replace('\\[([0-9]+)\\]', '')\n",
    "wiki.head()"
   ]
  },
  {
   "cell_type": "code",
   "execution_count": 438,
   "metadata": {},
   "outputs": [
    {
     "data": {
      "text/html": [
       "<div>\n",
       "<style scoped>\n",
       "    .dataframe tbody tr th:only-of-type {\n",
       "        vertical-align: middle;\n",
       "    }\n",
       "\n",
       "    .dataframe tbody tr th {\n",
       "        vertical-align: top;\n",
       "    }\n",
       "\n",
       "    .dataframe thead th {\n",
       "        text-align: right;\n",
       "    }\n",
       "</style>\n",
       "<table border=\"1\" class=\"dataframe\">\n",
       "  <thead>\n",
       "    <tr style=\"text-align: right;\">\n",
       "      <th></th>\n",
       "      <th>country_name</th>\n",
       "      <th>alpha-3_code</th>\n",
       "    </tr>\n",
       "  </thead>\n",
       "  <tbody>\n",
       "    <tr>\n",
       "      <td>0</td>\n",
       "      <td>Afghanistan</td>\n",
       "      <td>AFG</td>\n",
       "    </tr>\n",
       "    <tr>\n",
       "      <td>1</td>\n",
       "      <td>Akrotiri and Dhekelia – See United Kingdom, The</td>\n",
       "      <td>Akrotiri and Dhekelia – See United Kingdom, The</td>\n",
       "    </tr>\n",
       "    <tr>\n",
       "      <td>2</td>\n",
       "      <td>Åland Islands</td>\n",
       "      <td>ALA</td>\n",
       "    </tr>\n",
       "    <tr>\n",
       "      <td>3</td>\n",
       "      <td>Albania</td>\n",
       "      <td>ALB</td>\n",
       "    </tr>\n",
       "    <tr>\n",
       "      <td>4</td>\n",
       "      <td>Algeria</td>\n",
       "      <td>DZA</td>\n",
       "    </tr>\n",
       "    <tr>\n",
       "      <td>...</td>\n",
       "      <td>...</td>\n",
       "      <td>...</td>\n",
       "    </tr>\n",
       "    <tr>\n",
       "      <td>275</td>\n",
       "      <td>Wallis and Futuna</td>\n",
       "      <td>WLF</td>\n",
       "    </tr>\n",
       "    <tr>\n",
       "      <td>276</td>\n",
       "      <td>Western Sahara [ah]</td>\n",
       "      <td>ESH</td>\n",
       "    </tr>\n",
       "    <tr>\n",
       "      <td>277</td>\n",
       "      <td>Yemen</td>\n",
       "      <td>YEM</td>\n",
       "    </tr>\n",
       "    <tr>\n",
       "      <td>278</td>\n",
       "      <td>Zambia</td>\n",
       "      <td>ZMB</td>\n",
       "    </tr>\n",
       "    <tr>\n",
       "      <td>279</td>\n",
       "      <td>Zimbabwe</td>\n",
       "      <td>ZWE</td>\n",
       "    </tr>\n",
       "  </tbody>\n",
       "</table>\n",
       "<p>280 rows × 2 columns</p>\n",
       "</div>"
      ],
      "text/plain": [
       "                                        country_name  \\\n",
       "0                                        Afghanistan   \n",
       "1    Akrotiri and Dhekelia – See United Kingdom, The   \n",
       "2                                      Åland Islands   \n",
       "3                                            Albania   \n",
       "4                                            Algeria   \n",
       "..                                               ...   \n",
       "275                                Wallis and Futuna   \n",
       "276                              Western Sahara [ah]   \n",
       "277                                            Yemen   \n",
       "278                                           Zambia   \n",
       "279                                         Zimbabwe   \n",
       "\n",
       "                                        alpha-3_code  \n",
       "0                                                AFG  \n",
       "1    Akrotiri and Dhekelia – See United Kingdom, The  \n",
       "2                                                ALA  \n",
       "3                                                ALB  \n",
       "4                                                DZA  \n",
       "..                                               ...  \n",
       "275                                              WLF  \n",
       "276                                              ESH  \n",
       "277                                              YEM  \n",
       "278                                              ZMB  \n",
       "279                                              ZWE  \n",
       "\n",
       "[280 rows x 2 columns]"
      ]
     },
     "execution_count": 438,
     "metadata": {},
     "output_type": "execute_result"
    }
   ],
   "source": [
    "wiki_ = wiki[['country_name', 'alpha-3_code']]\n",
    "wiki_"
   ]
  },
  {
   "cell_type": "code",
   "execution_count": 439,
   "metadata": {},
   "outputs": [
    {
     "data": {
      "text/html": [
       "<div>\n",
       "<style scoped>\n",
       "    .dataframe tbody tr th:only-of-type {\n",
       "        vertical-align: middle;\n",
       "    }\n",
       "\n",
       "    .dataframe tbody tr th {\n",
       "        vertical-align: top;\n",
       "    }\n",
       "\n",
       "    .dataframe thead th {\n",
       "        text-align: right;\n",
       "    }\n",
       "</style>\n",
       "<table border=\"1\" class=\"dataframe\">\n",
       "  <thead>\n",
       "    <tr style=\"text-align: right;\">\n",
       "      <th></th>\n",
       "      <th>session</th>\n",
       "      <th>year</th>\n",
       "      <th>country</th>\n",
       "      <th>text</th>\n",
       "      <th>country_name</th>\n",
       "      <th>alpha-3_code</th>\n",
       "    </tr>\n",
       "  </thead>\n",
       "  <tbody>\n",
       "    <tr>\n",
       "      <td>0</td>\n",
       "      <td>44</td>\n",
       "      <td>1989</td>\n",
       "      <td>MDV</td>\n",
       "      <td>﻿It is indeed a pleasure for me and the member...</td>\n",
       "      <td>Maldives</td>\n",
       "      <td>MDV</td>\n",
       "    </tr>\n",
       "    <tr>\n",
       "      <td>1</td>\n",
       "      <td>44</td>\n",
       "      <td>1989</td>\n",
       "      <td>FIN</td>\n",
       "      <td>﻿\\nMay I begin by congratulating you. Sir, on ...</td>\n",
       "      <td>Finland</td>\n",
       "      <td>FIN</td>\n",
       "    </tr>\n",
       "    <tr>\n",
       "      <td>2</td>\n",
       "      <td>44</td>\n",
       "      <td>1989</td>\n",
       "      <td>NER</td>\n",
       "      <td>﻿\\nMr. President, it is a particular pleasure ...</td>\n",
       "      <td>Niger (the)</td>\n",
       "      <td>NER</td>\n",
       "    </tr>\n",
       "    <tr>\n",
       "      <td>3</td>\n",
       "      <td>44</td>\n",
       "      <td>1989</td>\n",
       "      <td>URY</td>\n",
       "      <td>﻿\\nDuring the debate at the fortieth session o...</td>\n",
       "      <td>Uruguay</td>\n",
       "      <td>URY</td>\n",
       "    </tr>\n",
       "    <tr>\n",
       "      <td>4</td>\n",
       "      <td>44</td>\n",
       "      <td>1989</td>\n",
       "      <td>ZWE</td>\n",
       "      <td>﻿I should like at the outset to express my del...</td>\n",
       "      <td>Zimbabwe</td>\n",
       "      <td>ZWE</td>\n",
       "    </tr>\n",
       "    <tr>\n",
       "      <td>...</td>\n",
       "      <td>...</td>\n",
       "      <td>...</td>\n",
       "      <td>...</td>\n",
       "      <td>...</td>\n",
       "      <td>...</td>\n",
       "      <td>...</td>\n",
       "    </tr>\n",
       "    <tr>\n",
       "      <td>7502</td>\n",
       "      <td>56</td>\n",
       "      <td>2001</td>\n",
       "      <td>KAZ</td>\n",
       "      <td>﻿This session\\nthat is taking place under extr...</td>\n",
       "      <td>Kazakhstan</td>\n",
       "      <td>KAZ</td>\n",
       "    </tr>\n",
       "    <tr>\n",
       "      <td>7503</td>\n",
       "      <td>56</td>\n",
       "      <td>2001</td>\n",
       "      <td>LBR</td>\n",
       "      <td>﻿I am honoured to\\nparticipate in this histori...</td>\n",
       "      <td>Liberia</td>\n",
       "      <td>LBR</td>\n",
       "    </tr>\n",
       "    <tr>\n",
       "      <td>7504</td>\n",
       "      <td>56</td>\n",
       "      <td>2001</td>\n",
       "      <td>BDI</td>\n",
       "      <td>﻿It\\nis for me a signal honour to take the flo...</td>\n",
       "      <td>Burundi</td>\n",
       "      <td>BDI</td>\n",
       "    </tr>\n",
       "    <tr>\n",
       "      <td>7505</td>\n",
       "      <td>56</td>\n",
       "      <td>2001</td>\n",
       "      <td>HUN</td>\n",
       "      <td>﻿First, may I congratulate Mr. Han Seung-soo o...</td>\n",
       "      <td>Hungary</td>\n",
       "      <td>HUN</td>\n",
       "    </tr>\n",
       "    <tr>\n",
       "      <td>7506</td>\n",
       "      <td>56</td>\n",
       "      <td>2001</td>\n",
       "      <td>KWT</td>\n",
       "      <td>﻿On behalf of the State of Kuwait, it\\ngives m...</td>\n",
       "      <td>Kuwait</td>\n",
       "      <td>KWT</td>\n",
       "    </tr>\n",
       "  </tbody>\n",
       "</table>\n",
       "<p>7507 rows × 6 columns</p>\n",
       "</div>"
      ],
      "text/plain": [
       "      session  year country  \\\n",
       "0          44  1989     MDV   \n",
       "1          44  1989     FIN   \n",
       "2          44  1989     NER   \n",
       "3          44  1989     URY   \n",
       "4          44  1989     ZWE   \n",
       "...       ...   ...     ...   \n",
       "7502       56  2001     KAZ   \n",
       "7503       56  2001     LBR   \n",
       "7504       56  2001     BDI   \n",
       "7505       56  2001     HUN   \n",
       "7506       56  2001     KWT   \n",
       "\n",
       "                                                   text country_name  \\\n",
       "0     ﻿It is indeed a pleasure for me and the member...     Maldives   \n",
       "1     ﻿\\nMay I begin by congratulating you. Sir, on ...      Finland   \n",
       "2     ﻿\\nMr. President, it is a particular pleasure ...  Niger (the)   \n",
       "3     ﻿\\nDuring the debate at the fortieth session o...      Uruguay   \n",
       "4     ﻿I should like at the outset to express my del...     Zimbabwe   \n",
       "...                                                 ...          ...   \n",
       "7502  ﻿This session\\nthat is taking place under extr...   Kazakhstan   \n",
       "7503  ﻿I am honoured to\\nparticipate in this histori...      Liberia   \n",
       "7504  ﻿It\\nis for me a signal honour to take the flo...      Burundi   \n",
       "7505  ﻿First, may I congratulate Mr. Han Seung-soo o...      Hungary   \n",
       "7506  ﻿On behalf of the State of Kuwait, it\\ngives m...       Kuwait   \n",
       "\n",
       "     alpha-3_code  \n",
       "0             MDV  \n",
       "1             FIN  \n",
       "2             NER  \n",
       "3             URY  \n",
       "4             ZWE  \n",
       "...           ...  \n",
       "7502          KAZ  \n",
       "7503          LBR  \n",
       "7504          BDI  \n",
       "7505          HUN  \n",
       "7506          KWT  \n",
       "\n",
       "[7507 rows x 6 columns]"
      ]
     },
     "execution_count": 439,
     "metadata": {},
     "output_type": "execute_result"
    }
   ],
   "source": [
    "#Merging the the two datas\n",
    "df_final = un_debates.merge(wiki_, how = \"left\", left_on= \"country\", right_on=\"alpha-3_code\")\n",
    "df_final"
   ]
  },
  {
   "cell_type": "code",
   "execution_count": 440,
   "metadata": {},
   "outputs": [
    {
     "data": {
      "text/html": [
       "<div>\n",
       "<style scoped>\n",
       "    .dataframe tbody tr th:only-of-type {\n",
       "        vertical-align: middle;\n",
       "    }\n",
       "\n",
       "    .dataframe tbody tr th {\n",
       "        vertical-align: top;\n",
       "    }\n",
       "\n",
       "    .dataframe thead th {\n",
       "        text-align: right;\n",
       "    }\n",
       "</style>\n",
       "<table border=\"1\" class=\"dataframe\">\n",
       "  <thead>\n",
       "    <tr style=\"text-align: right;\">\n",
       "      <th></th>\n",
       "      <th>country_name</th>\n",
       "    </tr>\n",
       "  </thead>\n",
       "  <tbody>\n",
       "    <tr>\n",
       "      <td>0</td>\n",
       "      <td>Maldives</td>\n",
       "    </tr>\n",
       "    <tr>\n",
       "      <td>1</td>\n",
       "      <td>Finland</td>\n",
       "    </tr>\n",
       "    <tr>\n",
       "      <td>2</td>\n",
       "      <td>Niger (the)</td>\n",
       "    </tr>\n",
       "    <tr>\n",
       "      <td>3</td>\n",
       "      <td>Uruguay</td>\n",
       "    </tr>\n",
       "    <tr>\n",
       "      <td>4</td>\n",
       "      <td>Zimbabwe</td>\n",
       "    </tr>\n",
       "    <tr>\n",
       "      <td>...</td>\n",
       "      <td>...</td>\n",
       "    </tr>\n",
       "    <tr>\n",
       "      <td>7502</td>\n",
       "      <td>Kazakhstan</td>\n",
       "    </tr>\n",
       "    <tr>\n",
       "      <td>7503</td>\n",
       "      <td>Liberia</td>\n",
       "    </tr>\n",
       "    <tr>\n",
       "      <td>7504</td>\n",
       "      <td>Burundi</td>\n",
       "    </tr>\n",
       "    <tr>\n",
       "      <td>7505</td>\n",
       "      <td>Hungary</td>\n",
       "    </tr>\n",
       "    <tr>\n",
       "      <td>7506</td>\n",
       "      <td>Kuwait</td>\n",
       "    </tr>\n",
       "  </tbody>\n",
       "</table>\n",
       "<p>7507 rows × 1 columns</p>\n",
       "</div>"
      ],
      "text/plain": [
       "     country_name\n",
       "0        Maldives\n",
       "1         Finland\n",
       "2     Niger (the)\n",
       "3         Uruguay\n",
       "4        Zimbabwe\n",
       "...           ...\n",
       "7502   Kazakhstan\n",
       "7503      Liberia\n",
       "7504      Burundi\n",
       "7505      Hungary\n",
       "7506       Kuwait\n",
       "\n",
       "[7507 rows x 1 columns]"
      ]
     },
     "execution_count": 440,
     "metadata": {},
     "output_type": "execute_result"
    }
   ],
   "source": [
    "#Cleaning the country column part 1\n",
    "df_clean1 = df_final.country_name.str.replace('\\[.*?\\]', '').to_frame()\n",
    "df_clean1"
   ]
  },
  {
   "cell_type": "code",
   "execution_count": 441,
   "metadata": {},
   "outputs": [
    {
     "data": {
      "text/html": [
       "<div>\n",
       "<style scoped>\n",
       "    .dataframe tbody tr th:only-of-type {\n",
       "        vertical-align: middle;\n",
       "    }\n",
       "\n",
       "    .dataframe tbody tr th {\n",
       "        vertical-align: top;\n",
       "    }\n",
       "\n",
       "    .dataframe thead th {\n",
       "        text-align: right;\n",
       "    }\n",
       "</style>\n",
       "<table border=\"1\" class=\"dataframe\">\n",
       "  <thead>\n",
       "    <tr style=\"text-align: right;\">\n",
       "      <th></th>\n",
       "      <th>country_name</th>\n",
       "    </tr>\n",
       "  </thead>\n",
       "  <tbody>\n",
       "    <tr>\n",
       "      <td>0</td>\n",
       "      <td>Maldives</td>\n",
       "    </tr>\n",
       "    <tr>\n",
       "      <td>1</td>\n",
       "      <td>Finland</td>\n",
       "    </tr>\n",
       "    <tr>\n",
       "      <td>2</td>\n",
       "      <td>Niger</td>\n",
       "    </tr>\n",
       "    <tr>\n",
       "      <td>3</td>\n",
       "      <td>Uruguay</td>\n",
       "    </tr>\n",
       "    <tr>\n",
       "      <td>4</td>\n",
       "      <td>Zimbabwe</td>\n",
       "    </tr>\n",
       "    <tr>\n",
       "      <td>...</td>\n",
       "      <td>...</td>\n",
       "    </tr>\n",
       "    <tr>\n",
       "      <td>7502</td>\n",
       "      <td>Kazakhstan</td>\n",
       "    </tr>\n",
       "    <tr>\n",
       "      <td>7503</td>\n",
       "      <td>Liberia</td>\n",
       "    </tr>\n",
       "    <tr>\n",
       "      <td>7504</td>\n",
       "      <td>Burundi</td>\n",
       "    </tr>\n",
       "    <tr>\n",
       "      <td>7505</td>\n",
       "      <td>Hungary</td>\n",
       "    </tr>\n",
       "    <tr>\n",
       "      <td>7506</td>\n",
       "      <td>Kuwait</td>\n",
       "    </tr>\n",
       "  </tbody>\n",
       "</table>\n",
       "<p>7507 rows × 1 columns</p>\n",
       "</div>"
      ],
      "text/plain": [
       "     country_name\n",
       "0        Maldives\n",
       "1         Finland\n",
       "2          Niger \n",
       "3         Uruguay\n",
       "4        Zimbabwe\n",
       "...           ...\n",
       "7502   Kazakhstan\n",
       "7503      Liberia\n",
       "7504      Burundi\n",
       "7505      Hungary\n",
       "7506       Kuwait\n",
       "\n",
       "[7507 rows x 1 columns]"
      ]
     },
     "execution_count": 441,
     "metadata": {},
     "output_type": "execute_result"
    }
   ],
   "source": [
    "#Cleaning the country column part 2\n",
    "df_clean = df_clean1.country_name.str.replace('\\(.*\\)', '').to_frame()\n",
    "df_clean"
   ]
  },
  {
   "cell_type": "code",
   "execution_count": 442,
   "metadata": {},
   "outputs": [],
   "source": [
    "df_temp = df_final.copy()"
   ]
  },
  {
   "cell_type": "code",
   "execution_count": 443,
   "metadata": {},
   "outputs": [],
   "source": [
    "#deleting the unclean column\n",
    "del df_temp['country_name']"
   ]
  },
  {
   "cell_type": "code",
   "execution_count": 444,
   "metadata": {},
   "outputs": [
    {
     "data": {
      "text/html": [
       "<div>\n",
       "<style scoped>\n",
       "    .dataframe tbody tr th:only-of-type {\n",
       "        vertical-align: middle;\n",
       "    }\n",
       "\n",
       "    .dataframe tbody tr th {\n",
       "        vertical-align: top;\n",
       "    }\n",
       "\n",
       "    .dataframe thead th {\n",
       "        text-align: right;\n",
       "    }\n",
       "</style>\n",
       "<table border=\"1\" class=\"dataframe\">\n",
       "  <thead>\n",
       "    <tr style=\"text-align: right;\">\n",
       "      <th></th>\n",
       "      <th>session</th>\n",
       "      <th>year</th>\n",
       "      <th>country</th>\n",
       "      <th>text</th>\n",
       "      <th>alpha-3_code</th>\n",
       "      <th>country_name</th>\n",
       "    </tr>\n",
       "  </thead>\n",
       "  <tbody>\n",
       "    <tr>\n",
       "      <td>0</td>\n",
       "      <td>44</td>\n",
       "      <td>1989</td>\n",
       "      <td>MDV</td>\n",
       "      <td>﻿It is indeed a pleasure for me and the member...</td>\n",
       "      <td>MDV</td>\n",
       "      <td>Maldives</td>\n",
       "    </tr>\n",
       "    <tr>\n",
       "      <td>1</td>\n",
       "      <td>44</td>\n",
       "      <td>1989</td>\n",
       "      <td>FIN</td>\n",
       "      <td>﻿\\nMay I begin by congratulating you. Sir, on ...</td>\n",
       "      <td>FIN</td>\n",
       "      <td>Finland</td>\n",
       "    </tr>\n",
       "    <tr>\n",
       "      <td>2</td>\n",
       "      <td>44</td>\n",
       "      <td>1989</td>\n",
       "      <td>NER</td>\n",
       "      <td>﻿\\nMr. President, it is a particular pleasure ...</td>\n",
       "      <td>NER</td>\n",
       "      <td>Niger</td>\n",
       "    </tr>\n",
       "    <tr>\n",
       "      <td>3</td>\n",
       "      <td>44</td>\n",
       "      <td>1989</td>\n",
       "      <td>URY</td>\n",
       "      <td>﻿\\nDuring the debate at the fortieth session o...</td>\n",
       "      <td>URY</td>\n",
       "      <td>Uruguay</td>\n",
       "    </tr>\n",
       "    <tr>\n",
       "      <td>4</td>\n",
       "      <td>44</td>\n",
       "      <td>1989</td>\n",
       "      <td>ZWE</td>\n",
       "      <td>﻿I should like at the outset to express my del...</td>\n",
       "      <td>ZWE</td>\n",
       "      <td>Zimbabwe</td>\n",
       "    </tr>\n",
       "    <tr>\n",
       "      <td>...</td>\n",
       "      <td>...</td>\n",
       "      <td>...</td>\n",
       "      <td>...</td>\n",
       "      <td>...</td>\n",
       "      <td>...</td>\n",
       "      <td>...</td>\n",
       "    </tr>\n",
       "    <tr>\n",
       "      <td>7502</td>\n",
       "      <td>56</td>\n",
       "      <td>2001</td>\n",
       "      <td>KAZ</td>\n",
       "      <td>﻿This session\\nthat is taking place under extr...</td>\n",
       "      <td>KAZ</td>\n",
       "      <td>Kazakhstan</td>\n",
       "    </tr>\n",
       "    <tr>\n",
       "      <td>7503</td>\n",
       "      <td>56</td>\n",
       "      <td>2001</td>\n",
       "      <td>LBR</td>\n",
       "      <td>﻿I am honoured to\\nparticipate in this histori...</td>\n",
       "      <td>LBR</td>\n",
       "      <td>Liberia</td>\n",
       "    </tr>\n",
       "    <tr>\n",
       "      <td>7504</td>\n",
       "      <td>56</td>\n",
       "      <td>2001</td>\n",
       "      <td>BDI</td>\n",
       "      <td>﻿It\\nis for me a signal honour to take the flo...</td>\n",
       "      <td>BDI</td>\n",
       "      <td>Burundi</td>\n",
       "    </tr>\n",
       "    <tr>\n",
       "      <td>7505</td>\n",
       "      <td>56</td>\n",
       "      <td>2001</td>\n",
       "      <td>HUN</td>\n",
       "      <td>﻿First, may I congratulate Mr. Han Seung-soo o...</td>\n",
       "      <td>HUN</td>\n",
       "      <td>Hungary</td>\n",
       "    </tr>\n",
       "    <tr>\n",
       "      <td>7506</td>\n",
       "      <td>56</td>\n",
       "      <td>2001</td>\n",
       "      <td>KWT</td>\n",
       "      <td>﻿On behalf of the State of Kuwait, it\\ngives m...</td>\n",
       "      <td>KWT</td>\n",
       "      <td>Kuwait</td>\n",
       "    </tr>\n",
       "  </tbody>\n",
       "</table>\n",
       "<p>7507 rows × 6 columns</p>\n",
       "</div>"
      ],
      "text/plain": [
       "      session  year country  \\\n",
       "0          44  1989     MDV   \n",
       "1          44  1989     FIN   \n",
       "2          44  1989     NER   \n",
       "3          44  1989     URY   \n",
       "4          44  1989     ZWE   \n",
       "...       ...   ...     ...   \n",
       "7502       56  2001     KAZ   \n",
       "7503       56  2001     LBR   \n",
       "7504       56  2001     BDI   \n",
       "7505       56  2001     HUN   \n",
       "7506       56  2001     KWT   \n",
       "\n",
       "                                                   text alpha-3_code  \\\n",
       "0     ﻿It is indeed a pleasure for me and the member...          MDV   \n",
       "1     ﻿\\nMay I begin by congratulating you. Sir, on ...          FIN   \n",
       "2     ﻿\\nMr. President, it is a particular pleasure ...          NER   \n",
       "3     ﻿\\nDuring the debate at the fortieth session o...          URY   \n",
       "4     ﻿I should like at the outset to express my del...          ZWE   \n",
       "...                                                 ...          ...   \n",
       "7502  ﻿This session\\nthat is taking place under extr...          KAZ   \n",
       "7503  ﻿I am honoured to\\nparticipate in this histori...          LBR   \n",
       "7504  ﻿It\\nis for me a signal honour to take the flo...          BDI   \n",
       "7505  ﻿First, may I congratulate Mr. Han Seung-soo o...          HUN   \n",
       "7506  ﻿On behalf of the State of Kuwait, it\\ngives m...          KWT   \n",
       "\n",
       "     country_name  \n",
       "0        Maldives  \n",
       "1         Finland  \n",
       "2          Niger   \n",
       "3         Uruguay  \n",
       "4        Zimbabwe  \n",
       "...           ...  \n",
       "7502   Kazakhstan  \n",
       "7503      Liberia  \n",
       "7504      Burundi  \n",
       "7505      Hungary  \n",
       "7506       Kuwait  \n",
       "\n",
       "[7507 rows x 6 columns]"
      ]
     },
     "execution_count": 444,
     "metadata": {},
     "output_type": "execute_result"
    }
   ],
   "source": [
    "#joining the cleaned data with the cleaned column\n",
    "df_finale = df_temp.join(df_clean)\n",
    "df_finale"
   ]
  },
  {
   "cell_type": "code",
   "execution_count": 445,
   "metadata": {},
   "outputs": [
    {
     "data": {
      "text/plain": [
       "38.373056994818654"
      ]
     },
     "execution_count": 445,
     "metadata": {},
     "output_type": "execute_result"
    }
   ],
   "source": [
    "#Number of statements delivered by countries\n",
    "df_finale.groupby('country_name').text.count().mean()"
   ]
  },
  {
   "cell_type": "markdown",
   "metadata": {},
   "source": [
    "The mean of the total number of statements delivered by all the countries is 38.73."
   ]
  },
  {
   "cell_type": "code",
   "execution_count": 446,
   "metadata": {},
   "outputs": [
    {
     "data": {
      "text/html": [
       "<div>\n",
       "<style scoped>\n",
       "    .dataframe tbody tr th:only-of-type {\n",
       "        vertical-align: middle;\n",
       "    }\n",
       "\n",
       "    .dataframe tbody tr th {\n",
       "        vertical-align: top;\n",
       "    }\n",
       "\n",
       "    .dataframe thead th {\n",
       "        text-align: right;\n",
       "    }\n",
       "</style>\n",
       "<table border=\"1\" class=\"dataframe\">\n",
       "  <thead>\n",
       "    <tr style=\"text-align: right;\">\n",
       "      <th></th>\n",
       "      <th>text</th>\n",
       "    </tr>\n",
       "    <tr>\n",
       "      <th>country_name</th>\n",
       "      <th></th>\n",
       "    </tr>\n",
       "  </thead>\n",
       "  <tbody>\n",
       "    <tr>\n",
       "      <td>Korea</td>\n",
       "      <td>50</td>\n",
       "    </tr>\n",
       "    <tr>\n",
       "      <td>Congo</td>\n",
       "      <td>46</td>\n",
       "    </tr>\n",
       "    <tr>\n",
       "      <td>Colombia</td>\n",
       "      <td>46</td>\n",
       "    </tr>\n",
       "    <tr>\n",
       "      <td>Japan</td>\n",
       "      <td>46</td>\n",
       "    </tr>\n",
       "    <tr>\n",
       "      <td>Sudan</td>\n",
       "      <td>46</td>\n",
       "    </tr>\n",
       "    <tr>\n",
       "      <td>...</td>\n",
       "      <td>...</td>\n",
       "    </tr>\n",
       "    <tr>\n",
       "      <td>Timor-Leste</td>\n",
       "      <td>13</td>\n",
       "    </tr>\n",
       "    <tr>\n",
       "      <td>Kiribati</td>\n",
       "      <td>13</td>\n",
       "    </tr>\n",
       "    <tr>\n",
       "      <td>Holy See</td>\n",
       "      <td>13</td>\n",
       "    </tr>\n",
       "    <tr>\n",
       "      <td>Montenegro</td>\n",
       "      <td>10</td>\n",
       "    </tr>\n",
       "    <tr>\n",
       "      <td>South Sudan</td>\n",
       "      <td>5</td>\n",
       "    </tr>\n",
       "  </tbody>\n",
       "</table>\n",
       "<p>193 rows × 1 columns</p>\n",
       "</div>"
      ],
      "text/plain": [
       "              text\n",
       "country_name      \n",
       "Korea           50\n",
       "Congo           46\n",
       "Colombia        46\n",
       "Japan           46\n",
       "Sudan           46\n",
       "...            ...\n",
       "Timor-Leste     13\n",
       "Kiribati        13\n",
       "Holy See        13\n",
       "Montenegro      10\n",
       "South Sudan      5\n",
       "\n",
       "[193 rows x 1 columns]"
      ]
     },
     "execution_count": 446,
     "metadata": {},
     "output_type": "execute_result"
    }
   ],
   "source": [
    "#checking if the obtained dataframe is correct\n",
    "each_country_stats = df_finale.groupby('country_name').text.count().sort_values(ascending = False).to_frame()\n",
    "each_country_stats"
   ]
  },
  {
   "cell_type": "markdown",
   "metadata": {},
   "source": [
    "The total number of statements delivered by each country is represented by \"each_country_stats\" which shows that Korea has the maximum number of statements i.e; 50 and South Sudan has least number of statements i.e; 5."
   ]
  },
  {
   "cell_type": "code",
   "execution_count": 447,
   "metadata": {},
   "outputs": [
    {
     "data": {
      "text/html": [
       "<div>\n",
       "<style scoped>\n",
       "    .dataframe tbody tr th:only-of-type {\n",
       "        vertical-align: middle;\n",
       "    }\n",
       "\n",
       "    .dataframe tbody tr th {\n",
       "        vertical-align: top;\n",
       "    }\n",
       "\n",
       "    .dataframe thead th {\n",
       "        text-align: right;\n",
       "    }\n",
       "</style>\n",
       "<table border=\"1\" class=\"dataframe\">\n",
       "  <thead>\n",
       "    <tr style=\"text-align: right;\">\n",
       "      <th></th>\n",
       "      <th>text</th>\n",
       "    </tr>\n",
       "    <tr>\n",
       "      <th>country_name</th>\n",
       "      <th></th>\n",
       "    </tr>\n",
       "  </thead>\n",
       "  <tbody>\n",
       "    <tr>\n",
       "      <td>South Sudan</td>\n",
       "      <td>5</td>\n",
       "    </tr>\n",
       "    <tr>\n",
       "      <td>Montenegro</td>\n",
       "      <td>10</td>\n",
       "    </tr>\n",
       "    <tr>\n",
       "      <td>Holy See</td>\n",
       "      <td>13</td>\n",
       "    </tr>\n",
       "    <tr>\n",
       "      <td>Kiribati</td>\n",
       "      <td>13</td>\n",
       "    </tr>\n",
       "    <tr>\n",
       "      <td>Timor-Leste</td>\n",
       "      <td>13</td>\n",
       "    </tr>\n",
       "  </tbody>\n",
       "</table>\n",
       "</div>"
      ],
      "text/plain": [
       "              text\n",
       "country_name      \n",
       "South Sudan      5\n",
       "Montenegro      10\n",
       "Holy See        13\n",
       "Kiribati        13\n",
       "Timor-Leste     13"
      ]
     },
     "execution_count": 447,
     "metadata": {},
     "output_type": "execute_result"
    }
   ],
   "source": [
    "# The five countries that have delivered the fewest statements in total\n",
    "df_finale_ = df_finale.groupby('country_name').text.count().sort_values(ascending = True).to_frame()\n",
    "df_finale_.head(5)"
   ]
  },
  {
   "cell_type": "markdown",
   "metadata": {},
   "source": [
    "The countries that have delivered fewest statements are represented by the variable \"df_finale_\". They are as follows:\n",
    "1. South Sudan = 5 statements\n",
    "2. Montenegro = 10 statements\n",
    "3. Holy See = 13 statements\n",
    "4. Kiribati = 13 statements\n",
    "5. Timor-Leste = 13 statements"
   ]
  },
  {
   "cell_type": "markdown",
   "metadata": {},
   "source": [
    "### <span style=\"color:magenta\"> Q2. [15 pts] Search with regex\n",
    "1. Select the text of three different statements.\n",
    "1. Pick one of the texts and find the count of how many times terms like cooperation, cooperate, cooperating, cooperated, cooperates are in the text.\n",
    "1. Pick another one of the texts and find the count of how many times terms like democracy, democratic, democracies, democratically, nondemocratic, and undemocratic are in the text.\n",
    "1. Use the remaining text to find the count of how many times numbers or words about numbers are in the text. For instance, 1, first, one, 1st, etc. \n",
    "   - This is challenging and we don't expect you to find every single instance. Try your best at finding as many as possible but your solution must cover some combination of numbers and words referring to numbers."
   ]
  },
  {
   "cell_type": "code",
   "execution_count": 448,
   "metadata": {},
   "outputs": [
    {
     "data": {
      "text/plain": [
       "\"\\ufeffIt is indeed a pleasure for me and the members of my delegation to extend to Ambassador Garba our sincere congratulations on his election to the presidency of the forty-fourth session of the General Assembly. His election to this high office is a well-deserved tribute to his personal qualities and experience. I am fully confident that under his able and wise leadership the Assembly will further consolidate the gains achieved during the past year.\\nMy delegation associates itself with previous speakers in expressing its appreciation of the dedicated efforts of his predecessor, His Excellency Mr. Dante Caputo, for the exemplary manner in which he discharged his duties as President of the forty-third session of the General Assembly.\\nAs in previous years, my delegation wishes to note its satisfaction with and gratitude for the assiduous and unrelenting efforts exerted by the Secretary-General of the United Nations in the cause of peace and international harmony. We pay a tribute to him for his untiring efforts to promote conditions conducive to the realization of the noble principles enshrined in the Charter of the United Nations, we praise and congratulate him on the successes the Organization has achieved in recent years. More particularly we praise him for the renewed faith and regeneration of confidence in the Organization and its ability to Play an instrumental role in the peaceful settlement of disputes.  \\nToday we find ourselves at an important crossroads. Recent years have witnessed a welcome positive change in the international political climate. The confrontational tone evident in super-Power relations not too long ago continues to show signs of thawing. At the same time,, a number of regional and sub regional conflicts have taken momentous strides towards resolution. Many more protracted conflicts show signs of hope and movement. Though one might argue that the present situation continues to be delicate, the process made can hardly escape notice and is indeed worthy of recognition. \\nDevelopments in southern Africa, and more particularly in Namibia with regard to the implementation of the United Nations independence plan, are welcome signals of hope, but amidst the hopes there are still dark reminders of the precariousness of global political reconciliation. A number of problems remain unsolved and several of these, such as the conflicts in the Middle East, continue to simmer.\\nWe are therefore at an important crossroads. We feel that there is enough good will to set in motion the process of evolution towards peace and stability. We see signs that the human intellect is resourceful enough to devise ideas that are conducive to our survival. Fresh concepts of peace and security have gained currency, but at the same time we continue to live under the dark shadow of nuclear devices. The proliferation of nuclear weapons, both horizontally and vertically, is a tragic reminder of the difficulties and obstacles which stand between mankind and lasting peace.\\nOn the economic front hard choices need to be made. The 1980s have witnessed one of the longest spells of growth for the industrialized countries, while the situation in the South, particularly in the least developed countries, continues to deteriorate. Benefits of trade continue to be disproportionate. Commodity prices have not regained their value in real terms. Aid flows continue to be inadequate. The debt burden borne by many third world countries is stifling economic growth and efforts for development, causing political instability. The link between economic development and the environment has recently been recognized and it is encouraging to note the high profile given to environmental issues at the Paris summit meeting of the Group of Seven in July this year, in this regard, it is of particular interest that there is an increasing awareness and acceptance of the fact that certain technologies have a deleterious effect on the environment. The question is how these technologies can be replaced through a global programme of co-operation.\\nNo single fact, no single object, defines our moment in civilization more than does the existence of large nuclear arsenals. we have the horrible capacity to destroy our planet several times other, either by accident or by design. Nuclear weapons instil fear and beget mistrust and insecurity. They have a remarkable tendency to set hostile relations in concrete. They aggravate the security dilemma of states and perpetuate a confliction mode of behaviour. This, therefore, fuels the arms race and defence budgets soar while expenditures that are benevolent tend to plummet. \\nThe UN Conference on the relationship between disarmament and development served as a timely reminder of the opportunity costs of armaments, both nuclear and conventional. However the opportunity cost of nuclear weaponry is not only development. The international political climate and the security perceptions of states, as well as the environment, are actual and potential sacrifices to\\nnuclear weapons. Furthermore. the potential horizontal proliferation of nuclear weapons issues the stark and grim warning that regional rivalries would be on an ever shorter fuse and that cataclysm would be that much closer.\\nIt is in view of these strong objections  to nuclear weapons and their Proliferation and deployment that my delegation has consistently and strongly supported United Nations calls for disarmament.\\nThe confidence that can he derived from genuine arms reduction has a pervasive effect on the security environment. The transition that many of the world's conflict, are making towards negotiations and understanding owes a great deal to improved relations between the super-Powers, which were themselves in part inspired by the historic arms reduction agreement of December 1987 for this reason -at Maldives has always supported all efforts with a view to general and complete disarmament, including the total elimination of chemical and bacteriological weapons and reduction in conventional armaments. We also believe that nuclear-weapon-free zones and zones of peace could inspire trust, good Will and operation among states, transforming into secure communities contributing to global peace and security. We therefore support calls for the establishment of nuclear-weapon-free zones and zones of peace. \\nI express my delegation's fullest support for the people of Namibia, with our Namibia achieved their independence.  Apartheid is an affront to mankind and a crime against humanity. No amount of tinkering with it can placate the sense of outrage and indignation felt by the world community for this immoral practice. No amount of cosmetic change can restore Justice and dignity to the oppressed majority in South Africa. Maldives express our solidarity with the oppressed majority in South Africa in their struggle against apartheid. We condemn unequivocally the system of apartheid and condemn Pretoria regime for its continued defiance of the UN resolutions.  \\nBy far the greatest conflict in our time has been and continues to be the conflict in the Middle East. At the heart of this conflict is the question of Palestine. However, it is only in recent years that the Palestinian issue has evoked even a reasoned amount of concern in some key States. The search for peace continues to be frustrated by the hard-line and obstinate policies of Israel. Meanwhile, the situation in the occupied territories continues to deteriorate. The 22 month long intifadah emphasizes the intensity of the situation posed by Zionist occupation of Palestine and other Arab territories, including Jerusalem.\\nThe Government of Maldives strongly condemns the use of brutal force and the blatant abuse of human rights by Israel against the Palestinian people in the occupied territories. We also deplore the continued defiance by Israel of United Nations resolutions and its violation of international law and all norms of civilized behaviour. We reiterate our full support and solidarity with the people of Palestine in their just struggle for self-determination and independence. We therefore welcome the overwhelming international support for the uprising, which is being viewed as the just and valiant struggle of the Palestinian people for the restoration of their inalienable rights. We extend our whole-hearted support to the proposal for an early convening of an international conference on the Middle East with the full and independent participation of Palestine.\\nThe situation in Lebanon remains volatile. The civil war, now in its fifteenth year, continues to take an increasing toll of human life. We fervently hope that, with the developments taking place in the region and elsewhere, the question of Lebanon will be solved in a manner which will restore its independence and national integrity, and alleviate the sufferings of its people. We welcome the efforts undertaken by the members of the Arab league, both past and present, to resolve the situation in Lebanon and we request the international community to give their support to the people of Lebanon in their efforts to solve their problems.\\nOn a more hopeful note, we are pleased that, contrary to some early pessimistic assessments, the cease-fire agreed on between Iran and Iraq in the Gulf has held firm, indicating the sincerity of the parties to the conflict. We welcome the commitments undertaken by them to resolve the conflict by peaceful means. In particular, we applaud the efforts of the United Nations Secretary-General for the resolution of this conflict and urge both parties to maintain the momentum of peace created and envisaged by the cease-fire. \\nWhile we welcome the positive developments in Afghanistan - I refer to the withdraw of foreign troops - we regret that the situation has not been completely settled. We reiterate our call upon all parties concerned to adhere to the provisions of the Geneva Agreements in order not to frustrate the prevailing opportunities for a just and lasting solution to the problem. We urge the international community to provide humanitarian and economic assistance for the relief and rehabilitation of refugees, as well as for the long-term reconstruction of that ravaged country.  \\nPositive strides have been taken towards the solution of the Kampuchean problem. We welcome the withdraw of the Vietnamese troops and we appreciate the diplomatic efforts to obtain a comprehensive and lasting solution to the dispute including the Jakarta informal meeting as well as the international conference in Paris. However, realizing the delicacy of the current situation, we call upon all parties concerned to exercise restraint. \\nThe process of reunification of peoples should be through peaceful means and by the creation of conditions conducive to reconciliation, peace and stability among those sharing the same aspirations. We remain optimistic about the prospects for peaceful national reconciliation in the Korean peninsula. The good office of the UN could be utilized in these peace negotiations.  \\nAnother issue that needs our attention is the situation in Cyprus. That prolonged inter-communal dispute should be solved urgently, with due regard to the national integrity of the nation and the aspirations of its peoples. We welcome the recent high-level contacts between the two communities and hope that the revived inter-communal dialogue will lead to inter-communal reconciliation on the basis of equality and integrity for both communities. We commend the tireless and sincere efforts of the Secretary-General in searching for a settlement to the conflict.\\nAs I have already noted, the world economic situation continues to be bleak for the developing countries. Their situation has been worsened by the limited of aid since the early 1980s, rampant domestic inflation, crippling debts and the exorbitant burden of debt-servicing. The situation is aggravated by their falling share in international trade, by persistent negative trends in the terms of trade, owing to protectionism, and by the upsurge in unilateralism and other practices that jeopardize the multilateral nature of trade. It is regrettable that, on the whole, despite recent measures whereby the resources of the international finance institutions have been increased by the plans of some of the most developed countries to recycle part of their surplus into the developing countries, the internationally agreed target of 0.7 per cent of gross national product (GNP) as official development assistance has not been met. Moreover, as regards the least developed countries, which continue to register negative growth rates, the official development assistance target of 0.15 per cent of GNP has not been met either.\\nEconomic insecurity is not the only visible threat facing many of us in the world today. Indeed, we consider the environment to be one of the most important aspects of the quality of life that we have to address now in our quest for economic and industrial development. We welcome the proposed United Nations conference on environment and development and regard the event as a valuable opportunity which should be fully utilized to promote a comprehensive approach to the environmental problems related to the development activities of mankind.\\nWhile serious efforts are being made at global, regional and national levels to protect the environment, my delegation is particularly concerned about the effects of the degradation of the environment, especially the depletion of the ozone layer and the consequent global warming and rise in sea level. Maldives is a low-lying archipelagic State, entirely dependent upon its surrounding seas. Any degradation of the marine ecosystem, or any rise in the mean sea level, is a matter of grave concern to the Maldives, it will be recalled that two years ago we witnessed the fury of tidal eruptions, which caused extensive damage, with the assistance of friendly countries, we have embarked upon a programme of protecting the populated islands from possible natural calamities. Tidal waves, hurricanes and typhoons are increasingly frequent phenomena, and today there is a greater awareness that man's tampering with the environment and certain technologies inimical to the environment do have a direct bearing on the behaviour of the global weather system.\\nMaldives therefore strongly supports the call for environmental preservation and is already a party to the Vienna Convention for the Protection of the Ozone Layer and the Montreal Protocol on Substances that Deplete the Ozone Layer. Our interest in the issue continues undiminished, and we welcome the universal interest that has been expressed in the preservation of the environment. I should like also to mention that in November this year the Maldives will host a conference of small States on sea-level rise. We are confident that the conference will contribute to the global efforts in addressing this important issue.\\nIt is an old and true maxim that the best indicator of the strength and stability of an international security system or political order is the survival of its weakest members. That being the case, and in view of the implications, the ever-increasing dangers of terrorism and mercenarism to the sovereignty of small and weak States are appalling.\\nTerrorism is not simply a minor irritant to anybody - least of all, to the small nations whose sovereignty is not only held hostage but can be easily usurped. The very existence of this possibility in the first place does not augur well for the security of the international community. The cherished principles that have so long contributed to the survival of the present State system and that are indispensable values of our global civilization are at stake. Today it may be we, the small States, whose sovereignty can be robbed by a handful of mercenaries or a gang of bounty hunters. Tomorrow it could be the larger countries, which, even at present, face some erosion of their sovereignty and security by similar acts. The difference is that when a small State is subjected to a terrorist onslaught or an invasion by mercenaries the consequences can be irreversible, both in political and in economic terms. We in the Maldives were close to becoming the victim of such a dastardly attempt last November.\\nIt is evident that peoples engaging in acts of terrorism and mercenarism, which endanger the sovereignty and territorial integrity of States, need to be deterred. The security of small States is too weak to be taken care of by mere self-help. The implications that efforts to strengthen their own security have for the prospects of economic development through the severe, if at all affordable, opportunity costs and the impact on social and political values, as well as the long-term implications for the sustenance of democracy in a militarised society, are negative. By requesting the inclusion on the agenda of the Assembly of an item related to the protection and security of small States, we sought to highlight the issue that I have just mentioned. We brought the issue to this forum not because we are unwilling to defend our values, nor have we taken it up here because our peoples lack valour. \\nSmall States do have as friends States that can assist, and have assisted, in strengthening their security. While we are grateful for the sense of duty that these friends have shown, it is with regret that we note that bilateral security arrangements in the international system have not yet evolved to a level of maturity whereby the interests of the weaker partner can be safeguarded. Nor are the socio-political identity of the weaker State and the principle of sovereign equality strong enough to be impervious to the possible vicissitudes of unequal relationships. Moreover, our political systems continue to be afflicted by misconceptions which can distort actions taken with the best of intentions. Consequently, the greater the power differential, the greater the propensity to misconceptions and the more hapless the predicament of the weaker parties. It is for this reason that we believe that multilateral frameworks are the most feasible nodes of a sound security mechanism for the weakest Members of the Organization, even if the actual support or assistance in a given situation is rendered at a regional or bilateral level.\\nAs I noted earlier, it is my humble opinion that we are at a pivotal point, an important crossroads in our global political development. It is our belief that we are at a particularly auspicious moment in history to forge ahead in strengthening the norms of our global political and security systems. Thus it is our sincere hope that the Organization will take a similar momentous step, a leap forward in ushering in a new era of security for the small States. We trust that this critical step will be taken to safeguard the principles which are espoused by the Organization and on which the survival of a large number of this community depends.\\n\""
      ]
     },
     "execution_count": 448,
     "metadata": {},
     "output_type": "execute_result"
    }
   ],
   "source": [
    "text1 = df_final.text.iloc[0]\n",
    "text1"
   ]
  },
  {
   "cell_type": "code",
   "execution_count": 449,
   "metadata": {},
   "outputs": [
    {
     "data": {
      "text/plain": [
       "\"\\ufeffI should like at the outset to express my delegation's satisfaction and pleasure at your election, Sir, to the presidency of the General Assembly at its forty-fourth session. The unanimity of that decision reflects not only your own distinguished record as Foreign Minister and Permanent Representative of your country to the United Nations but also the prestige of your country, Nigeria, of which all of us in Africa are proud.\\nThe outgoing President of the General Assembly, Mr. Dante Caputo of Argentina, shouldered the responsibility of his office with distinction in a momentous and difficult year. We wish to acknowledge our debt to him.\\nOur Secretary-General, Mr. Javier Perez de Cuellar, has been at the head of our Organization during some of its roost troubled and also some of its most productive and successful years. The turnaround in the fortunes of the United Nations during his watch owes much to the skill of the helmsman and we want to reassure him of our continued confidence.\\nThe current session of the General Assembly must seriously address itself to problems affecting the world economy. In the vital field of international economic relations, the fresh breeze that has led to such excitement in international political relations has not even made a ripple. The direction of the world economy is still determined by a small circle of rich and powerful nations for which short-term expediency and the requirements of individual national economies have all too often taken precedence over the steps required for a healthier world economy from which all States would benefit in the long run. For the smaller countries the result has been a collapse in commodity prices causing severe prejudicial terms of trade, where several times the volume and quality of produce is now required to purchase the same amount of manufactured goods from the North than was required only a few years ago. In addition, the necessary borrowing on the part of the developing countries, coupled with high interest rates, has resulted in a debilitating debt-service burden for those countries that has culminated in a net reverse transfer of resources from South to North in the order of nearly $50 billion annually according to the calculations of international financial institutions. Fifty billion dollars annually is a very big amount to owe and we ate informed that more money is still continuing to flow from the developing countries to the developed countries. \\nHow can we, in all conscience, talk of kinder, gentler times and continue to countenance the continual transfer of such a phenomenal amount of resources from the poor and the hungry to the rich and the affluent? We welcome the positive developments on the international political stage and we believe that all peoples should enjoy political and civil rights. Conscience, however, enjoins us to submit that these rights are not enough. People have economic and social rights as well: the right to good health, the right to food and shelter, and above all the tight to a decent standard of living. It should be the lot of no one to suffer the degradations of illiteracy and poverty. Hunan rights are a package the elements of which are mutually reinforcing, and the denial of any of them weakens the entire package. A poor man, a sick man and an illiterate man are just as manacled as the man who is denied individual freedom or the right of free speech. It is the package that is important, for it goes beyond the selective, and at times cynical, championing of this or that right to the core of the purpose of existence·, the tight to a decent and meaningful life. Any attempt to separate one from the other or to compartmentalize these rights and champion one right at the expense of the other is to sow confusion and set the stage for futile recriminations.\\nAll States represented in the Assembly should subscribe to that view and attempt to pursue the objective of a good and decent existence for all human beings. The pursuit of a healthier world economy, of growth and development of the poorer countries and of fairer terms of trade between the North and the South is fundamentally a struggle for human rights and for the tight of people to a decent existence.\\nIn our interdependent world that struggle must involve a concerted approach, including greater recourse to multilateral mechanisms on the part of all States. Nations must act together to solve the global and interrelated problems of the world economy, as low commodity prices, high interest rates and acute external Indebtedness. The politics of inclusion that appear to be gaining ground in international political relations, particularly through professions by the big Powers of their readiness to give a larger role in the management of international affairs to the United Nations, should also be reflected in international economic relations.\\nThe initiative taken by the developing countries in urging the Assembly to hold a special session on economic co-operation, in particular for the revitalization of the growth and development of developing countries, in April 1990, is a timely development. The special session should focus on the need to renew the stalled North-South dialogue and on the direction of the world economy. I am pleased to note that the recent summit Conference of the Countries of the Non-Aligned Movement, held at Belgrade, endorsed this suggestion and all the member States of the Non-Aligned Movement will be co-operating in the exercise. In this era, when economic mega-blocs are in the process of being formed in North America and in Europe, and where East and West are drawing closer in many spheres, it is essential that developing countries are not left out of the discussions and the mechanisms that will affect the future course of international economic and political relations. We also note that preparations are under way for the elaboration of the international development strategy for the Fourth United Nations Development Decade. We wish to stress the complementarity we see between that process and next year's special session on economic co-operation, to which I have already referred.\\nFollowing the 1986 special session of the General Assembly on the critical economic situation in Africa, the Assembly adopted the United Nations Programme of Action for African Economic Recovery and Development 1986-1990. That Programme represented a compact between the African countries and the international community, especially the donor countries. The African countries were to take steps to redress their economies through structural adjustment programmes, which they have done - often at a significant social and political cost - and the international community undertook to create an international environment conducive to African recovery by facilitating an increase in commodity prices and resource 21ows to the continent. The mid-term review of the implementation of the Programme, annexed to resolution 43/27 of 1988, clearly states that the international community has not kept its side of the bargain. The African States have made the adjustments that were required of them. Let me echo the words of Mr. Michael Manley, Prime Minister of Jamaica, when he sand recently: ,We have done everything that was asked of us. But what has the other side done?, \\nCommodity prices have continued to fall and resource flows to Africa have not increased in any appreciable way. Given the sacrifices the African countries have made to keep their part of the bargain, it is important that the Programme be made o work. Since the review of the Programme will take place in 1991, and the programme itself is to run only up to 1990, it is important that the Programme be mandated to run until the final review, and we hope that decision will be taken at this session. \\nProblems of the environment affect the entire globe, which is our common abode, and many speakers have referred to this important factor. From the depletion of the ozone layer to the poisoning of the atmosphere and the rivers, the degradation of the environment affects all of us. The global warming of the general climate affects com tries in Europe, in the Americas, Africa and everywhere. For us in Africa the problem of the environment is important as we face what one representative has described here as the encroaching deserts. We have heard from many delegations of the encroachment of the desert on to their own fertile lands. We also have the related problem of the dumping of nuclear and toxic wastes which have been the subject of resolutions by the Organization of African Unity (OAU), the International Atomic Energy Agency and the General Assembly itself, last year. Greater responsibility is needed in the way the world uses its natural resources and disposes of the dangerous waste products of its factories. In the last year representatives will have read press reports about the very dangerous dumping of wastes in certain African countries, which action was rightly condemned by the OAU and other internal forums. We therefore welcome the intention to hold a special international conference on the environment in 1992. \\nWe are also aware that all too often the weak ate made to pay for the sins of the strong - if only because controlling the strong is so much more difficult. It is important that the burden attendant upon safeguarding the environment should be shared judiciously according to resource usage, waste production and need. Particularly, it is essential that no new obstacles are put in the path of the economic progress of the developing countries, which are already at the receiving end of the imbalances and inequities of the present international economic order and of the abuse and misuse of the international environment. \\nRespect for the right of peoples to self-determination and independence is not only just? it is also good politics and essential to the attainment and maintenance of world peace. The General Assembly clearly recognized that fact when it adopted the Declaration on the Granting of Independence to Colonial Countries and Peoples way back in December 1960. Yet today, nearly three decades later, colonialism is still very much in evidence. Again, that is a practical reality of our times. The right of peoples to decide their own destiny is being denied not only in the well-publicized cases of southern Africa and the Middle East, especially Palestine, but also in countries in the Pacific, the Caribbean basin and elsewhere. \\nHowever, the major issue facing the Organization this year is the decolonization of Namibia. That is as it should be. The birth of a new nation is a supreme event in international affairs. And when the United Nations is the appointed intermediary the event becomes even more special to all of us. We ate now entering the horns stretch in the implementation of the Namibian independence plan. Much ground has already been covered and much reference has been made to this phenomenon in speeches we have heard in the last two weeks. But a lot more still remains to be done in the remaining four-and-a-half weeks. Pretoria and its functionaries in Namibia are still refusing fully to comply with Security Council resolution 435 (1978)  the South West Africa Territory (SWATP) command structure has not been disbanded, end we are told that it has only been stood down  the so-called disbandment of Koevoet on 30 September has proved to be illusory  restrictive laws, in particular AG-23, continue to inhibit freedom of assembly and the registration, electoral and constituent Assembly proclamations leave much to be desired. These proclamations were affected only last week, end more information is still being given as to what exactly has been agreed to. Some improvements have been made, some changes have been recorded, and we commend the United Nations Transition Assistance Group (UNTAG) for this, but we need to be vigilant and to ensure that in the next four-and-a-half weeks nothing will be done to reverse the clock. Intimidation of followers of the South West Africa People's Organization (SWAPO) by the South-African-sponsored Democratic Turnhalle Alliance (DTA) end the South West African Police is regularly reported. In fact, if members read Namibian newspapers they will find they ate full of reports of attacks on SWAPO men and supporters, at times with the police just standing by. UNTAG police units are stretched to the breaking-point we are told, and the assassination of SWAPO leaders has actually taken place.\\nSo, while we ate on the home stretch, a grave situation still surrounds events in Namibia, and it is important that we should all keep our guard and remain vigilant. As we enter these final weeks of the election campaign the desperation of the anti-SWAPO forces in Namibia is becoming evident daily. It is important, therefore, that urgent action be taken to strengthen UNTAG police units and to increase the number of projected electoral monitors. We are very pleased that a number of States represented here have agreed and are going to send observers, monitors and guests to Namibia over the next few weeks to observe what will be happening. The more observers, the more guests, the more people we can have in that country, the better. We welcome the effort being made by many States around the globe.\\nMeanwhile, the United Nations must prepare well-thought-out plans for the post-election period in Namibia, assuming the election proceeds satisfactorily. For there can be no doubt that, as the decolonizing authority, the United Nations has a continuing responsibility to see that Namibia's independence is a success. A good mother does not give birth only to abandon the baby immediately. This session of the General Assembly must ensure that the United Nations prepares itself to be a good mother. My delegation is ready to contribute in the process of clarifying the united Nations role during the transition period following the elections and in the elaboration of a continuing United Nations responsibility to ensure that Namibian independence is a success. These are urgent tasks which require our immediate attention. Every effort has been made to draw the attention of the United Nations Secretary-General and of the United Nations generally to these natters, especially the question of convening the Assembly after the elections. Whoever wins the election, it is not yet clear how the Assembly will be convened and how it will proceed to draw up the constitution leading to independence. We would be pleased if the United Nations would remain seized of these problems and would continue to provide solutions until the time of independence itself.\\nIn South Africa itself, apartheid, the root cause of all the problems in southern Africa, continues to be firmly entrenched. The state of emergency still continues  Mandela and other political prisoners remain incarcerated j liberation and mass democratic movements ant still proscribed·, the Group Areas Pet and other obnoxious legislative acts continue to be on the apartheid statute books. That is the reality of the situation in South Africa itself.\\nPresident de Klerk's talk of reform so far remains only mere talk. It is important that the Pretoria regime be urged to go beyond rhetoric to concrete action. The liberation movements are ready to engage President de Klerk in serious negotiations. They have formulated an imaginative negotiating platform which was adopted by the OAU Ad Hoc Committee on Southern Africa, in Harare, on 21 August 1989, as well as by the ninth non-aligned summit conference in Belgrade, It is on the table for South Africa to take advantage of. This is an olive branch from the liberation movement. It outlines a number of confidence-building measures needed before negotiations can begin and sets out the fundamental human rights that should guide the formulation of a new constitutional dispensation for a future South Africa. It is quite obvious of course that negotiations, or any form of dialogue, cannot take place while the leaders are incarcerated in gaols or while the present restrictions emanating from the state of emergency remain. The international community has warmly welcomed this important initiative for peace to which I have just referred, taken by the liberation movement. So far Pretoria has remained mum on this proposal. We are told that certain of the seven leaders who are now incarcerated nay be released sooner or later. That might be a palliative, but what we need is a complete and full constitutional dispensation that can being peaceful conditions in which negotiations can truly take place for the future of an independent South Africa.\\nUntil Pretoria dismantles apartheid it is important that the international community intensifies its pressure on it and increases the sanctions against it. There is no secret about the fact that Pretoria is now talking reform is directly related to the impact of international sanctions and the pressure exerted by the liberation forces and other democratic forces in South Africa. There is no doubt whatsoever that sanctions are working and can continue to work. They have damaged the South African economy to a great extent, as has been admitted by the economic spokesmen for that regime. Therefore, more sanctions will certainly put more pressure on the regime. The medicine is slowly taking effect. We appeal to those friends of Pretoria who oppose sanctions to join the rest of the international community in bringing meaningful pressure to bear on Pretoria by applying sanctions and supporting the liberation movement.\\nTo the international banking community we say that 1990 will be a critical year for the apartheid regime, because in that year it has to reschedule its debt. Rescheduling the debt is not an automatic right for the racist regime let it be a favour, granted as an inducement to meaningful change in South Africa. The concatenation of events makes the coming rescheduling exercise a particularly potent force for positive political developments in South Africa. We urge the bankers to use it. We have given them adequate information to ensure that they ace quite clear about the choices before then.  \\nElsewhere in southern Africa, there are regional efforts to bring peace to Angola and to Mozambique. The Assembly has heard statements by the Foreign Ministers of both those countries, elaborating on those measures. We in Zimbabwe appeal to outsiders to stop supporting rebel elements in Mozambique and Angola, especially UNITA in Angola, which has created difficulties in the process of reconciliation. We are seeking African solutions to African problems. The Organization of African Unity (OAU), the Movement of Non-Aligned Countries and the United Nations can help as requested and as required, but we ask them to give these initiatives a chance.\\nWe also seek peace efforts in the dispute between Mauritania and Senegal, the situation in the Sudan and the situation in Ethiopia. African solutions, initiated by the OAU, are at work in those situations, and we again appeal to outsiders not to interfere in the processes of reconciliation that ate taking place. We are satisfied that the initiatives taken by the Organization of African Unity, if given time to mature, will provide solutions and bring peace to the three areas I have mentioned.\\nWe are also anxious to see Western Sahara's independence consolidated with speed and firmness. The Secretary-General's efforts to bring permanent peace to Western Sahara are commended. We also commend the meetings that took place earlier this year between the King of Morocco and the POLISARID Front. We hope these efforts will continue.\\nThe denial of the Palestinian people's right to self-determination is a continuing sore in international relations. We deplore the heavy-handed methods of the occupation forces against the aggrieved heroic Palestinian nation. We wish to reiterate our conviction that only an international peace conference under United Nations auspices, with the Palestine Liberation Organization (PLO) as an equal partner are addressing all aspects of the Middle East crisis, can bring peace to the region. The proclamation of a Palestinian State last year was an important development in this area. We commended, and commend, the PIO for the step it took, and we are pleased that over 85 countries have recognized the Palestinian State. From that strong position, the Palestinian leadership should be able to proceed to meaningful negotiations with big Powers, small Powers and others in the region that are seized of the problem of Palestine. The independence of Palestine has been long delayed, and we should like to see the Palestinian people take their place as equal citizens alongside the peoples of other nations.\\nIn Central America, we welcome the decision to disband the contras and the scheduled elections in Nicaragua, which are to be monitored by the Organization of American States, the United Nations and a host of other international observers. We are pleased that a dialogue has resumed between the Salvadorian Government and the Marti National Liberation Front aimed at bringing peace to El Salvador. We urge flexibility on both sides so that a peaceful solution can be found to their conflict. The only warning we as outsiders would issue regarding the Central American situation again takes the form of urging outsiders not to interfere in the processes that are taking place there. The effort being made by the leaders of Central America to corns together and produce plans that enable them to enjoy self-determination and full human rights and provide peace for their own territories is commendable - if only outsiders do not interfere. In that respect, the main instigator of problems that have arisen in Central America is, of course, the United States, which has continued to fail in troubled waters in Latin America. \\nIn Afghanistan, we again urge all outside Powers to stop supplying arms to the opposing sides, and we call upon the Afghan people to negotiate an end to their civil war in a spirit of national reconciliation. We are pleased to note the departure of Soviet troops, and we are also pleased to note the confidence and patriotism that act brought to the Afghan people themselves. We hope that sooner or later they will convene a shura - an assembly - that will make it possible for all Afghans inside and outside Afghanistan to get together to resolve their problems. We believe all Afghans can solve their problems in peace in a shura, their traditional assembly which had met periodically over the past 300 or 400 years.\\nOn the question of Kampuchea, we welcome the withdrawal of Vietnamese forces and urge the parties concerned to negotiate their differences among themselves in order to arrive at an acceptable solution. We noted with disappointment the failure of the recent Paris Conference. We also noted with disappointment that both the Vietnamese and the Phnom Penh delegations to that Conference refused to accept the international mechanism that was suggested a United Nations peace-keeping force. We have made it clear to them, and we make it clear now, that we do not see any possibility of disarming the rival forces, bringing peace to Cambodia and holding elections there without the active participation of the United Nations. The United Nations has much experience with peace-keeping forces around the world, and, in our view, is the only organization that can assist in the peace-making and peace-keeping process. \\nWith regard to the Korean peninsula, it is our view that the Korean people should be left alone to negotiate their reunification without outside interference. We urge that the military manoeuvres by outside forces that often take place on the peninsula or in waters near it be stopped.\\nWith regard to Cyprus we appeal again to both parties to co-operate with the Secretary-General in the search for a lasting solution. We commend the meetings that have taken place under the chairmanship of the Secretary-General between the President of Cyprus and the representative of the Turkish Cypriots. Again, we call on outside Powers to cease interfering in the internal affairs of Cyprus.\\nIn Belgrade the leaders of the non-aligned countries called for self-determination for the remaining colonies of New Caledonia, Malvinas, Diego Garcia, Mayotte and a dozen other territories scattered across the globe. The forty-third session of the General Assembly declared an International Decade for the eradication of the retrograde system of colonialism. We repeat that call from this rostrum.\\nAs can be seen from the problems I have just touched upon, we have not yet readied the Promised Land, the new detente notwithstanding. Much remains to be done, and in that the United Nations must play a central role. We therefore welcome the declarations that have be τ made from this podium by the great Powers, renewing their faith in the United Nations. These days of change also mean a period of uncertainty, a period of opportunities, yet also of danger. In such a period, recourse to and respect for the Organization and its agencies becomes more indispensable than ever before.\\nIt was in recognition of that fact, and motivated by the desire to strengthen peace and the rule of law, as well as to bring the age of reason to international relations, that the non-aligned countries convened at The Hague, from 26 to 30 June 1989 a Conference on Pace and the Rule of law in International Affairs. We were pleased by the wide attendance at that Conference, which included important countries not members of our Movement. The Conference was a landmark in the struggle to bring the rule of law and the role of the World Court to the centrality they should enjoy in the resolution of conflicts and in the management of international relations. An important initiative was taken at the Conference to have the General Assembly declare at its current session a decade of international law from 1990 to 1999, leading to a third Hague Peace Conference. That is one of the concrete acts that can be achieved at this session of the General Assembly in the cause of peace, justice and the rule of law. We urge all Member States to support that noble initiative by the non-aligned countries. I am informed that a concrete proposal has already been submitted to the Sixth Committee and that it is now being debated.\\nLast - but by no means least - is the all-important issue of nuclear disarmament, to which I have not referred extensively in my statement. We have all had the opportunity to welcome the signing of the Treaty on the Elimination of Intermediate-Range and Shorter-Range Missiles - INF Treaty - in 1987. That was a truly significant step in the right direction, but what remains to be achieved is even more formidable. In comparison to that, the INF Treaty is indeed only the tip of the iceberg. The super-Powers have a special responsibility in this regard. As the possessors of the largest arsenals of nuclear, chemical and other weapons of mass destruction, they have a duty to take the lead in the disarmament process.\\nBut of course we of the non-aligned movement, as well as the Organization of African Unity, can take some credit for the fact that at the special session of the General Assembly convened last year to discuss the question of disarmament we made our position abundantly clear. We indicated the hazards of war with which the road to disarmament is replete, and we are pleased that our call has been heeded in some quarters.\\nToday the world still has many problems, but in 1989 there is a window of opportunity to address some of them. History will judge us harshly if we miss that opportunity.\\n\""
      ]
     },
     "execution_count": 449,
     "metadata": {},
     "output_type": "execute_result"
    }
   ],
   "source": [
    "text2 = df_final.text.iloc[4]\n",
    "text2"
   ]
  },
  {
   "cell_type": "code",
   "execution_count": 450,
   "metadata": {},
   "outputs": [
    {
     "data": {
      "text/plain": [
       "\"\\ufeff\\nPermit me to begin by warmly congratulating you. Sir on your election to the presidency of the current session of the General Assembly: I am sure that this session will be a success. I also wish to take this opportunity to express my sincere thanks to the President of the last session, Mr. Dante Caputo. For his outstanding contribution in fulfilling his high mission.\\nThe past year has been marked by fresh achievements in the efforts of various countries to seek solutions to regional conflicts, reduce the threat of war and improve the international situation, and by new prospects for world peace. However, ours is not a trouble-free world. regional conflicts have not yet come to a halt. The arms race is still going on. Certain international contradictions have sharpened, owing to violation of the established norms of international law. The economic situation in the developing countries is further deteriorating. All this demonstrates that the source of world turbulence and tension still exists. The Chinese delegation would like to expound its position on the major questions confronting the world today. \\nThe first question is regional conflicts. regional conflicts affect peace and tranquillity in the world and have caused direct, tremendous losses, particularly to many third-world countries. As a third-world country and a permanent member of the Security Council, China is naturally very much concerned about the issue of regional conflicts. The Chinese Government has all along stood for a fair and reasonable political settlement of those conflicts, and has played a constructive role in this regard.\\nIn accordance with the Geneva Agreements on the settlement of the Afghan question, the Soviet Union has withdrawn its troops from Afghanistan. That is a positive development. Genuine peace, however, has yet to come to the land of Afghanistan. We hope that the various political forces there will set up a broadly based coalition Government through consultation and achieve peace in that land so that the Afghan people may rebuild its country.\\nIran and Iraq reached a cease-fire a year ago on the basis of mutual acceptance of Security Council resolution 598 (1987), and each is now busy rebuilding its war-ravaged economy. We hope that these two developing countries, with which China enjoys friendly relations, will soon resume contacts and negotiations so as to turn their cease-fire into a lasting peace.\\nThe recent summit conference of the five Central American States has been well received by the international community, as it produced important new agreements on promoting the peace process in Central America. It is our hope that the United States also will respect the peace efforts of these countries. The smooth implementation of the agreements will benefit the stability and development of the region.\\nOver the past year positive changes have occurred on the scene of southern Africa. With the start of the process of Namibian independence, the ultimate accomplishment of the historic mission of decolonisation on the African continent is now in sight. Angola has made headway in trying to bring peace to the country. The Government of Mozambique is working hard to end the unrest in its country. The Chinese Government has always sympathized with and supported the Namibian people in their struggle for independence. We hope that Security Council resolution 435 (1978) and other relevant agreements will be seriously implemented and that the South African authorities will honour their commitment, so as to ensure the holding of a free and fair general election under effective United Nations supervision and to bring about Namibian independence as scheduled. We call on the international community to be watchful, to work to eliminate obstacles to the Namibian independence process and guard against any incident that may arise to the detriment of a free and fair general election.\\nThe Chinese Government has always supported the African countries in their just struggle against racism, and the efforts made by the front-line States and people in southern Africa to achieve peace and stability in the region and develop the national economy. We hope that their efforts will enjoy broad sympathy and vigorous support from the international community. The black people in South Africa are entitled to racial equality and democratic rights. We strongly demand that the South African authorities abrogate the universally condemned apartheid system, which is contrary to the spirit of our times.\\nSince the last session of the General Assembly there has been an ever-stronger call for a political settlement of the Middle East question. The just struggle of the Palestinians living in the West Rank and the Gaza Strip has clearly demonstrated that the question of ending the Israeli occupation and solving the Palestinian issue with no further delay. The Palestine Liberation organization has adopted a series of flexible and practical policies, winning wide appreciation and support from the international community. It is high time the Israeli Government went along with the trend of history by replacing its rigid position by a flexible approach.\\nThe Chinese Government stands for a settlement of the Middle East question through political means without resorting to force. We support the convocation of the International Conference on the Middle East under United Nations auspices with the participation of the parties concerned, including the five permanent members of the Security Council. We appreciate the efforts of the parties concerned in the Middle East question to conduct dialogues of such diverse forms as they deem appropriate. We demand that Israel stop forthwith its suppression of Palestinian residents in occupation zones and that it withdraw from the occupied Arab territories. We hope to see mutual recognition between the State of Palestine and Israel, guaranteed security both for Arab States and for Israel, and the peaceful coexistence of the Arab nation and the Jewish nation. That, in our opinion, is the correct way to lead a Middle East long plagued by turmoil to peace and tranquillity.\\nTogether with the other justice-upholding countries concerned, the Chinese Government has over the past 11 years consistently worked for a fair and reasonable settlement of the Cambodian question. To that end the United Nations has adopted 10 successive resolutions. The Cambodian question arose as a result of the Vietnamese invasion. Therefore, a comprehensive settlement of the question calls for an end to the Vietnamese invasion and the removal of its consequences. That is the very essence of the successive resolutions adopted by the United Nations on the Cambodian situation, and it is also the consistent position of the Chinese Government. during the transitional period from the withdrawal of Vietnamese forces to the holding of a general election in Cambodia, the only way to ensure peace and forestall a dangerous situation in the country is to set up a provisional coalition Government headed by Prince Sihanouk and composed of the four parties in Cambodia. Cambodia should be restored to its independent, neutral and non-aligned status, while the countries concerned should provide an international guarantee for that status. Recently, the International Conference on Cambodia was held in Paris; it was attended by foreign ministers of many countries and leaders of the four parties in Cambodia. This in itself is of major significance, but regrettably, the Conference did not produce the anticipated results, owing to the rigid position taken by Viet Nam and Phnom Penh on the proposal put forward by the majority of the States participating in the Conference for an international control mechanism under United Nations auspices, the establishment of a provisional quadripartite coalition Government headed by Prince Sihanouk, and a comprehensive settlement of the Cambodian question. As for the withdrawal of forces from Cambodia promised by Viet Nam, without the necessary international supervision people have reason to doubt whether Viet Nam has genuinely pulled out all its forces and military personnel of other categories. We hope that the international community will continue to follow the situation in Cambodia closely, render sympathy and support to the Cambodian people in their just cause, and keep working for a fair and reasonable ultimate settlement of the Cambodian question so as to remove completely this regional hot spot.\\nThe second question is disarmament.\\nThe past year has witnessed new progress in the field of international disarmament. The Treaty between the United States and the Union of Soviet Socialist Republics on the Elimination of Intermediate-Range and Shorter-Range Missiles - the INF Treaty - is being implemented. Positive results emerged from the International Conference on the prohibition of chemical weapons held in Paris last January. With the start last March in Vienna of. the negotiation on conventional armed forces in Europe and the subsequent specific proposals put forward by each side, long-deadlocked European conventional disarmament has taken a turn for the better. Moreover, the Soviet Union and some East European countries have decided to carry out a unilateral reduction in their forces and armament or withdraw some of them from abroad.\\nNevertheless, it is noted that the arms race between the United States and the Soviet Union has not come to a stop. They continue to vie with each other in developing high-technology weapons systems and in going all out to upgrade their nuclear weapons and have even extended their arms race into outer space. So the halting of the arms race and the achievement of effective disarmament remains an arduous task.\\nThe international community expects the United States and the Soviet Union to shoulder their special responsibility for disarmament by taking the lead in drastically reducing their nuclear arsenals and conventional armaments and by stopping their arms race in all forms, including that in outer space. It is our consistent view that chemical weapons should be completely banned and thoroughly destroyed. At the present session of the General Assembly, the United States and the Soviet Union have made proposals on the question of chemical weapons. We hope that they will take practical steps to stop production and development of those weapons and destroy their existing stockpiles, so as to facilitate the conclusion of an international convention on a comprehensive ban on chemical weapons.\\nDisarmament is a question bearing on world peace and the security of all countries. Therefore, all countries, big or small, strong or weak, nuclear or non-nuclear, should have an equal say in the question, and each can play an active role. The reasonable demands and propositions of the many small and medium-sized countries ought to be respected, and full play should be given to the role of the United Nations and the Conference on Disarmament in Geneva on disarmament issues. All this is highly necessary for the healthy development of the international disarmament process.\\nThe third question is the proper handling of State-to-State relations.\\nOver the past year a number of countries have improved their relations with each other to varying degrees, which is a valuable contribution to world peace. What is particularly encouraging is that the Arab States have closed their ranks, in a spirit of conciliation. Countries in Africa are working for increased peaceful co-operation on that continent, while Latin American countries have made further headway in their regional co-operation.\\nChina has all along devoted its efforts to the establishment and development of friendly relations and co-operation with other countries on the basis of the five principles of mutual respect for sovereignty and territorial integrity, mutual non-aggression, non-interference in each other's internal affairs, equality and mutual benefit, and peaceful coexistence. The past year saw even better and stronger relations between China and many other countries, especially its neighbours.\\nChina maintains a traditional friendship with the Democratic People's Republic of Korea. We are interested in peace and stability on the Korean Peninsula. We support the Democratic People's Republic of Korea's reasonable proposition on the independent and peaceful reunification of Korea, and wish to see positive results flow from the dialogue and contacts between the North and South of Korea. We have always enjoyed good relations with Pakistan, Bangladesh, Nepal, Sri Lanka, Thailand and many other neighbours in South and South-East Asia. We have normalized our relations with the People's Republic of Mongolia and Laos. Our relations with India are improving in many fields. The consultations on normalization of Sino-Indonesian relations are proceeding smoothly. The solidarity and co-operation between China and Arab States, African States and Latin American States have also made new progress.\\nIn May this year, China and the Soviet Union held a top-level meeting, thereby normalizing their bilateral relations. In a spirit of bidding farewell to the past and opening up the future, leaders of the two countries reviewed and summed up the history of Sino-Soviet relations and agreed to develop the bilateral relations on the basis of the Five Principles of Peaceful Coexistence. good-neighbourliness between the two big countries, China and the Soviet Union, is in the interests of not only their two peoples but also peace and stability in Asia and the world at large. This has been well received by the international community as it benefits the whole of mankind.\\nChina's relations with Western countries were on a course of steady development. However, difficulties of varying degrees have emerged over the past few months in our relations with certain Western countries. What has exactly happened? Has China acted contrary to the Five Principles of Peaceful Coexistence in its relations with these Western countries? No. Has China encroached upon their interests in any way? No. It is known to all that in late spring and early summer this year turmoil occurred in China's capital Beijing, which was aimed at subverting the Government of the People's Republic of China and overthrowing the socialist system stipulated in the Constitution of the People's Republic. It goes without saying that how to deal with this problem is China's internal affair. The whole world witnessed the fact that for almost two months the Chinese Government had exercised the utmost restraint and tried to solve the problem by persuasion and education rather than compulsory measures. It was not until the critical moment when the events had turned into an anti-government rebellion that the Chinese Government was compelled to take decisive measures to quell the rebellion. The overwhelming majority of countries in the world have expressed their understanding of this action by our Government. Only certain Western Governments, ignoring the facts and basing themselves on nothing but distorted news reports and misinformation, levelled unwarranted charges against the Chinese Government and applied pressure on it. It should also be noted that there is much evidence pointing to involvement in the above-mentioned events by some hostile foreign forces, which added fuel to the flames. They know full well what role they have played. In order to maintain State sovereignty and national dignity, it is only natural that the Chinese Government should have firmly rejected their meddling in the events in China and interference in its internal affairs, which contravene the norms governing international relations and the fundamental principles of the United Nations Charter. In their statements at the General Assembly in the past few days, the delegates of some countries continued to attack the Chinese Government groundlessly. To harp on 'democracy' and 'freedom' while indulging in the habit of making arbitrary criticisms and imposing one's own will on others in State-to-State relations represents precisely the kind of behaviour that goes against the historical tide. This is indeed regrettable.\\nThe day after tomorrow, the People's Republic of China will celebrate its fortieth anniversary. For China, 1 October 1949 is a day of great historic significance, marking the end of an era in which the Chinese people were subjected to every kind of national humiliation. Over the past four decades, foreign pressure on New China has never ceased, but what has come of it? New China is ever forging ahead. It has never feared, and will in no way bend to any foreign pressure. China's affairs can only be decided by the Chinese people, and China's policy can only be determined by the Chinese Government. Through long years of practice, we have found a development path suited to China's conditions, and we will continue along that path. We have formulated an independent foreign policy of peace attuned to the fundamental interests of the people of China and the world, and we will keep pursuing that policy. China will adhere to its policy of reform and opening to the outside world and continue to work for development of relations with other countries throughout the world.\\nA normal relationship between China and a foreign country serves mutual interests, whereas in case of a disruption of such a relationship, China will by no means be the only one to suffer. Past experience has repeatedly proved that normal State-to-State relations can only be based on the Five Principles of Peaceful Coexistence. China abides by these principles, and if other countries also do so, normal relations can certainly be established and developed between them. Herein lies the way out of the current difficulties in the relations of some Western countries with China.\\nThe fourth question is the establishment of a new international political order.\\nNow that the world has advanced to a stage where most former colonies and dependencies have won independence, all States should treat one another as equals and an end should be put to hegemonic practice. Yet, facts show that hegemonic practice and power politics still exist. From time to time, there are cases in international relations, such as the big bullying the small, the strong domineering over the weak, the imposition of one's own will on others, or even armed encroachment upon the sovereignty of another State and damage to its territorial integrity by force. Should these acts which contravene the norms governing international relations remain unchecked, there can be no tranquillity in the world or guarantee of peace.\\nWith the concerted efforts of the international community, the world now witnesses a trend towards relaxation of tension and increased contacts among nations. This is a good thing. But meanwhile, in international contacts, there are still obvious attempts to interfere in the internal affairs of other countries by various means in violation of the basic norms governing international relations. It is dangerous for State policies to be formulated and pursued with such attempts in mind, as it will detract from relaxation of international tension and lead to the continuation of the cold war. This is a question which merits the attention of the international community.\\nOn the one hand, there are vast numbers of countries in the world with quite different social systems, ideologies, values, historical backgrounds, cultural traditions and religious beliefs, and on the other hand, their interests predetermine the need for contacts with one another. Consequently, all countries are required to adopt a realistic attitude by recognising the diversity of the world, refraining from interfering in each other's internal affairs, and observing in their contacts the mutually accepted norms governing international relations. We firmly believe that such a world will be in line with the interests and aspirations of the people of all countries. I wish to use the forum of the United Nations to present this idea of the Chinese Government, hoping that statesmen of various countries will give it serious consideration when exploring the future of the world.\\nThe fifth question is the establishment of a new international economic order.\\nFor a long time developing countries have suffered greatly from inequitable exchanges, owing to irrationality in existing international economic relations. For them the recent years have seen worsening terms of trade, plummeting export earnings, dwindling production investment and heavy debt burdens. There has been even the phenomenon of reverse capital flow from poor to rich countries for many years running. So the tendency of poor countries to become poorer and rich countries richer is more pronounced than it was a decade ago. If allowed to continue, this situation will bring in its wake even more serious consequences for the whole world, including both the developing and the developed countries. The economic development of the third world has become a pressing issue affecting the global scene. Current international economic relations should not and cannot remain completely unchanged in the time to coma. The establishment of a new international economic order is the need of the times.\\nIn our view, the Five Principles of Peaceful Coexistence should also be abided by in the conduct of economic relations between countries. A country's economic problems can be solved only by the government and people of that country with policies appropriate to their national conditions. Economic contacts between countries should serve friendly co-operation between them and not be turned into means of exerting pressure on other countries or interfering in their internal affairs. Any attempt to impose a certain economic system or developmental model on other countries and to interfere in the economic policies or development efforts of developing countries means power politics in the economic sphere, it runs counter to norms of international relations and the current historical trend and will not work in practice.\\nTo promote the establishment of the new international economic order in the interest of common development of all countries, what is urgently needed at present is a new round of truly substantive North-South dialogue with emphasis on solving the pressing problems facing the developing countries, such as debt, trade, capital and finance. We call on the developed countries to respond constructively to the proposals for reviving the North-South dialogue made by the Conference of Heads of State and Government of the Non-Aligned Countries held in Belgrade in Sept either this year and the Special Ministerial Meeting of the Group of 77 held last June in Caracas. We hope that the special session of the General Assembly devoted to growth and development, scheduled for April next year, will arrive at a fresh common understanding on future international economic co-operation and will provide a sound guideline for it. We also hope that the new international development strategy being worked out will offer effective measures in this regard.\\nProtecting the environment has become a pressing issue of universal concern? it must be given full attention while efforts are made to solve the question of development. China has made the protection of the environment its State policy, we attach importance to and will participate in the United Nations conference on environment and development scheduled for 1992, and are ready to make necessary preparations for its convocation with other countries and relevant international organizations. We note with pleasure that, as the most influential international organization, the United Nations has in recent years had some outstanding achievements in facilitating the political settlement of regional conflicts, maintaining world peace, and promoting international co-operation and economic and social development. As a result, there is universal recognition of the importance of the United Nations. The positive efforts made by the Secretary-General have also won extensive acclaim from the international community.\\nThe final decade of the twentieth century is approaching. A new century is setting in, the times are progressing and the face of the world is changing. Like the entire international community, the United Nations is faced with unprecedented opportunities and extraordinary challenges. In order to adapt better to an ever-changing world, the United Nations needs to continue its own reform and further improve its efficiency. World peace and development need the United Nations, while the success of the United Nations depends on the support and co-operation of all its Member States. Together with the many other United Nations Member States, China is ready to fulfil the duties prescribed in the United Nations Charter and to contribute its share to a strengthened role of the organization in world affairs.\\n\""
      ]
     },
     "execution_count": 450,
     "metadata": {},
     "output_type": "execute_result"
    }
   ],
   "source": [
    "text3 = df_final.text.iloc[8]\n",
    "text3"
   ]
  },
  {
   "cell_type": "code",
   "execution_count": 451,
   "metadata": {},
   "outputs": [
    {
     "data": {
      "text/plain": [
       "1"
      ]
     },
     "execution_count": 451,
     "metadata": {},
     "output_type": "execute_result"
    }
   ],
   "source": [
    "#the count of how many times terms like cooperation, cooperate, cooperating, cooperated, cooperates are in the text.\n",
    "len(re.findall('co-?operat[a-z]+',text1))"
   ]
  },
  {
   "cell_type": "markdown",
   "metadata": {},
   "source": [
    "The number of times the terms like cooperation, cooperate, cooperating, cooperated and cooperates are seen in text1 is one."
   ]
  },
  {
   "cell_type": "code",
   "execution_count": 452,
   "metadata": {},
   "outputs": [
    {
     "data": {
      "text/plain": [
       "2"
      ]
     },
     "execution_count": 452,
     "metadata": {},
     "output_type": "execute_result"
    }
   ],
   "source": [
    "#the count of how many times terms like democracy, democratic, democracies, democratically, nondemocratic, and undemocratic are in the text.\n",
    "len(re.findall('[a-z]*democra[a-z]*',text2))"
   ]
  },
  {
   "cell_type": "markdown",
   "metadata": {},
   "source": [
    "The number of times terms like democracy, democratic, democracies, democratically, nondemocratic, and undemocratic are in the text is 2."
   ]
  },
  {
   "cell_type": "code",
   "execution_count": 453,
   "metadata": {},
   "outputs": [
    {
     "data": {
      "text/plain": [
       "1050"
      ]
     },
     "execution_count": 453,
     "metadata": {},
     "output_type": "execute_result"
    }
   ],
   "source": [
    "#the count of how many times numbers or words about numbers are in the text. For instance, 1, first, one, 1st, etc.\n",
    "len(re.findall('(\\d+\\w+\\w)|(\\d)|one|two|four|six|eight|nine|first|second|third|([a-z]*th)|([a-z]*en)|([a-z]*ve)|([a-z]*ee)',text3.lower()))"
   ]
  },
  {
   "cell_type": "markdown",
   "metadata": {},
   "source": [
    "The count of how many times numbers or words about numbers are in the third text that I chose is 1050."
   ]
  },
  {
   "cell_type": "markdown",
   "metadata": {},
   "source": [
    "### <span style=\"color:magenta\"> Q3a. [20 pts] Tokenize and plot top 10 words  \n",
    "1. Select three countries that have delivered statements for the majority of the years covered by the data.\n",
    "1. Tokenize their texts and plot the ten most common words used based on the count for each country (without removing stop words, punctuation, etc.). Make sure your plots are labeled and have a title. Describe the commonalities or differences you notice.\n",
    "\n",
    "> #### You can use nltk and/or spaCy to answer this question."
   ]
  },
  {
   "cell_type": "code",
   "execution_count": 454,
   "metadata": {},
   "outputs": [
    {
     "data": {
      "text/html": [
       "<div>\n",
       "<style scoped>\n",
       "    .dataframe tbody tr th:only-of-type {\n",
       "        vertical-align: middle;\n",
       "    }\n",
       "\n",
       "    .dataframe tbody tr th {\n",
       "        vertical-align: top;\n",
       "    }\n",
       "\n",
       "    .dataframe thead th {\n",
       "        text-align: right;\n",
       "    }\n",
       "</style>\n",
       "<table border=\"1\" class=\"dataframe\">\n",
       "  <thead>\n",
       "    <tr style=\"text-align: right;\">\n",
       "      <th></th>\n",
       "      <th>text</th>\n",
       "    </tr>\n",
       "    <tr>\n",
       "      <th>country_name</th>\n",
       "      <th></th>\n",
       "    </tr>\n",
       "  </thead>\n",
       "  <tbody>\n",
       "    <tr>\n",
       "      <td>Korea</td>\n",
       "      <td>50</td>\n",
       "    </tr>\n",
       "    <tr>\n",
       "      <td>Congo</td>\n",
       "      <td>46</td>\n",
       "    </tr>\n",
       "    <tr>\n",
       "      <td>Colombia</td>\n",
       "      <td>46</td>\n",
       "    </tr>\n",
       "    <tr>\n",
       "      <td>Japan</td>\n",
       "      <td>46</td>\n",
       "    </tr>\n",
       "    <tr>\n",
       "      <td>Sudan</td>\n",
       "      <td>46</td>\n",
       "    </tr>\n",
       "    <tr>\n",
       "      <td>Sri Lanka</td>\n",
       "      <td>46</td>\n",
       "    </tr>\n",
       "    <tr>\n",
       "      <td>Brazil</td>\n",
       "      <td>46</td>\n",
       "    </tr>\n",
       "    <tr>\n",
       "      <td>Guatemala</td>\n",
       "      <td>46</td>\n",
       "    </tr>\n",
       "    <tr>\n",
       "      <td>Ghana</td>\n",
       "      <td>46</td>\n",
       "    </tr>\n",
       "    <tr>\n",
       "      <td>Canada</td>\n",
       "      <td>46</td>\n",
       "    </tr>\n",
       "  </tbody>\n",
       "</table>\n",
       "</div>"
      ],
      "text/plain": [
       "              text\n",
       "country_name      \n",
       "Korea           50\n",
       "Congo           46\n",
       "Colombia        46\n",
       "Japan           46\n",
       "Sudan           46\n",
       "Sri Lanka       46\n",
       "Brazil          46\n",
       "Guatemala       46\n",
       "Ghana           46\n",
       "Canada          46"
      ]
     },
     "execution_count": 454,
     "metadata": {},
     "output_type": "execute_result"
    }
   ],
   "source": [
    "# The five countries that have delivered the most statements in maximum number of years\n",
    "df_finale_ = df_finale.groupby('country_name').text.count().sort_values(ascending = False).to_frame()\n",
    "df_finale_.head(10)"
   ]
  },
  {
   "cell_type": "code",
   "execution_count": 455,
   "metadata": {},
   "outputs": [],
   "source": [
    "df_finalc = df_finale.copy()"
   ]
  },
  {
   "cell_type": "markdown",
   "metadata": {},
   "source": [
    "The countries that I chose which seemed to have delivered maximum number of statements for the majority of years are Japan, Colombia and Brazil."
   ]
  },
  {
   "cell_type": "code",
   "execution_count": 456,
   "metadata": {},
   "outputs": [
    {
     "data": {
      "text/html": [
       "<div>\n",
       "<style scoped>\n",
       "    .dataframe tbody tr th:only-of-type {\n",
       "        vertical-align: middle;\n",
       "    }\n",
       "\n",
       "    .dataframe tbody tr th {\n",
       "        vertical-align: top;\n",
       "    }\n",
       "\n",
       "    .dataframe thead th {\n",
       "        text-align: right;\n",
       "    }\n",
       "</style>\n",
       "<table border=\"1\" class=\"dataframe\">\n",
       "  <thead>\n",
       "    <tr style=\"text-align: right;\">\n",
       "      <th></th>\n",
       "      <th>session</th>\n",
       "      <th>year</th>\n",
       "      <th>country</th>\n",
       "      <th>text</th>\n",
       "      <th>alpha-3_code</th>\n",
       "      <th>country_name</th>\n",
       "    </tr>\n",
       "  </thead>\n",
       "  <tbody>\n",
       "    <tr>\n",
       "      <td>33</td>\n",
       "      <td>44</td>\n",
       "      <td>1989</td>\n",
       "      <td>JPN</td>\n",
       "      <td>﻿\\nI should like first, on behalf of the Gover...</td>\n",
       "      <td>JPN</td>\n",
       "      <td>Japan</td>\n",
       "    </tr>\n",
       "    <tr>\n",
       "      <td>154</td>\n",
       "      <td>25</td>\n",
       "      <td>1970</td>\n",
       "      <td>JPN</td>\n",
       "      <td>\\n53. Mr. President, on behalf of the Japanese...</td>\n",
       "      <td>JPN</td>\n",
       "      <td>Japan</td>\n",
       "    </tr>\n",
       "    <tr>\n",
       "      <td>339</td>\n",
       "      <td>68</td>\n",
       "      <td>2013</td>\n",
       "      <td>JPN</td>\n",
       "      <td>First, I would like to \\ncongratulate you, Sir...</td>\n",
       "      <td>JPN</td>\n",
       "      <td>Japan</td>\n",
       "    </tr>\n",
       "    <tr>\n",
       "      <td>480</td>\n",
       "      <td>40</td>\n",
       "      <td>1985</td>\n",
       "      <td>JPN</td>\n",
       "      <td>On behalf of the Government and people of Japa...</td>\n",
       "      <td>JPN</td>\n",
       "      <td>Japan</td>\n",
       "    </tr>\n",
       "    <tr>\n",
       "      <td>733</td>\n",
       "      <td>63</td>\n",
       "      <td>2008</td>\n",
       "      <td>JPN</td>\n",
       "      <td>It is my great honour to stand \\nhere as the n...</td>\n",
       "      <td>JPN</td>\n",
       "      <td>Japan</td>\n",
       "    </tr>\n",
       "  </tbody>\n",
       "</table>\n",
       "</div>"
      ],
      "text/plain": [
       "     session  year country                                               text  \\\n",
       "33        44  1989     JPN  ﻿\\nI should like first, on behalf of the Gover...   \n",
       "154       25  1970     JPN  \\n53. Mr. President, on behalf of the Japanese...   \n",
       "339       68  2013     JPN  First, I would like to \\ncongratulate you, Sir...   \n",
       "480       40  1985     JPN  On behalf of the Government and people of Japa...   \n",
       "733       63  2008     JPN  It is my great honour to stand \\nhere as the n...   \n",
       "\n",
       "    alpha-3_code country_name  \n",
       "33           JPN        Japan  \n",
       "154          JPN        Japan  \n",
       "339          JPN        Japan  \n",
       "480          JPN        Japan  \n",
       "733          JPN        Japan  "
      ]
     },
     "execution_count": 456,
     "metadata": {},
     "output_type": "execute_result"
    }
   ],
   "source": [
    "df_japan = df_finalc[df_finalc.country_name == 'Japan']\n",
    "df_japan.head()"
   ]
  },
  {
   "cell_type": "code",
   "execution_count": 457,
   "metadata": {},
   "outputs": [],
   "source": [
    "# for Q3b\n",
    "df_japanc = df_japan.copy()"
   ]
  },
  {
   "cell_type": "code",
   "execution_count": 458,
   "metadata": {},
   "outputs": [
    {
     "name": "stderr",
     "output_type": "stream",
     "text": [
      "C:\\Users\\tabas\\Anaconda3\\lib\\site-packages\\ipykernel_launcher.py:1: SettingWithCopyWarning: \n",
      "A value is trying to be set on a copy of a slice from a DataFrame.\n",
      "Try using .loc[row_indexer,col_indexer] = value instead\n",
      "\n",
      "See the caveats in the documentation: http://pandas.pydata.org/pandas-docs/stable/user_guide/indexing.html#returning-a-view-versus-a-copy\n",
      "  \"\"\"Entry point for launching an IPython kernel.\n"
     ]
    },
    {
     "data": {
      "text/html": [
       "<div>\n",
       "<style scoped>\n",
       "    .dataframe tbody tr th:only-of-type {\n",
       "        vertical-align: middle;\n",
       "    }\n",
       "\n",
       "    .dataframe tbody tr th {\n",
       "        vertical-align: top;\n",
       "    }\n",
       "\n",
       "    .dataframe thead th {\n",
       "        text-align: right;\n",
       "    }\n",
       "</style>\n",
       "<table border=\"1\" class=\"dataframe\">\n",
       "  <thead>\n",
       "    <tr style=\"text-align: right;\">\n",
       "      <th></th>\n",
       "      <th>session</th>\n",
       "      <th>year</th>\n",
       "      <th>country</th>\n",
       "      <th>text</th>\n",
       "      <th>alpha-3_code</th>\n",
       "      <th>country_name</th>\n",
       "    </tr>\n",
       "  </thead>\n",
       "  <tbody>\n",
       "    <tr>\n",
       "      <td>33</td>\n",
       "      <td>44</td>\n",
       "      <td>1989</td>\n",
       "      <td>JPN</td>\n",
       "      <td>[﻿, I, should, like, first, ,, on, behalf, of,...</td>\n",
       "      <td>JPN</td>\n",
       "      <td>Japan</td>\n",
       "    </tr>\n",
       "    <tr>\n",
       "      <td>154</td>\n",
       "      <td>25</td>\n",
       "      <td>1970</td>\n",
       "      <td>JPN</td>\n",
       "      <td>[53, ., Mr., President, ,, on, behalf, of, the...</td>\n",
       "      <td>JPN</td>\n",
       "      <td>Japan</td>\n",
       "    </tr>\n",
       "    <tr>\n",
       "      <td>339</td>\n",
       "      <td>68</td>\n",
       "      <td>2013</td>\n",
       "      <td>JPN</td>\n",
       "      <td>[First, ,, I, would, like, to, congratulate, y...</td>\n",
       "      <td>JPN</td>\n",
       "      <td>Japan</td>\n",
       "    </tr>\n",
       "    <tr>\n",
       "      <td>480</td>\n",
       "      <td>40</td>\n",
       "      <td>1985</td>\n",
       "      <td>JPN</td>\n",
       "      <td>[On, behalf, of, the, Government, and, people,...</td>\n",
       "      <td>JPN</td>\n",
       "      <td>Japan</td>\n",
       "    </tr>\n",
       "    <tr>\n",
       "      <td>733</td>\n",
       "      <td>63</td>\n",
       "      <td>2008</td>\n",
       "      <td>JPN</td>\n",
       "      <td>[It, is, my, great, honour, to, stand, here, a...</td>\n",
       "      <td>JPN</td>\n",
       "      <td>Japan</td>\n",
       "    </tr>\n",
       "  </tbody>\n",
       "</table>\n",
       "</div>"
      ],
      "text/plain": [
       "     session  year country                                               text  \\\n",
       "33        44  1989     JPN  [﻿, I, should, like, first, ,, on, behalf, of,...   \n",
       "154       25  1970     JPN  [53, ., Mr., President, ,, on, behalf, of, the...   \n",
       "339       68  2013     JPN  [First, ,, I, would, like, to, congratulate, y...   \n",
       "480       40  1985     JPN  [On, behalf, of, the, Government, and, people,...   \n",
       "733       63  2008     JPN  [It, is, my, great, honour, to, stand, here, a...   \n",
       "\n",
       "    alpha-3_code country_name  \n",
       "33           JPN        Japan  \n",
       "154          JPN        Japan  \n",
       "339          JPN        Japan  \n",
       "480          JPN        Japan  \n",
       "733          JPN        Japan  "
      ]
     },
     "execution_count": 458,
     "metadata": {},
     "output_type": "execute_result"
    }
   ],
   "source": [
    "df_japan['text'] = df_japan.apply(lambda x: nltk.word_tokenize(x['text']), axis = 1)\n",
    "df_japan.head()"
   ]
  },
  {
   "cell_type": "code",
   "execution_count": 459,
   "metadata": {},
   "outputs": [],
   "source": [
    "# saving all the statement tokens as one big list\n",
    "for j in df_japan['text']:\n",
    "    japan_tokens = j"
   ]
  },
  {
   "cell_type": "code",
   "execution_count": 460,
   "metadata": {},
   "outputs": [
    {
     "data": {
      "text/plain": [
       "[('the', 77),\n",
       " ('to', 57),\n",
       " ('and', 47),\n",
       " (',', 46),\n",
       " ('of', 39),\n",
       " ('.', 38),\n",
       " ('in', 20),\n",
       " ('for', 17),\n",
       " ('Japan', 17),\n",
       " ('is', 17),\n",
       " ('terrorism', 15),\n",
       " ('international', 14),\n",
       " ('that', 13),\n",
       " ('United', 12),\n",
       " ('a', 11),\n",
       " ('this', 10),\n",
       " ('on', 9),\n",
       " ('community', 9),\n",
       " ('Nations', 8),\n",
       " ('with', 8)]"
      ]
     },
     "execution_count": 460,
     "metadata": {},
     "output_type": "execute_result"
    }
   ],
   "source": [
    "Counter(japan_tokens).most_common(20)"
   ]
  },
  {
   "cell_type": "code",
   "execution_count": 461,
   "metadata": {},
   "outputs": [
    {
     "data": {
      "image/png": "[encoded data removed]",
      "text/plain": [
       "<Figure size 3240x720 with 1 Axes>"
      ]
     },
     "metadata": {
      "needs_background": "light"
     },
     "output_type": "display_data"
    }
   ],
   "source": [
    "plt.figure(figsize=(45,10))\n",
    "sns.countplot(japan_tokens, order=pd.Series(japan_tokens).value_counts().index[:10])\n",
    "plt.xticks(rotation=90)\n",
    "plt.xlabel('Top Ten Common Words of Statements from Japan')\n",
    "plt.title('Common Word Count')\n",
    "plt.show()"
   ]
  },
  {
   "cell_type": "code",
   "execution_count": 462,
   "metadata": {},
   "outputs": [
    {
     "data": {
      "text/html": [
       "<div>\n",
       "<style scoped>\n",
       "    .dataframe tbody tr th:only-of-type {\n",
       "        vertical-align: middle;\n",
       "    }\n",
       "\n",
       "    .dataframe tbody tr th {\n",
       "        vertical-align: top;\n",
       "    }\n",
       "\n",
       "    .dataframe thead th {\n",
       "        text-align: right;\n",
       "    }\n",
       "</style>\n",
       "<table border=\"1\" class=\"dataframe\">\n",
       "  <thead>\n",
       "    <tr style=\"text-align: right;\">\n",
       "      <th></th>\n",
       "      <th>session</th>\n",
       "      <th>year</th>\n",
       "      <th>country</th>\n",
       "      <th>text</th>\n",
       "      <th>alpha-3_code</th>\n",
       "      <th>country_name</th>\n",
       "    </tr>\n",
       "  </thead>\n",
       "  <tbody>\n",
       "    <tr>\n",
       "      <td>16</td>\n",
       "      <td>44</td>\n",
       "      <td>1989</td>\n",
       "      <td>COL</td>\n",
       "      <td>﻿\\nOn behalf of the people and the Government ...</td>\n",
       "      <td>COL</td>\n",
       "      <td>Colombia</td>\n",
       "    </tr>\n",
       "    <tr>\n",
       "      <td>163</td>\n",
       "      <td>25</td>\n",
       "      <td>1970</td>\n",
       "      <td>COL</td>\n",
       "      <td>Mr. President, this visit to the United Nation...</td>\n",
       "      <td>COL</td>\n",
       "      <td>Colombia</td>\n",
       "    </tr>\n",
       "    <tr>\n",
       "      <td>415</td>\n",
       "      <td>68</td>\n",
       "      <td>2013</td>\n",
       "      <td>COL</td>\n",
       "      <td>I \\nshould like to depart slightly from protoc...</td>\n",
       "      <td>COL</td>\n",
       "      <td>Colombia</td>\n",
       "    </tr>\n",
       "    <tr>\n",
       "      <td>456</td>\n",
       "      <td>40</td>\n",
       "      <td>1985</td>\n",
       "      <td>COL</td>\n",
       "      <td>At the outset allow me to express Colombia's g...</td>\n",
       "      <td>COL</td>\n",
       "      <td>Colombia</td>\n",
       "    </tr>\n",
       "    <tr>\n",
       "      <td>579</td>\n",
       "      <td>63</td>\n",
       "      <td>2008</td>\n",
       "      <td>COL</td>\n",
       "      <td>Speaking once again before the General Assembl...</td>\n",
       "      <td>COL</td>\n",
       "      <td>Colombia</td>\n",
       "    </tr>\n",
       "  </tbody>\n",
       "</table>\n",
       "</div>"
      ],
      "text/plain": [
       "     session  year country                                               text  \\\n",
       "16        44  1989     COL  ﻿\\nOn behalf of the people and the Government ...   \n",
       "163       25  1970     COL  Mr. President, this visit to the United Nation...   \n",
       "415       68  2013     COL  I \\nshould like to depart slightly from protoc...   \n",
       "456       40  1985     COL  At the outset allow me to express Colombia's g...   \n",
       "579       63  2008     COL  Speaking once again before the General Assembl...   \n",
       "\n",
       "    alpha-3_code country_name  \n",
       "16           COL     Colombia  \n",
       "163          COL     Colombia  \n",
       "415          COL     Colombia  \n",
       "456          COL     Colombia  \n",
       "579          COL     Colombia  "
      ]
     },
     "execution_count": 462,
     "metadata": {},
     "output_type": "execute_result"
    }
   ],
   "source": [
    "df_colombia = df_finalc[df_finalc.country_name == 'Colombia']\n",
    "df_colombia.head()"
   ]
  },
  {
   "cell_type": "code",
   "execution_count": 463,
   "metadata": {},
   "outputs": [],
   "source": [
    "# for Q3b\n",
    "df_colombiac = df_colombia.copy()"
   ]
  },
  {
   "cell_type": "code",
   "execution_count": 464,
   "metadata": {},
   "outputs": [
    {
     "name": "stderr",
     "output_type": "stream",
     "text": [
      "C:\\Users\\tabas\\Anaconda3\\lib\\site-packages\\ipykernel_launcher.py:1: SettingWithCopyWarning: \n",
      "A value is trying to be set on a copy of a slice from a DataFrame.\n",
      "Try using .loc[row_indexer,col_indexer] = value instead\n",
      "\n",
      "See the caveats in the documentation: http://pandas.pydata.org/pandas-docs/stable/user_guide/indexing.html#returning-a-view-versus-a-copy\n",
      "  \"\"\"Entry point for launching an IPython kernel.\n"
     ]
    },
    {
     "data": {
      "text/html": [
       "<div>\n",
       "<style scoped>\n",
       "    .dataframe tbody tr th:only-of-type {\n",
       "        vertical-align: middle;\n",
       "    }\n",
       "\n",
       "    .dataframe tbody tr th {\n",
       "        vertical-align: top;\n",
       "    }\n",
       "\n",
       "    .dataframe thead th {\n",
       "        text-align: right;\n",
       "    }\n",
       "</style>\n",
       "<table border=\"1\" class=\"dataframe\">\n",
       "  <thead>\n",
       "    <tr style=\"text-align: right;\">\n",
       "      <th></th>\n",
       "      <th>session</th>\n",
       "      <th>year</th>\n",
       "      <th>country</th>\n",
       "      <th>text</th>\n",
       "      <th>alpha-3_code</th>\n",
       "      <th>country_name</th>\n",
       "    </tr>\n",
       "  </thead>\n",
       "  <tbody>\n",
       "    <tr>\n",
       "      <td>16</td>\n",
       "      <td>44</td>\n",
       "      <td>1989</td>\n",
       "      <td>COL</td>\n",
       "      <td>[﻿, On, behalf, of, the, people, and, the, Gov...</td>\n",
       "      <td>COL</td>\n",
       "      <td>Colombia</td>\n",
       "    </tr>\n",
       "    <tr>\n",
       "      <td>163</td>\n",
       "      <td>25</td>\n",
       "      <td>1970</td>\n",
       "      <td>COL</td>\n",
       "      <td>[Mr., President, ,, this, visit, to, the, Unit...</td>\n",
       "      <td>COL</td>\n",
       "      <td>Colombia</td>\n",
       "    </tr>\n",
       "    <tr>\n",
       "      <td>415</td>\n",
       "      <td>68</td>\n",
       "      <td>2013</td>\n",
       "      <td>COL</td>\n",
       "      <td>[I, should, like, to, depart, slightly, from, ...</td>\n",
       "      <td>COL</td>\n",
       "      <td>Colombia</td>\n",
       "    </tr>\n",
       "    <tr>\n",
       "      <td>456</td>\n",
       "      <td>40</td>\n",
       "      <td>1985</td>\n",
       "      <td>COL</td>\n",
       "      <td>[At, the, outset, allow, me, to, express, Colo...</td>\n",
       "      <td>COL</td>\n",
       "      <td>Colombia</td>\n",
       "    </tr>\n",
       "    <tr>\n",
       "      <td>579</td>\n",
       "      <td>63</td>\n",
       "      <td>2008</td>\n",
       "      <td>COL</td>\n",
       "      <td>[Speaking, once, again, before, the, General, ...</td>\n",
       "      <td>COL</td>\n",
       "      <td>Colombia</td>\n",
       "    </tr>\n",
       "  </tbody>\n",
       "</table>\n",
       "</div>"
      ],
      "text/plain": [
       "     session  year country                                               text  \\\n",
       "16        44  1989     COL  [﻿, On, behalf, of, the, people, and, the, Gov...   \n",
       "163       25  1970     COL  [Mr., President, ,, this, visit, to, the, Unit...   \n",
       "415       68  2013     COL  [I, should, like, to, depart, slightly, from, ...   \n",
       "456       40  1985     COL  [At, the, outset, allow, me, to, express, Colo...   \n",
       "579       63  2008     COL  [Speaking, once, again, before, the, General, ...   \n",
       "\n",
       "    alpha-3_code country_name  \n",
       "16           COL     Colombia  \n",
       "163          COL     Colombia  \n",
       "415          COL     Colombia  \n",
       "456          COL     Colombia  \n",
       "579          COL     Colombia  "
      ]
     },
     "execution_count": 464,
     "metadata": {},
     "output_type": "execute_result"
    }
   ],
   "source": [
    "df_colombia ['text'] = df_colombia.apply(lambda x: nltk.word_tokenize(x['text']), axis = 1)\n",
    "df_colombia.head()"
   ]
  },
  {
   "cell_type": "code",
   "execution_count": 465,
   "metadata": {},
   "outputs": [],
   "source": [
    "# saving all the statement tokens as one big list\n",
    "for c in df_colombia['text']:\n",
    "    colombia_tokens = c"
   ]
  },
  {
   "cell_type": "code",
   "execution_count": 466,
   "metadata": {},
   "outputs": [
    {
     "data": {
      "text/plain": [
       "[('the', 140),\n",
       " (',', 100),\n",
       " ('.', 99),\n",
       " ('of', 95),\n",
       " ('and', 70),\n",
       " ('to', 57),\n",
       " ('that', 48),\n",
       " ('we', 37),\n",
       " ('a', 31),\n",
       " ('in', 30),\n",
       " ('is', 28),\n",
       " ('must', 21),\n",
       " ('all', 21),\n",
       " ('our', 20),\n",
       " ('for', 20),\n",
       " ('I', 18),\n",
       " ('with', 17),\n",
       " ('world', 16),\n",
       " ('not', 16),\n",
       " ('it', 15)]"
      ]
     },
     "execution_count": 466,
     "metadata": {},
     "output_type": "execute_result"
    }
   ],
   "source": [
    "Counter(colombia_tokens).most_common(20)"
   ]
  },
  {
   "cell_type": "code",
   "execution_count": 467,
   "metadata": {},
   "outputs": [
    {
     "data": {
      "image/png": "[encoded data removed]",
      "text/plain": [
       "<Figure size 3240x720 with 1 Axes>"
      ]
     },
     "metadata": {
      "needs_background": "light"
     },
     "output_type": "display_data"
    }
   ],
   "source": [
    "plt.figure(figsize=(45,10))\n",
    "sns.countplot(colombia_tokens, order=pd.Series(colombia_tokens).value_counts().index[:10])\n",
    "plt.xticks(rotation=90)\n",
    "plt.xlabel('Top Ten Common Words of Statements from Colombia')\n",
    "plt.title('Common Word Count')\n",
    "plt.show()"
   ]
  },
  {
   "cell_type": "code",
   "execution_count": 468,
   "metadata": {},
   "outputs": [
    {
     "data": {
      "text/html": [
       "<div>\n",
       "<style scoped>\n",
       "    .dataframe tbody tr th:only-of-type {\n",
       "        vertical-align: middle;\n",
       "    }\n",
       "\n",
       "    .dataframe tbody tr th {\n",
       "        vertical-align: top;\n",
       "    }\n",
       "\n",
       "    .dataframe thead th {\n",
       "        text-align: right;\n",
       "    }\n",
       "</style>\n",
       "<table border=\"1\" class=\"dataframe\">\n",
       "  <thead>\n",
       "    <tr style=\"text-align: right;\">\n",
       "      <th></th>\n",
       "      <th>session</th>\n",
       "      <th>year</th>\n",
       "      <th>country</th>\n",
       "      <th>text</th>\n",
       "      <th>alpha-3_code</th>\n",
       "      <th>country_name</th>\n",
       "    </tr>\n",
       "  </thead>\n",
       "  <tbody>\n",
       "    <tr>\n",
       "      <td>114</td>\n",
       "      <td>44</td>\n",
       "      <td>1989</td>\n",
       "      <td>BRA</td>\n",
       "      <td>﻿\\n\\nMr. President, allow me to congratulate Y...</td>\n",
       "      <td>BRA</td>\n",
       "      <td>Brazil</td>\n",
       "    </tr>\n",
       "    <tr>\n",
       "      <td>194</td>\n",
       "      <td>25</td>\n",
       "      <td>1970</td>\n",
       "      <td>BRA</td>\n",
       "      <td>1.\\tMr. President, I should like, first of all...</td>\n",
       "      <td>BRA</td>\n",
       "      <td>Brazil</td>\n",
       "    </tr>\n",
       "    <tr>\n",
       "      <td>396</td>\n",
       "      <td>68</td>\n",
       "      <td>2013</td>\n",
       "      <td>BRA</td>\n",
       "      <td>I would first like to \\nbriefly express my ple...</td>\n",
       "      <td>BRA</td>\n",
       "      <td>Brazil</td>\n",
       "    </tr>\n",
       "    <tr>\n",
       "      <td>457</td>\n",
       "      <td>40</td>\n",
       "      <td>1985</td>\n",
       "      <td>BRA</td>\n",
       "      <td>I still have before my eyes the suffering that...</td>\n",
       "      <td>BRA</td>\n",
       "      <td>Brazil</td>\n",
       "    </tr>\n",
       "    <tr>\n",
       "      <td>695</td>\n",
       "      <td>63</td>\n",
       "      <td>2008</td>\n",
       "      <td>BRA</td>\n",
       "      <td>It is my great \\npleasure to greet my dear fri...</td>\n",
       "      <td>BRA</td>\n",
       "      <td>Brazil</td>\n",
       "    </tr>\n",
       "  </tbody>\n",
       "</table>\n",
       "</div>"
      ],
      "text/plain": [
       "     session  year country                                               text  \\\n",
       "114       44  1989     BRA  ﻿\\n\\nMr. President, allow me to congratulate Y...   \n",
       "194       25  1970     BRA  1.\\tMr. President, I should like, first of all...   \n",
       "396       68  2013     BRA  I would first like to \\nbriefly express my ple...   \n",
       "457       40  1985     BRA  I still have before my eyes the suffering that...   \n",
       "695       63  2008     BRA  It is my great \\npleasure to greet my dear fri...   \n",
       "\n",
       "    alpha-3_code country_name  \n",
       "114          BRA       Brazil  \n",
       "194          BRA       Brazil  \n",
       "396          BRA       Brazil  \n",
       "457          BRA       Brazil  \n",
       "695          BRA       Brazil  "
      ]
     },
     "execution_count": 468,
     "metadata": {},
     "output_type": "execute_result"
    }
   ],
   "source": [
    "df_brazil = df_finalc[df_finalc.country_name == 'Brazil']\n",
    "df_brazil.head()"
   ]
  },
  {
   "cell_type": "code",
   "execution_count": 469,
   "metadata": {},
   "outputs": [],
   "source": [
    "# for Q3b\n",
    "df_brazilc = df_brazil.copy()"
   ]
  },
  {
   "cell_type": "code",
   "execution_count": 470,
   "metadata": {},
   "outputs": [
    {
     "name": "stderr",
     "output_type": "stream",
     "text": [
      "C:\\Users\\tabas\\Anaconda3\\lib\\site-packages\\ipykernel_launcher.py:1: SettingWithCopyWarning: \n",
      "A value is trying to be set on a copy of a slice from a DataFrame.\n",
      "Try using .loc[row_indexer,col_indexer] = value instead\n",
      "\n",
      "See the caveats in the documentation: http://pandas.pydata.org/pandas-docs/stable/user_guide/indexing.html#returning-a-view-versus-a-copy\n",
      "  \"\"\"Entry point for launching an IPython kernel.\n"
     ]
    },
    {
     "data": {
      "text/html": [
       "<div>\n",
       "<style scoped>\n",
       "    .dataframe tbody tr th:only-of-type {\n",
       "        vertical-align: middle;\n",
       "    }\n",
       "\n",
       "    .dataframe tbody tr th {\n",
       "        vertical-align: top;\n",
       "    }\n",
       "\n",
       "    .dataframe thead th {\n",
       "        text-align: right;\n",
       "    }\n",
       "</style>\n",
       "<table border=\"1\" class=\"dataframe\">\n",
       "  <thead>\n",
       "    <tr style=\"text-align: right;\">\n",
       "      <th></th>\n",
       "      <th>session</th>\n",
       "      <th>year</th>\n",
       "      <th>country</th>\n",
       "      <th>text</th>\n",
       "      <th>alpha-3_code</th>\n",
       "      <th>country_name</th>\n",
       "    </tr>\n",
       "  </thead>\n",
       "  <tbody>\n",
       "    <tr>\n",
       "      <td>114</td>\n",
       "      <td>44</td>\n",
       "      <td>1989</td>\n",
       "      <td>BRA</td>\n",
       "      <td>[﻿, Mr., President, ,, allow, me, to, congratu...</td>\n",
       "      <td>BRA</td>\n",
       "      <td>Brazil</td>\n",
       "    </tr>\n",
       "    <tr>\n",
       "      <td>194</td>\n",
       "      <td>25</td>\n",
       "      <td>1970</td>\n",
       "      <td>BRA</td>\n",
       "      <td>[1, ., Mr., President, ,, I, should, like, ,, ...</td>\n",
       "      <td>BRA</td>\n",
       "      <td>Brazil</td>\n",
       "    </tr>\n",
       "    <tr>\n",
       "      <td>396</td>\n",
       "      <td>68</td>\n",
       "      <td>2013</td>\n",
       "      <td>BRA</td>\n",
       "      <td>[I, would, first, like, to, briefly, express, ...</td>\n",
       "      <td>BRA</td>\n",
       "      <td>Brazil</td>\n",
       "    </tr>\n",
       "    <tr>\n",
       "      <td>457</td>\n",
       "      <td>40</td>\n",
       "      <td>1985</td>\n",
       "      <td>BRA</td>\n",
       "      <td>[I, still, have, before, my, eyes, the, suffer...</td>\n",
       "      <td>BRA</td>\n",
       "      <td>Brazil</td>\n",
       "    </tr>\n",
       "    <tr>\n",
       "      <td>695</td>\n",
       "      <td>63</td>\n",
       "      <td>2008</td>\n",
       "      <td>BRA</td>\n",
       "      <td>[It, is, my, great, pleasure, to, greet, my, d...</td>\n",
       "      <td>BRA</td>\n",
       "      <td>Brazil</td>\n",
       "    </tr>\n",
       "  </tbody>\n",
       "</table>\n",
       "</div>"
      ],
      "text/plain": [
       "     session  year country                                               text  \\\n",
       "114       44  1989     BRA  [﻿, Mr., President, ,, allow, me, to, congratu...   \n",
       "194       25  1970     BRA  [1, ., Mr., President, ,, I, should, like, ,, ...   \n",
       "396       68  2013     BRA  [I, would, first, like, to, briefly, express, ...   \n",
       "457       40  1985     BRA  [I, still, have, before, my, eyes, the, suffer...   \n",
       "695       63  2008     BRA  [It, is, my, great, pleasure, to, greet, my, d...   \n",
       "\n",
       "    alpha-3_code country_name  \n",
       "114          BRA       Brazil  \n",
       "194          BRA       Brazil  \n",
       "396          BRA       Brazil  \n",
       "457          BRA       Brazil  \n",
       "695          BRA       Brazil  "
      ]
     },
     "execution_count": 470,
     "metadata": {},
     "output_type": "execute_result"
    }
   ],
   "source": [
    "df_brazil ['text'] = df_brazil.apply(lambda x: nltk.word_tokenize(x['text']), axis = 1)\n",
    "df_brazil.head()"
   ]
  },
  {
   "cell_type": "code",
   "execution_count": 471,
   "metadata": {},
   "outputs": [],
   "source": [
    "# saving all the statement tokens as one big list\n",
    "for b in df_brazil['text']:\n",
    "    brazil_tokens = b"
   ]
  },
  {
   "cell_type": "code",
   "execution_count": 472,
   "metadata": {},
   "outputs": [
    {
     "data": {
      "text/plain": [
       "[('the', 150),\n",
       " ('of', 118),\n",
       " (',', 99),\n",
       " ('.', 97),\n",
       " ('to', 75),\n",
       " ('and', 60),\n",
       " ('in', 46),\n",
       " ('a', 45),\n",
       " ('is', 37),\n",
       " ('that', 34),\n",
       " ('be', 32),\n",
       " ('not', 24),\n",
       " ('for', 21),\n",
       " ('The', 18),\n",
       " ('by', 16),\n",
       " ('as', 16),\n",
       " ('on', 14),\n",
       " ('will', 14),\n",
       " ('must', 14),\n",
       " ('an', 12)]"
      ]
     },
     "execution_count": 472,
     "metadata": {},
     "output_type": "execute_result"
    }
   ],
   "source": [
    "Counter(brazil_tokens).most_common(20)"
   ]
  },
  {
   "cell_type": "code",
   "execution_count": 473,
   "metadata": {},
   "outputs": [
    {
     "data": {
      "image/png": "[encoded data removed]",
      "text/plain": [
       "<Figure size 3240x720 with 1 Axes>"
      ]
     },
     "metadata": {
      "needs_background": "light"
     },
     "output_type": "display_data"
    }
   ],
   "source": [
    "plt.figure(figsize=(45,10))\n",
    "sns.countplot(brazil_tokens, order=pd.Series(brazil_tokens).value_counts().index[:10])\n",
    "plt.xticks(rotation=90)\n",
    "plt.xlabel('Top Ten Common Words of Statements from Brazil')\n",
    "plt.title('Common Word Count')\n",
    "plt.show()"
   ]
  },
  {
   "cell_type": "markdown",
   "metadata": {},
   "source": [
    "From the plots above, it can be analysed that the summary texts from the countries Japan, Colombia and Brazil have the list of stopwords also commonly called as helping verbs/adverbs and punctuations in common and are often repeated. The helping verb \"the\" is repeated majority of times in all the texts from Japan, Colombia and Brazil whereas the word \"Japan\" from Japan's texts, \"in\" from Colombia's texts and \"that\" from Brazil's texts are lowest among the top 20 most commonly repeated words."
   ]
  },
  {
   "cell_type": "markdown",
   "metadata": {},
   "source": [
    "### <span style=\"color:magenta\"> Q3b. [15 pts] Tokenize and plot top 10 words\n",
    "Continue working with the same countries and their texts as selected above.\n",
    "1. Remove stop words, punctuations, and any other characters you deem necessary from the tokenized text.\n",
    "1. Remove a few additional words that are less informative given the context and because they are common across statements (e.g. 3 or 4 of the common words seen in the plots from 3a).\n",
    "1. Plot the ten most common words used by each country. Make sure your plots are labeled and have a title. Describe any commonalities or differences you notice either between countries or with and without the words we removed.\n",
    "\n",
    "> #### You can use nltk and/or spaCy to answer this question."
   ]
  },
  {
   "cell_type": "code",
   "execution_count": 474,
   "metadata": {},
   "outputs": [
    {
     "name": "stdout",
     "output_type": "stream",
     "text": [
      "['i', 'me', 'my', 'myself', 'we', 'our', 'ours', 'ourselves', 'you', \"you're\", \"you've\", \"you'll\", \"you'd\", 'your', 'yours', 'yourself', 'yourselves', 'he', 'him', 'his', 'himself', 'she', \"she's\", 'her', 'hers', 'herself', 'it', \"it's\", 'its', 'itself', 'they', 'them', 'their', 'theirs', 'themselves', 'what', 'which', 'who', 'whom', 'this', 'that', \"that'll\", 'these', 'those', 'am', 'is', 'are', 'was', 'were', 'be', 'been', 'being', 'have', 'has', 'had', 'having', 'do', 'does', 'did', 'doing', 'a', 'an', 'the', 'and', 'but', 'if', 'or', 'because', 'as', 'until', 'while', 'of', 'at', 'by', 'for', 'with', 'about', 'against', 'between', 'into', 'through', 'during', 'before', 'after', 'above', 'below', 'to', 'from', 'up', 'down', 'in', 'out', 'on', 'off', 'over', 'under', 'again', 'further', 'then', 'once', 'here', 'there', 'when', 'where', 'why', 'how', 'all', 'any', 'both', 'each', 'few', 'more', 'most', 'other', 'some', 'such', 'no', 'nor', 'not', 'only', 'own', 'same', 'so', 'than', 'too', 'very', 's', 't', 'can', 'will', 'just', 'don', \"don't\", 'should', \"should've\", 'now', 'd', 'll', 'm', 'o', 're', 've', 'y', 'ain', 'aren', \"aren't\", 'couldn', \"couldn't\", 'didn', \"didn't\", 'doesn', \"doesn't\", 'hadn', \"hadn't\", 'hasn', \"hasn't\", 'haven', \"haven't\", 'isn', \"isn't\", 'ma', 'mightn', \"mightn't\", 'mustn', \"mustn't\", 'needn', \"needn't\", 'shan', \"shan't\", 'shouldn', \"shouldn't\", 'wasn', \"wasn't\", 'weren', \"weren't\", 'won', \"won't\", 'wouldn', \"wouldn't\"]\n"
     ]
    }
   ],
   "source": [
    "from nltk.corpus import stopwords\n",
    "print(stopwords.words('english'))"
   ]
  },
  {
   "cell_type": "code",
   "execution_count": 475,
   "metadata": {},
   "outputs": [],
   "source": [
    "additional = ['world', 'international', 'community', 'may', 'must']"
   ]
  },
  {
   "cell_type": "markdown",
   "metadata": {},
   "source": [
    "The variable \"additional\" represents the additional words that have been most commonly repeated in the texts from the countries Japan, Colombia and Brazil."
   ]
  },
  {
   "cell_type": "code",
   "execution_count": 476,
   "metadata": {},
   "outputs": [],
   "source": [
    "# referred https://pythonhealthcare.org/2018/12/14/101-pre-processing-data-tokenization-stemming-and-removal-of-stop-words/\n",
    "def no_stop_words(text): \n",
    "    stop = set(stopwords.words('english'))\n",
    "    additional = ['world', 'international', 'community', 'may', 'must']\n",
    "    meaningful_words = []\n",
    "    for word in text:\n",
    "        if word.lower() not in stop and additional:\n",
    "            meaningful_words.append(word)\n",
    "    return meaningful_words"
   ]
  },
  {
   "cell_type": "code",
   "execution_count": 477,
   "metadata": {},
   "outputs": [],
   "source": [
    "df_japanc['text'] = df_japanc['text'].str.lower().str.replace(\"[$&+,:;=?@#|'<>.-^*{}()%!]\",'')"
   ]
  },
  {
   "cell_type": "code",
   "execution_count": 478,
   "metadata": {},
   "outputs": [
    {
     "data": {
      "text/html": [
       "<div>\n",
       "<style scoped>\n",
       "    .dataframe tbody tr th:only-of-type {\n",
       "        vertical-align: middle;\n",
       "    }\n",
       "\n",
       "    .dataframe tbody tr th {\n",
       "        vertical-align: top;\n",
       "    }\n",
       "\n",
       "    .dataframe thead th {\n",
       "        text-align: right;\n",
       "    }\n",
       "</style>\n",
       "<table border=\"1\" class=\"dataframe\">\n",
       "  <thead>\n",
       "    <tr style=\"text-align: right;\">\n",
       "      <th></th>\n",
       "      <th>session</th>\n",
       "      <th>year</th>\n",
       "      <th>country</th>\n",
       "      <th>text</th>\n",
       "      <th>alpha-3_code</th>\n",
       "      <th>country_name</th>\n",
       "    </tr>\n",
       "  </thead>\n",
       "  <tbody>\n",
       "    <tr>\n",
       "      <td>33</td>\n",
       "      <td>44</td>\n",
       "      <td>1989</td>\n",
       "      <td>JPN</td>\n",
       "      <td>[﻿, i, should, like, first, on, behalf, of, th...</td>\n",
       "      <td>JPN</td>\n",
       "      <td>Japan</td>\n",
       "    </tr>\n",
       "    <tr>\n",
       "      <td>154</td>\n",
       "      <td>25</td>\n",
       "      <td>1970</td>\n",
       "      <td>JPN</td>\n",
       "      <td>[mr, president, on, behalf, of, the, japanese,...</td>\n",
       "      <td>JPN</td>\n",
       "      <td>Japan</td>\n",
       "    </tr>\n",
       "    <tr>\n",
       "      <td>339</td>\n",
       "      <td>68</td>\n",
       "      <td>2013</td>\n",
       "      <td>JPN</td>\n",
       "      <td>[first, i, would, like, to, congratulate, you,...</td>\n",
       "      <td>JPN</td>\n",
       "      <td>Japan</td>\n",
       "    </tr>\n",
       "    <tr>\n",
       "      <td>480</td>\n",
       "      <td>40</td>\n",
       "      <td>1985</td>\n",
       "      <td>JPN</td>\n",
       "      <td>[on, behalf, of, the, government, and, people,...</td>\n",
       "      <td>JPN</td>\n",
       "      <td>Japan</td>\n",
       "    </tr>\n",
       "    <tr>\n",
       "      <td>733</td>\n",
       "      <td>63</td>\n",
       "      <td>2008</td>\n",
       "      <td>JPN</td>\n",
       "      <td>[it, is, my, great, honour, to, stand, here, a...</td>\n",
       "      <td>JPN</td>\n",
       "      <td>Japan</td>\n",
       "    </tr>\n",
       "  </tbody>\n",
       "</table>\n",
       "</div>"
      ],
      "text/plain": [
       "     session  year country                                               text  \\\n",
       "33        44  1989     JPN  [﻿, i, should, like, first, on, behalf, of, th...   \n",
       "154       25  1970     JPN  [mr, president, on, behalf, of, the, japanese,...   \n",
       "339       68  2013     JPN  [first, i, would, like, to, congratulate, you,...   \n",
       "480       40  1985     JPN  [on, behalf, of, the, government, and, people,...   \n",
       "733       63  2008     JPN  [it, is, my, great, honour, to, stand, here, a...   \n",
       "\n",
       "    alpha-3_code country_name  \n",
       "33           JPN        Japan  \n",
       "154          JPN        Japan  \n",
       "339          JPN        Japan  \n",
       "480          JPN        Japan  \n",
       "733          JPN        Japan  "
      ]
     },
     "execution_count": 478,
     "metadata": {},
     "output_type": "execute_result"
    }
   ],
   "source": [
    "df_japanc ['text'] = df_japanc.apply(lambda x: nltk.word_tokenize(x['text']), axis = 1)\n",
    "df_japanc.head()"
   ]
  },
  {
   "cell_type": "code",
   "execution_count": 479,
   "metadata": {},
   "outputs": [
    {
     "data": {
      "text/plain": [
       "33      [﻿, like, first, behalf, government, people, j...\n",
       "154     [mr, president, behalf, japanese, delegation, ...\n",
       "339     [first, would, like, congratulate, sir, assumi...\n",
       "480     [behalf, government, people, japan, like, exte...\n",
       "733     [great, honour, stand, new, japanese, prime, m...\n",
       "811     [﻿i, like, first, extend, heartfelt, congratul...\n",
       "928     [like, first, behalf, government, people, japa...\n",
       "1105    [﻿first, would, like, congratulate, mr, jan, k...\n",
       "1345    [major, powers, emergence, scores, new, indepe...\n",
       "1480    [﻿i, like, first, extend, warmest, compliments...\n",
       "1551    [﻿first, would, like, express, sincere, apprec...\n",
       "1868    [﻿i, like, outset, extend, warmest, compliment...\n",
       "2054    [﻿, behalf, government, japan, like, first, co...\n",
       "2187    [﻿i, like, first, express, sincere, congratula...\n",
       "2307    [extend, heartfelt, congratulations, mr, josep...\n",
       "2485    [﻿on, behalf, government, people, japan, wish,...\n",
       "2604    [like, behalf, government, japan, begin, state...\n",
       "2876    [like, extend, heartfelt, congratulations, exc...\n",
       "2973    [behalf, japanese, delegation, wish, extend, h...\n",
       "3076    [behalf, japanese, delegation, wish, offer, si...\n",
       "3270    [﻿, behalf, government, people, japan, sir, ex...\n",
       "3461    [﻿on, behalf, government, people, japan, like,...\n",
       "3628    [would, like, extend, heartfelt, congratulatio...\n",
       "3687    [like, first, foremost, convey, sincere, sympa...\n",
       "3960    [﻿i, like, first, express, sincere, congratula...\n",
       "4052    [behalf, government, people, japan, like, exte...\n",
       "4156    [like, extend, sincere, compliments, sir, fore...\n",
       "4357    [﻿i, would, like, extend, heartfelt, congratul...\n",
       "4636    [today, international, community, striving, me...\n",
       "4700    [﻿, mr, president, behalf, government, people,...\n",
       "4977    [humankind, faces, serious, unprecedented, cri...\n",
       "5193    [would, like, begin, congratulating, mr, al-na...\n",
       "5317    [mr, president, behalf, japanese, delegation, ...\n",
       "5417    [united, nations, year, commemorates, seventie...\n",
       "5689    [like, first, extend, heartfelt, congratulatio...\n",
       "5738    [﻿, mr, president, behalf, government, japan, ...\n",
       "5955    [behalf, government, people, japan, like, exte...\n",
       "6116    [first, would, like, extend, heartfelt, congra...\n",
       "6191    [like, first, extend, sincere, congratulations...\n",
       "6362    [﻿on, behalf, government, people, japan, would...\n",
       "6587    [﻿, behalf, japanese, delegation, wish, extend...\n",
       "6798    [allow, begin, address, offering, congratulati...\n",
       "6852    [mr, president, behalf, japanese, delegation, ...\n",
       "6940    [wish, congratulate, excellency, sheikha, haya...\n",
       "7269    [first, let, join, speakers, congratulating, s...\n",
       "7441    [﻿i, would, like, congratulate, mr, han, seung...\n",
       "Name: text, dtype: object"
      ]
     },
     "execution_count": 479,
     "metadata": {},
     "output_type": "execute_result"
    }
   ],
   "source": [
    "df_japanc['text'] = df_japanc.apply(lambda y: no_stop_words(y['text']), axis=1)\n",
    "df_japanc['text']"
   ]
  },
  {
   "cell_type": "code",
   "execution_count": 480,
   "metadata": {},
   "outputs": [],
   "source": [
    "for j in df_japanc['text']:\n",
    "    clean_japan_tokens = j"
   ]
  },
  {
   "cell_type": "code",
   "execution_count": 481,
   "metadata": {},
   "outputs": [
    {
     "data": {
      "text/plain": [
       "[('japan', 17),\n",
       " ('international', 16),\n",
       " ('terrorism', 16),\n",
       " ('united', 12),\n",
       " ('nations', 8),\n",
       " ('community', 8),\n",
       " ('afghanistan', 8),\n",
       " ('eliminate', 7),\n",
       " ('peace', 6),\n",
       " ('countries', 6),\n",
       " ('would', 5),\n",
       " ('like', 5),\n",
       " ('terrorist', 5),\n",
       " ('attacks', 5),\n",
       " ('states', 5),\n",
       " ('convention', 5),\n",
       " ('weapons', 5),\n",
       " ('extend', 4),\n",
       " ('support', 4),\n",
       " ('also', 4)]"
      ]
     },
     "execution_count": 481,
     "metadata": {},
     "output_type": "execute_result"
    }
   ],
   "source": [
    "Counter(clean_japan_tokens).most_common(20)"
   ]
  },
  {
   "cell_type": "code",
   "execution_count": 482,
   "metadata": {},
   "outputs": [
    {
     "data": {
      "image/png": "[encoded data removed]",
      "text/plain": [
       "<Figure size 3240x720 with 1 Axes>"
      ]
     },
     "metadata": {
      "needs_background": "light"
     },
     "output_type": "display_data"
    }
   ],
   "source": [
    "plt.figure(figsize=(45,10))\n",
    "sns.countplot(clean_japan_tokens, order=pd.Series(clean_japan_tokens).value_counts().index[:10])\n",
    "plt.xticks(rotation=90)\n",
    "plt.xlabel('Top Ten Common Words of Statements from Japan')\n",
    "plt.title('Common Word Count')\n",
    "plt.show()"
   ]
  },
  {
   "cell_type": "code",
   "execution_count": 483,
   "metadata": {},
   "outputs": [],
   "source": [
    "df_colombiac['text'] = df_colombiac['text'].str.lower().str.replace(\"[$&+,:;=?@#|'<>.-^*{}()%!]\",'')"
   ]
  },
  {
   "cell_type": "code",
   "execution_count": 484,
   "metadata": {},
   "outputs": [
    {
     "data": {
      "text/html": [
       "<div>\n",
       "<style scoped>\n",
       "    .dataframe tbody tr th:only-of-type {\n",
       "        vertical-align: middle;\n",
       "    }\n",
       "\n",
       "    .dataframe tbody tr th {\n",
       "        vertical-align: top;\n",
       "    }\n",
       "\n",
       "    .dataframe thead th {\n",
       "        text-align: right;\n",
       "    }\n",
       "</style>\n",
       "<table border=\"1\" class=\"dataframe\">\n",
       "  <thead>\n",
       "    <tr style=\"text-align: right;\">\n",
       "      <th></th>\n",
       "      <th>session</th>\n",
       "      <th>year</th>\n",
       "      <th>country</th>\n",
       "      <th>text</th>\n",
       "      <th>alpha-3_code</th>\n",
       "      <th>country_name</th>\n",
       "    </tr>\n",
       "  </thead>\n",
       "  <tbody>\n",
       "    <tr>\n",
       "      <td>16</td>\n",
       "      <td>44</td>\n",
       "      <td>1989</td>\n",
       "      <td>COL</td>\n",
       "      <td>[﻿, on, behalf, of, the, people, and, the, gov...</td>\n",
       "      <td>COL</td>\n",
       "      <td>Colombia</td>\n",
       "    </tr>\n",
       "    <tr>\n",
       "      <td>163</td>\n",
       "      <td>25</td>\n",
       "      <td>1970</td>\n",
       "      <td>COL</td>\n",
       "      <td>[mr, president, this, visit, to, the, united, ...</td>\n",
       "      <td>COL</td>\n",
       "      <td>Colombia</td>\n",
       "    </tr>\n",
       "    <tr>\n",
       "      <td>415</td>\n",
       "      <td>68</td>\n",
       "      <td>2013</td>\n",
       "      <td>COL</td>\n",
       "      <td>[i, should, like, to, depart, slightly, from, ...</td>\n",
       "      <td>COL</td>\n",
       "      <td>Colombia</td>\n",
       "    </tr>\n",
       "    <tr>\n",
       "      <td>456</td>\n",
       "      <td>40</td>\n",
       "      <td>1985</td>\n",
       "      <td>COL</td>\n",
       "      <td>[at, the, outset, allow, me, to, express, colo...</td>\n",
       "      <td>COL</td>\n",
       "      <td>Colombia</td>\n",
       "    </tr>\n",
       "    <tr>\n",
       "      <td>579</td>\n",
       "      <td>63</td>\n",
       "      <td>2008</td>\n",
       "      <td>COL</td>\n",
       "      <td>[speaking, once, again, before, the, general, ...</td>\n",
       "      <td>COL</td>\n",
       "      <td>Colombia</td>\n",
       "    </tr>\n",
       "  </tbody>\n",
       "</table>\n",
       "</div>"
      ],
      "text/plain": [
       "     session  year country                                               text  \\\n",
       "16        44  1989     COL  [﻿, on, behalf, of, the, people, and, the, gov...   \n",
       "163       25  1970     COL  [mr, president, this, visit, to, the, united, ...   \n",
       "415       68  2013     COL  [i, should, like, to, depart, slightly, from, ...   \n",
       "456       40  1985     COL  [at, the, outset, allow, me, to, express, colo...   \n",
       "579       63  2008     COL  [speaking, once, again, before, the, general, ...   \n",
       "\n",
       "    alpha-3_code country_name  \n",
       "16           COL     Colombia  \n",
       "163          COL     Colombia  \n",
       "415          COL     Colombia  \n",
       "456          COL     Colombia  \n",
       "579          COL     Colombia  "
      ]
     },
     "execution_count": 484,
     "metadata": {},
     "output_type": "execute_result"
    }
   ],
   "source": [
    "df_colombiac['text'] = df_colombiac.apply(lambda x: nltk.word_tokenize(x['text']), axis = 1)\n",
    "df_colombiac.head()"
   ]
  },
  {
   "cell_type": "code",
   "execution_count": 485,
   "metadata": {},
   "outputs": [
    {
     "data": {
      "text/plain": [
       "16      [﻿, behalf, people, government, colombia, plea...\n",
       "163     [mr, president, visit, united, nations, provid...\n",
       "415     [like, depart, slightly, protocol, start, stat...\n",
       "456     [outset, allow, express, colombias, grief, tra...\n",
       "579     [speaking, general, assembly, would, like, con...\n",
       "848     [﻿in, name, people, government, colombia, allo...\n",
       "1008    [first, wish, convey, greetings, congratulatio...\n",
       "1070    [﻿i, greet, excellency, mr, jan, kavan, czech,...\n",
       "1277    [genuinely, pleased, applaud, wisdom, shown, g...\n",
       "1529    [﻿allow, outset, sir, congratulate, election, ...\n",
       "1679    [﻿two, years, ago, first, address, assembly, p...\n",
       "1856    [﻿as, president, colombia, chairman, non-align...\n",
       "1936    [﻿, mr, president, especially, gratifying, cou...\n",
       "2174    [﻿allow, first, behalf, people, government, co...\n",
       "2268    [reverence, immense, sense, responsibility, co...\n",
       "2498    [﻿it, good, omen, indeed, colombia, pleased, d...\n",
       "2630    [behalf, government, congratulate, mr, freitas...\n",
       "2843    [would, like, congratulate, president, general...\n",
       "2955    [mr, president, like, congratulate, election, ...\n",
       "3097    [matter, great, good, fortune, deliberations, ...\n",
       "3257    [﻿, behalf, colombia, would, like, first, sir,...\n",
       "3452    [﻿on, behalf, government, like, congratulate, ...\n",
       "3507    [allow, behalf, behalf, country, express, cong...\n",
       "3732    [congratulate, sir, election, wish, every, pos...\n",
       "3855    [﻿mr, president, behalf, country, colombia, on...\n",
       "4117    [like, first, congratulate, mr, hollai, electi...\n",
       "4193    [mr, president, address, assembly, first, time...\n",
       "4490    [﻿i, like, congratulate, sir, upon, election, ...\n",
       "4569    [addressing, general, assembly, time, people, ...\n",
       "4798    [﻿i, like, congratulate, sir, behalf, governme...\n",
       "4984    [first, behalf, government, colombia, would, l...\n",
       "5199    [past, year, witnessed, events, popular, upris...\n",
       "5306    [first, words, addressed, mr, president, congr...\n",
       "5453    [would, like, thank, ambassador, maria, emma, ...\n",
       "5605    [nearly, stand, rostrum, represent, dreams, co...\n",
       "5751    [﻿, country, feels, election, mr, lazar, mojso...\n",
       "5929    [permit, first, convey, congratulations, gover...\n",
       "6025    [allow, congratulate, sir, election, president...\n",
       "6242    [like, begin, extending, warm, welcome, new, s...\n",
       "6505    [﻿at, outset, like, make, special, appeal, cou...\n",
       "6553    [﻿, behalf, delegation, like, greet, secretary...\n",
       "6640    [great, honour, president, colombia, speak, ge...\n",
       "6820    [united, nations, continues, great, hope, mank...\n",
       "7085    [congratulate, madam, president, wish, greates...\n",
       "7138    [allow, congratulate, mr, kerim, election, pre...\n",
       "7421    [﻿allow, behalf, government, colombia, express...\n",
       "Name: text, dtype: object"
      ]
     },
     "execution_count": 485,
     "metadata": {},
     "output_type": "execute_result"
    }
   ],
   "source": [
    "df_colombiac['text'] = df_colombiac.apply(lambda y: no_stop_words(y['text']), axis=1)\n",
    "df_colombiac['text']"
   ]
  },
  {
   "cell_type": "code",
   "execution_count": 486,
   "metadata": {},
   "outputs": [],
   "source": [
    "for c in df_colombiac['text']:\n",
    "    clean_colombia_tokens = c"
   ]
  },
  {
   "cell_type": "code",
   "execution_count": 487,
   "metadata": {},
   "outputs": [
    {
     "data": {
      "text/plain": [
       "[('must', 21),\n",
       " ('world', 17),\n",
       " ('international', 14),\n",
       " ('colombia', 13),\n",
       " ('terrorism', 11),\n",
       " ('us', 10),\n",
       " ('country', 9),\n",
       " ('assembly', 8),\n",
       " ('acts', 8),\n",
       " ('human', 8),\n",
       " ('—', 8),\n",
       " ('illegal', 8),\n",
       " ('general', 7),\n",
       " ('let', 7),\n",
       " ('peace', 7),\n",
       " ('violence', 7),\n",
       " ('financial', 7),\n",
       " ('community', 7),\n",
       " ('new', 6),\n",
       " ('today', 6)]"
      ]
     },
     "execution_count": 487,
     "metadata": {},
     "output_type": "execute_result"
    }
   ],
   "source": [
    "Counter(clean_colombia_tokens).most_common(20)"
   ]
  },
  {
   "cell_type": "code",
   "execution_count": 488,
   "metadata": {},
   "outputs": [
    {
     "data": {
      "image/png": "[encoded data removed]",
      "text/plain": [
       "<Figure size 3240x720 with 1 Axes>"
      ]
     },
     "metadata": {
      "needs_background": "light"
     },
     "output_type": "display_data"
    }
   ],
   "source": [
    "plt.figure(figsize=(45,10))\n",
    "sns.countplot(clean_colombia_tokens, order=pd.Series(clean_colombia_tokens).value_counts().index[:10])\n",
    "plt.xticks(rotation=90)\n",
    "plt.xlabel('Top Ten Common Words of Statements from Colombia')\n",
    "plt.title('Common Word Count')\n",
    "plt.show()"
   ]
  },
  {
   "cell_type": "code",
   "execution_count": 489,
   "metadata": {},
   "outputs": [],
   "source": [
    "df_brazilc['text'] = df_brazilc['text'].str.lower().str.replace(\"[$&+,:;=?@#|'<>.-^*{}()%!]\",'')"
   ]
  },
  {
   "cell_type": "code",
   "execution_count": 490,
   "metadata": {},
   "outputs": [
    {
     "data": {
      "text/html": [
       "<div>\n",
       "<style scoped>\n",
       "    .dataframe tbody tr th:only-of-type {\n",
       "        vertical-align: middle;\n",
       "    }\n",
       "\n",
       "    .dataframe tbody tr th {\n",
       "        vertical-align: top;\n",
       "    }\n",
       "\n",
       "    .dataframe thead th {\n",
       "        text-align: right;\n",
       "    }\n",
       "</style>\n",
       "<table border=\"1\" class=\"dataframe\">\n",
       "  <thead>\n",
       "    <tr style=\"text-align: right;\">\n",
       "      <th></th>\n",
       "      <th>session</th>\n",
       "      <th>year</th>\n",
       "      <th>country</th>\n",
       "      <th>text</th>\n",
       "      <th>alpha-3_code</th>\n",
       "      <th>country_name</th>\n",
       "    </tr>\n",
       "  </thead>\n",
       "  <tbody>\n",
       "    <tr>\n",
       "      <td>114</td>\n",
       "      <td>44</td>\n",
       "      <td>1989</td>\n",
       "      <td>BRA</td>\n",
       "      <td>[﻿, mr, president, allow, me, to, congratulate...</td>\n",
       "      <td>BRA</td>\n",
       "      <td>Brazil</td>\n",
       "    </tr>\n",
       "    <tr>\n",
       "      <td>194</td>\n",
       "      <td>25</td>\n",
       "      <td>1970</td>\n",
       "      <td>BRA</td>\n",
       "      <td>[mr, president, i, should, like, first, of, al...</td>\n",
       "      <td>BRA</td>\n",
       "      <td>Brazil</td>\n",
       "    </tr>\n",
       "    <tr>\n",
       "      <td>396</td>\n",
       "      <td>68</td>\n",
       "      <td>2013</td>\n",
       "      <td>BRA</td>\n",
       "      <td>[i, would, first, like, to, briefly, express, ...</td>\n",
       "      <td>BRA</td>\n",
       "      <td>Brazil</td>\n",
       "    </tr>\n",
       "    <tr>\n",
       "      <td>457</td>\n",
       "      <td>40</td>\n",
       "      <td>1985</td>\n",
       "      <td>BRA</td>\n",
       "      <td>[i, still, have, before, my, eyes, the, suffer...</td>\n",
       "      <td>BRA</td>\n",
       "      <td>Brazil</td>\n",
       "    </tr>\n",
       "    <tr>\n",
       "      <td>695</td>\n",
       "      <td>63</td>\n",
       "      <td>2008</td>\n",
       "      <td>BRA</td>\n",
       "      <td>[it, is, my, great, pleasure, to, greet, my, d...</td>\n",
       "      <td>BRA</td>\n",
       "      <td>Brazil</td>\n",
       "    </tr>\n",
       "  </tbody>\n",
       "</table>\n",
       "</div>"
      ],
      "text/plain": [
       "     session  year country                                               text  \\\n",
       "114       44  1989     BRA  [﻿, mr, president, allow, me, to, congratulate...   \n",
       "194       25  1970     BRA  [mr, president, i, should, like, first, of, al...   \n",
       "396       68  2013     BRA  [i, would, first, like, to, briefly, express, ...   \n",
       "457       40  1985     BRA  [i, still, have, before, my, eyes, the, suffer...   \n",
       "695       63  2008     BRA  [it, is, my, great, pleasure, to, greet, my, d...   \n",
       "\n",
       "    alpha-3_code country_name  \n",
       "114          BRA       Brazil  \n",
       "194          BRA       Brazil  \n",
       "396          BRA       Brazil  \n",
       "457          BRA       Brazil  \n",
       "695          BRA       Brazil  "
      ]
     },
     "execution_count": 490,
     "metadata": {},
     "output_type": "execute_result"
    }
   ],
   "source": [
    "df_brazilc['text'] = df_brazilc.apply(lambda x: nltk.word_tokenize(x['text']), axis = 1)\n",
    "df_brazilc.head()"
   ]
  },
  {
   "cell_type": "code",
   "execution_count": 491,
   "metadata": {},
   "outputs": [
    {
     "data": {
      "text/plain": [
       "114     [﻿, mr, president, allow, congratulate, excell...\n",
       "194     [mr, president, like, first, congratulate, una...\n",
       "396     [would, first, like, briefly, express, pleasur...\n",
       "457     [still, eyes, suffering, mexico, undergone, la...\n",
       "695     [great, pleasure, greet, dear, friend, mr, mig...\n",
       "850     [﻿mr, president, may, congratulate, upon, elec...\n",
       "1005    [behalf, brazilian, government, privilege, con...\n",
       "1187    [congratulate, sir, election, presidency, gene...\n",
       "1287    [mr, president, may, first, words, express, sa...\n",
       "1391    [﻿please, accept, congratulations, sir, electi...\n",
       "1564    [﻿once, woman, ’, voice, opening, general, deb...\n",
       "1765    [﻿on, behalf, brazilian, delegation, would, li...\n",
       "1968    [﻿, mr, president, tradition, offers, brazil, ...\n",
       "2214    [﻿, mr, president, tradition, dating, back, ea...\n",
       "2221    [great, honour, come, rostrum, speak, behalf, ...\n",
       "2467    [﻿, behalf, government, brazil, gives, great, ...\n",
       "2609    [gives, great, pleasure, make, use, common, la...\n",
       "2736    [general, assembly, must, continue, great, for...\n",
       "2924    [mr, president, let, first, words, congratulat...\n",
       "3037    [allow, first, say, pleased, see, ambassador, ...\n",
       "3192    [﻿, great, pleasure, sir, congratulate, electi...\n",
       "3356    [﻿as, general, debate, opens, honour, sincere,...\n",
       "3491    [brazil, congratulates, sir, election, preside...\n",
       "3739    [like, extend, warmest, congratulations, sir, ...\n",
       "3853    [﻿, renewed, feeling, confidence, united, nati...\n",
       "4127    [sir, behalf, government, people, brazil, wish...\n",
       "4178    [mr, president, election, preside, fifty-third...\n",
       "4342    [﻿let, first, words, world, parliament, confid...\n",
       "4594    [foreign, minister, jean, ping, gabon, greet, ...\n",
       "4761    [﻿mr, president, may, offer, first, compliment...\n",
       "4878    [great, satisfaction, brazil, honour, privileg...\n",
       "5164    [first, time, history, united, nations, female...\n",
       "5250    [mr, president, would, like, outset, express, ...\n",
       "5400    [privilege, address, general, assembly, year, ...\n",
       "5582    [great, pleasure, congratulate, sir, republic,...\n",
       "5795    [﻿, mr, president, permit, express, satisfacti...\n",
       "5992    [sir, first, speaker, general, debate, privile...\n",
       "6083    [brazil, applauds, election, sir, preside, fif...\n",
       "6250    [let, congratulate, sir, republic, bulgaria, u...\n",
       "6508    [﻿mr, president, please, accept, congratulatio...\n",
       "6569    [﻿mr, president, wish, begin, expressing, grat...\n",
       "6655    [great, pleasure, present, compliments, mr, am...\n",
       "6843    [brazil, attending, twenty-seventh, session, g...\n",
       "7023    [first, addressed, assembly, rostrum, stressed...\n",
       "7261    [congratulate, secretary-general, assumption, ...\n",
       "7429    [﻿i, greet, mr, president, pay, tribute, repub...\n",
       "Name: text, dtype: object"
      ]
     },
     "execution_count": 491,
     "metadata": {},
     "output_type": "execute_result"
    }
   ],
   "source": [
    "df_brazilc['text'] = df_brazilc.apply(lambda y: no_stop_words(y['text']), axis=1)\n",
    "df_brazilc['text']"
   ]
  },
  {
   "cell_type": "code",
   "execution_count": 492,
   "metadata": {},
   "outputs": [],
   "source": [
    "for b in df_brazilc['text']:\n",
    "    clean_brazil_tokens = b"
   ]
  },
  {
   "cell_type": "code",
   "execution_count": 493,
   "metadata": {},
   "outputs": [
    {
     "data": {
      "text/plain": [
       "[('must', 14),\n",
       " ('united', 13),\n",
       " ('nations', 12),\n",
       " ('international', 12),\n",
       " ('world', 11),\n",
       " ('brazil', 11),\n",
       " ('countries', 10),\n",
       " ('peace', 9),\n",
       " ('development', 9),\n",
       " ('terrorism', 9),\n",
       " ('—', 8),\n",
       " ('globalization', 8),\n",
       " ('peoples', 6),\n",
       " ('states', 6),\n",
       " ('solidarity', 5),\n",
       " ('new', 5),\n",
       " ('general', 5),\n",
       " ('act', 5),\n",
       " ('century', 5),\n",
       " ('state', 5)]"
      ]
     },
     "execution_count": 493,
     "metadata": {},
     "output_type": "execute_result"
    }
   ],
   "source": [
    "Counter(clean_brazil_tokens).most_common(20)"
   ]
  },
  {
   "cell_type": "code",
   "execution_count": 494,
   "metadata": {},
   "outputs": [
    {
     "data": {
      "image/png": "[encoded data removed]",
      "text/plain": [
       "<Figure size 3240x720 with 1 Axes>"
      ]
     },
     "metadata": {
      "needs_background": "light"
     },
     "output_type": "display_data"
    }
   ],
   "source": [
    "plt.figure(figsize=(45,10))\n",
    "sns.countplot(clean_brazil_tokens, order=pd.Series(clean_brazil_tokens).value_counts().index[:10])\n",
    "plt.xticks(rotation=90)\n",
    "plt.xlabel('Top Ten Common Words of Statements from Brazil')\n",
    "plt.title('Common Word Count')\n",
    "plt.show()"
   ]
  },
  {
   "cell_type": "markdown",
   "metadata": {},
   "source": [
    "From the plots obtained above we can observe that after removing the stopwords/ helping verbs from the texts from all the three countries the most commonly repeated meaningful words are \"japan\" from Japan's text and \"must\" from Colombia's and Brazil's text. The word \"peace\" from Japan's text, \"assembly\" from Colombia's text and \"terrorism\" from Brazil's text are least frequently repeated among the top 20 most commonly repeated words. Also the cleaned texts do not show the repeatitive pronounciations unlike the unclean texts. "
   ]
  },
  {
   "cell_type": "markdown",
   "metadata": {},
   "source": [
    "### <span style=\"color:magenta\"> Q4. [20 pts] Lemmas across sessions\n",
    "1. Select three UN sessions covered by the data.\n",
    "1. Obtain the lemmas and their counts for all statements for a given session and select the top 10+ lemmas (your choice for how many to consider). \n",
    " - Remove stop words, punctuations, and any other characters or words you deem necessary during this process.\n",
    "1. Of the lemmas with counts above zero across all three sessions, select five and plot them and their counts across time. Make sure your plot is labeled and has a title. \n",
    "1. Describe the patterns you can see in the plot. Does it seem to indicate any changes in topics over time? Can you relate any of these trends to world events occurring at that time?"
   ]
  },
  {
   "cell_type": "code",
   "execution_count": 495,
   "metadata": {},
   "outputs": [
    {
     "name": "stdout",
     "output_type": "stream",
     "text": [
      "['i', 'me', 'my', 'myself', 'we', 'our', 'ours', 'ourselves', 'you', \"you're\", \"you've\", \"you'll\", \"you'd\", 'your', 'yours', 'yourself', 'yourselves', 'he', 'him', 'his', 'himself', 'she', \"she's\", 'her', 'hers', 'herself', 'it', \"it's\", 'its', 'itself', 'they', 'them', 'their', 'theirs', 'themselves', 'what', 'which', 'who', 'whom', 'this', 'that', \"that'll\", 'these', 'those', 'am', 'is', 'are', 'was', 'were', 'be', 'been', 'being', 'have', 'has', 'had', 'having', 'do', 'does', 'did', 'doing', 'a', 'an', 'the', 'and', 'but', 'if', 'or', 'because', 'as', 'until', 'while', 'of', 'at', 'by', 'for', 'with', 'about', 'against', 'between', 'into', 'through', 'during', 'before', 'after', 'above', 'below', 'to', 'from', 'up', 'down', 'in', 'out', 'on', 'off', 'over', 'under', 'again', 'further', 'then', 'once', 'here', 'there', 'when', 'where', 'why', 'how', 'all', 'any', 'both', 'each', 'few', 'more', 'most', 'other', 'some', 'such', 'no', 'nor', 'not', 'only', 'own', 'same', 'so', 'than', 'too', 'very', 's', 't', 'can', 'will', 'just', 'don', \"don't\", 'should', \"should've\", 'now', 'd', 'll', 'm', 'o', 're', 've', 'y', 'ain', 'aren', \"aren't\", 'couldn', \"couldn't\", 'didn', \"didn't\", 'doesn', \"doesn't\", 'hadn', \"hadn't\", 'hasn', \"hasn't\", 'haven', \"haven't\", 'isn', \"isn't\", 'ma', 'mightn', \"mightn't\", 'mustn', \"mustn't\", 'needn', \"needn't\", 'shan', \"shan't\", 'shouldn', \"shouldn't\", 'wasn', \"wasn't\", 'weren', \"weren't\", 'won', \"won't\", 'wouldn', \"wouldn't\"]\n"
     ]
    }
   ],
   "source": [
    "from nltk.corpus import stopwords\n",
    "print(stopwords.words('english'))\n",
    "df_final['text'] = df_final['text'].str.lower().str.replace(\"[$&+,:;=?@#|'<>.-^*{}()%!]\",'')"
   ]
  },
  {
   "cell_type": "code",
   "execution_count": 496,
   "metadata": {},
   "outputs": [],
   "source": [
    "session_one = df_final.text.iloc[60]\n",
    "session_one\n",
    "session_token_one = nltk.word_tokenize(session_one)"
   ]
  },
  {
   "cell_type": "code",
   "execution_count": 497,
   "metadata": {},
   "outputs": [
    {
     "name": "stdout",
     "output_type": "stream",
     "text": [
      "Meaningful words from text one:  ﻿ bring greetings government people grenada delegation joins many eloquent expressions confidence trust reposed presidents great diplomatic interpersonal skills presides unparalleled confidence competence deliberations forty-fourth session general assembly additionally ray delegation places record admiration esteem former foreign minister argentina mr dante caputo outstanding conduct forty-third session united nations general assembly ray light burst forth international scene closing days forty-third session general assembly gives hope curtain continues rise assemblys forty-fourth session international peace goodwill sustained end nations increase trust one another feel safer end secure deliberations interactions secretary-general united nations ardent advocate peace extensive travels many geographical regions advanced peace process quiet effective skilful diplomacy left national leaders walk corridors power sail favourable wind blowing favourable tide flowing direction international peace security quote secretary-general recent address summit non-aligned movement belgrade never history non-aligned movement fluidity international affairs see today fluidity international affairs eloquently described mr perez de cuellar gives hope peaceful resolution erstwhile conflicts many areas world lately signs peace emerged greater good three-dimensional aspect conflict region southern africa - namely question namibia destabilization front-line states vicious diabolical institutionalised practice racism apartheid - beginning shows signs fluidity secretary-general referred namibia best example last african colony please god soon throw shackles colonialism take place community independent nations rightfully belongs prospect independence namibia came closer december united nations impressive ceremonies bilateral agreement signed cuba angola allow phased withdrawal cuban troops angola similarly tripartite agreement signed cuba angola south africa south africa undertook withdraw forces namibia like manner enabled secretary-general united nations establishment dispatch united nations transition assistance group united nations angola verification mission region accordance security council resolution december thereby implementing security councils overall plan namibia enclosed resolution initial difficulties frustrations encountered since april united nations team arrived namibia worked spirit determination goodwill sides ensure namibias independence appointed time afford defer another time paraphrase immortal william shakespeare tide flowing direction independence missed cause misery lives gallant determined people accepted time new time namibias deliverance oppressive forces time bring glad tidings poor proclaim liberty captives give release prisoners namibia succeeds create psychological climate hasten pulling-down odious wicked outdated practice apartheid attendant pressures front-line states attention entire international community focused south africa see whether new president capable ushering new society promised whether so-called new approach mere tactical manoeuvre consolidate hold power government people grenada history judge president de klerk conduct rather words event writing wall see even architects proponents barbarous practice integral significant dimension situation south africa continued detention nelson mandela undisputed leader majority people country immoral display cowardice part south african government attempt pursue negotiations mandela time view resolving problems beset country bargaining power clearly unequal therefore call south african government release unconditionally facilitate meaningful dialogue parties dispute mandela must capable forming entirely free unfettered judgement totally independent measure control recently concluded paris conference cambodia removing obstacles peace nevertheless gives hope peace possible region borne fact cambodian parties accepted secretary-generals idea organizing preliminary fact-finding mission gather on-site technical data facilitate substantive discussion pursuit peace problem korean peninsula legacy second world war aftermath perfect example rivalry great powers away borders borders far-away neighbours divide closely knit industrious people linked consanguinity affinity cultural e elation ship recent proposal made president roh tae hoc republic korea national assembly north south korea adopt national community charter order form korean commonwealth two koreas offers much hope interim association preparation national unification hoped continued dialogue constant contact north south korea way cleared adoption charter august - forty-fifth anniversary unnatural korean division dichotomy - thereby creating one nation one people remarkable talent industry proposal gain acceptance impediment admission membership community nations republic korea north korea western sahara peace plan submitted secretary-general head organization african unity followed secretary-generals proposal establishment technical commission implement proposal well received morocco polisario front high-level meetings two parties taking place good offices secretary-general hoped goodwill sides settlement long eluded us finally cornered achieved much way communal talks cyprus though crucial stage offer hope peaceful settlement help secretary-general representatives interim united nations peace-keeping force cyprus deserves full support international community strives provide buffer maintain peace greek turkish communities geneva agreement april paved way withdrawal foreign forces afghanistan promising step towards peaceful settlement intermittent attacks still continue level conflict considerably diminished reduced human suffering therefore opportune time international community seize upon initiative everything necessary ensure permanent end fighting commencement level dialogue could pave way negotiated political solution connection delegation wishes congratulate prime minister pakistan contribution contained recent statement afghan question middle east cease-fire iran-iraq war took effect slightly year ago still holding despite occasional charges counter-charges sides therefore promise full implementation security council resolution restoration stability security region wish however remind assembly unending plight members bahai faith iran continuing deprivation sacred right freedom worship informed since end forty-third session small measure improvement attitude iranian government bahais still denied freedom profess religion permitted meet community place worship administrative institutions banned properties still confiscated holy places sacred entire world-wide bahai community still sequestered destroyed continuing religious social persecution cries redress threatens fragile peace secured cease-fire united nations must therefore address problem seriously urgently avoid return recent instability country arab-israeli conflict future palestinians continues one major stumbling blocks efforts find acceptable solutions international disputes secure peace universally palestine national council meeting algiers historical geneva meeting united nations general assembly followed brought new hope breakthrough great expectation looked positive movement towards real lasting settlement therefore measure disappointment ray delegation notes appreciable movement peace process best present position described one cautious optimism nut continue search acceptable solution must tire falter stakes high consequences failure dangerous must therefore persevere end situation lebanon continues cause great concern sovereignty territorial integrity political independence state member united nations continues trampled upon array military forces - foreign local aid senseless destruction human lives property continues unabated united nations duty body security council give serious immediate consideration matter view finding urgent solution problem restoring peace stability troubled land central america five presidents tirelessly seeking find peaceful solution decade conflict region commend efforts achieve negotiated settlement conflict thereby fulfilling aspirations command respect exercise independence sovereignty self-determination panama however situation deteriorated people continue denied god-given right elect government choice strong-arm tactics one man called tune prejudice vast majority population united nations duty speak forcefully system help correct situation delegation subscribes view implementation esquipulas ii agreement offers best hope peace region agreement buttressed united nations reconnaissance mission spot region purpose verification monitoring electoral process followed repatriation resettlement united nations high commissioner refugees displaced persons families central peace process central america humanitarian request tine five presidents made general assembly approved special plan economic co-operation central america additionally recent international conference central american refugees held guatemala city may signalled good intentions region international community peace national reconciliation social economic political situation central america many developing countries aggravated external debt problem become millstone around necks brave valiant people experiencing economic strangulation way life situation haiti particular concern ray country neighbours hemisphere haiti oldest black republic face earth except united states america oldest sovereign state hemisphere attained status grenada special affinity haiti revolutionary leader king haiti henri christophe born grenada government people grenada pleased see high-level delegation caribbean foreign ministers visit haiti purpose ascertaining first-hand information aid caribbean community carcm heads state offer help requested delegation hopes prompt issuance electoral calendar promised concrete steps taken ensure free fair lections smooth easy transition democracy successful co-operative management affairs haiti illuminated hemisphere revolutionary light fervour every occasion past four years delegation addressed subject external debt advanced idea practical course must found bring relief debtor countries repayment debt legal moral responsibility debtor debt relief view prevailing third-world economic situation given humane moral consideration creditors delegation commends creditor nations beginning exercise consideration either forgiving reducing debt obligation positive step reduce social economic frustrations hardships threaten stability security many debtor countries ease region narrow base economies specific character external debt primarily multilateral institutions emphasize need programmed debt reduction way ensure necessary financial means available investing generations future putting place necessary infrastructure upon future built forty-third session general assembly occasion invoke peculiar plight small island developing countries would remiss reiterate forty-fourth session concerns expressed especially light devastation hurricane hugo recently wrought three sister caribbean states namely antigua barbuda dominica st kitts nevis well montserrat territories region indeed forty-third session resolution entitle specific measures favour island developing countries general assembly acknowledged specificity member states category must however effective implementation paragraphs resolution fact meaningful follow-through matter specific measures entails actively engaging united nations conference trade development unctad well various agencies united nations system level financial measures funding operational activities results inter-agency framework identified secretary-general must translated concrete action session general assembly taking place threshold final decade tills century would appear sense urgency entered debate regarding development developing world thus high level segment thirty-sixth session governing council united nations development programme undp focus attention role united nations development programme call special session general assembly april devoted international economic co-operation particular revitalization economic growth development developing countries yet another forum throes formulating intended international development strategy fourth united nations development decade decade delegation sincerely hopes international community face challenge addressing issues highlighted context comprehensive policy review operational activities united nations system item agenda caribbean engaging stock-taking may better equipped answer demands expectations peoples decade ahead endogenous efforts area inter alia human resource development housing human settlement health care agriculture industrial development essayed vacuum wish reaffirm grenadas continuing commitment united nations organization american states british commonwealth caribbean community organisation eastern caribbean states national international organizations assist us achieving foreign policy objectives centrepiece promotion peace brotherhood among members global community guided pursuit objective preposition peace democracy inextricably linked comports policy give moral support people struggle peace democracy penchant democracy informed recent traumatic episode history took democracy granted basis experience elected govern governed system inter alia demands guarantees respect rights human person provides numerous safeguards independent judiciary allows freedom expression affords people opportunity participate political decision-making process imposes restraints dictators every persuasion tendency yet capable accommodating many differences diversities brings consideration two issues potentially capable mortgaging future youth protection environment drug trafficking drug abuse questions agenda recently concluded tenth meeting heads government caribbean community - meeting country honour hosting last july mans propensity self-destruction heretofore object concern within ambit international warfare modern-day scourges man-propelled degradation environment drug abuse drug trafficking must frontally attacked must build heightened consciousness transboundacy nature problems hammer solutions keeping focus vein grenada fully subscribes precepts embodied basle convention control transboundary movement hazardous wastes disposal adopted march noted meeting heads government alluded earlier caribbean endorsed proposals combat drug trafficking submitted jamaica trinidad tobago said proposals found expression two draft resolutions considered forty-fourth session general assembly clearly envisage active role foe united nations domain could viewed furthering objectives united nations convention illicit traffic narcotic drugs psychotropic substances adopted vienna december last year delegation congratulated president reagan president gorbachev contributions lessening international tensions urged continue dialogue wind change blowing certain regions would increase intensity increase encompass whole world bringing greater understanding tolerance among peoples wish congratulate president bush contribution new spirit detente rapprochement ask maintain president gorbachev level dialogue would enable achieve trust confidence vital relaxation international tensions note satisfaction joy new political climate soviet union poland hungary czechoslovakia certain parts central america africa note also recent parliamentary elections soviet union poland emergence solidarity-led government poland relief see east germans able cross west germany without exposed threat death process doubt last year made appreciable progress several fields several regions world come long way abating tensions dangers often threatened us destruction must however lower guard relax vigilance lest become complacent let us rather ever mindful continuing threat posed world three international problems drug menace debt burden south africa problem one could plunge world darkness despair must intensify efforts search new ways dealing problems may able neutralize eventually remove dangers world peace inherent continued existence belief however notwithstanding progress might make elsewhere world world continue threatened long south africa problem remains unresolved civilized man must never allow perceived accepted acquiesced continuance beastly system government south africa time come influence prestige united nations must speak forcefully apartheid aid initiate level dialogue kind action could lead immediate dismantling system granting approximately million black people country god-given right choose form government exercise franchise five years ago people grenada traded rifles ballot box bold attempt fulfil aspirations freedom inalienable feature democratic culture today grenada peace aid peace democracy black majority south africa right peace democracy duty help achieve could find courage accept urgent need act together necessary resolve seeking solutions seemingly intractable problems world might day lifetime come experience aid enjoy peace stability prosperity eluded us long may god continue shower blessings upon us may also continue guide us plod weary way search happiness security\n"
     ]
    }
   ],
   "source": [
    "stopwords = set(stopwords.words('english'))\n",
    "meaningful_session1 = []\n",
    "for t in session_token_one:\n",
    "    if not t.lower() in stopwords:\n",
    "        meaningful_session1.append(t)\n",
    "wordsent = ' '.join(meaningful_session1)\n",
    "wordsent\n",
    "print(\"Meaningful words from text one: \",wordsent)"
   ]
  },
  {
   "cell_type": "code",
   "execution_count": 498,
   "metadata": {},
   "outputs": [],
   "source": [
    "session_two = df_final.text.iloc[100]\n",
    "session_two\n",
    "session_token_two = nltk.word_tokenize(session_two)"
   ]
  },
  {
   "cell_type": "code",
   "execution_count": 499,
   "metadata": {},
   "outputs": [
    {
     "name": "stdout",
     "output_type": "stream",
     "text": [
      "Meaningful words from text one:  ﻿it gives great pleasure sir offer behalf pakistan delegation warm sincere felicitations election president ganeral assembly forty-fourth session unanimous election tribute well recognition important role played nigeria promoting international peace security progress relations two countries highly treasure always marked friendship understanding co-operation confident guide deliberations assembly distinction like express deep appreciation leadership provided predecessor excellency mr dante caputo presiding previous session general assembly like also pay special tribute secretary-general excellency mr javier perez de cuellar untiring efforts promote purposes principles united nations cause international peace leadership united nations emerged credible effective instrument promotion maintenance peace around world pakistan continue extend full co-operation consolidation international peace security progress honoured bring body greetings people government pakistan new era democracy ushered people pakistan last december long arduous struggle peaceful electoral process new spirit pervades society people confident political institutions thriving judiciary independent information media free governments commitment ideals principles democracy matched equally firm commitment promoting welfare people since assuming office prime minister benazir bhutto devoted energies improving lot poor masses government launched comprehensive programmes eradication poverty elimination illiteracy provision shelter aid basic health care integration women development protection human rights also declared war drug trafficking drug abuse people pakistan rejoice world-wide triumph democracy freedom measure commitment strengthening democracy pakistan elsewhere prime minister pakistan proposed june year establishment association democratic nations cultural historical ideological ethos different countries leads choose models popular participation best suited circumstances proposal seeks bring together democracies may draw strength work jointly promotion human rights fundamental freedoms believe consolidation democratic principles strengthen united nations cause international peace stability stand threshold twenty-first century world undergoing profound transformation east-west dialogue eased international tension confrontation past could well replaced spirit constructive competition co-operation number regional conflicts appear yielding growing international resolve settle disputes peaceful means troubled areas world witnessed appreciable movement towards peaceful conditions others continue marked strife afghanistan unfortunately one countries peace yet returned wish dwell past suffice say epic struggle heroic people afghanistan led withdrawal foreign troops could lead resolution problem geneva accords april constitute comprehensive settlement since addressed external aspects problem framework internal settlement provided general assembly resolution called establishment bread-based government afghanistan acceptable people afghanistan voluntary return million afghan refugees homeland aid free exercise right self-determination people afghanistan - elements essential comprehensive political settlement formation ai afghan interim government february year marked important step towards objective setting broad-based government afghanistan kabul regime rejected afghan people sustained within strongholds massive infusions soviet arms representative group segment afghan population willing enter negotiations share power kabul regime held responsible death destruction caused conflict afghanistan past decade solution lies transfer power broad-based government acceptable afghan people discredited kabul regime however refused transfer power peacefully major propaganda offensive made self-serving proposals intended legitimize proposals rejected afghan people kabul regime failed hoodwink afghan people international community chosen path war desperate bid survival indeed ironic kabul regime responsible continuation conflict afghanistan seek shift blame pakistan levelling baseless allegations interference violations geneva accords allegations investigated united nations good offices mission afghanistan pakistan none substantiated content false propaganda kabul regime sought pressure pakistan scud missile attacks ground air violations acts sabotage pakistan intimidated remain steadfast quest comprehensive political settlement afghanistan problem shall continue lend full support secretary-general efforts bring settlement confident assembly reiterate call comprehensive settlement afghanistan issue including establishment broad-based government kabul acceptable people afghanistan voluntary return afghan refugees homeland free exercise right self-determination afghan people kampuchea afghanistan foreign military intervention resulted imposition illegal unrepresentative regime disappointed failure paris conference kampuchea failure due primarily attempts regime kampuchea legitimize consequences foreign military intervention earnest hope comprehensive political settlement soon arrived resulting free exercise right self-determination people kampuchea complete withdrawal vietnamese forces tragedy people palestine endures israel continues deny inalienable national rights palestinian people remains illegal occupation palestinian arab territories people palestine waged heroic struggle restoration national rights unarmed palestinian youths stood firm face full might tine callous aid brutal israeli armed forces resorted murder mass detentions deportations blowing homes palestinians closing educational institutions aid strangling economic life pakistan condemns zionist atrocities durable solution problem possible throucfa unconditional total withdrawal israeli forces occupied palestinian arab territories including al-quds al-sharif restoration right palestinian people self-determination establish independent state palestine leadership palestine liberation organization plo sole legitimate representative believe best achieved international conference middle east full participation palestine liberation organization equal footing proclamation state palestine initiatives pid peaceful settlement widely welcomed throughout world international community aid particularly friends israel must persuade israel respond positive manner initiatives nothing repugnant human spirit spectacle society organized basis racist doctrines racist minority illegal regime pretoria continues practise odious system apartheid brutal force intensity left long-suffering people south africa option intensify struggle racist regime firm conviction irrepressible demand majority community south africa equality liberty majority rule suppressed long government pakistan fully supports valiant struggle freedom equality dignity support demand international community imposition comprehensive mandatory sanctions racist pretoria regime till eradication apartheid establishment majority rule south africa must ensure retrogression areas united nations achieved success promoting peaceful solutions raging conflicts approaching independence namibia stronghold colonialism nearing end valiant protracted struggle people namibia dynamic leadership south west africa peoples organization swapo supported united nations paved way namibias independence international community must ensure independence plan scrupulously adhered south africa practices contravention letter spirit security council resolution cease forthwith pakistan proud associated implementation independence plan aegis united nations contribution personnel united nations transition assistance group day far namibia occupy rightful place independent state comity nations remain hopeful peace talks iran iraq united nations auspices implementation security council resolution lead comprehensive durable settlement two countries able devote energies gigantic task economic social reconstruction area deserves urgent attention united nations plight minorities many parts world denied fundamental human rights treated outcasts fair game discriminatory treatment states whose citizens must provide full protection states concerned fail indeed become tormentors duty international community demonstrate effectively concern hapless unfortunate minorities particularly concerned juncture travail turkish muslim minority bulgaria bulgarian muslims forced take refuge turkey hope policy forced assimilation led exodus aid evoked world-wide concern abandoned aid human rights bulgarian muslims respected positive developments political arena east west unfortunately reflected field international economic relations particularly north south despite recognition growing interdependence world economy divide rich poor nations continues widen dialogue remains stalled economic problems developing world remain unaddressed many eminent leaders developing countries articulated rostrum deepening concern continuing economic crisis third world socio-political consequences crisis developing economies well known fundamental issue facing developing world simple one - inability foster socio-economic progress welfare ai uncongenial external economic environment economic situation many developing countries deteriorated number people living poverty line increased reduced external assistance debt-servicing low commodity prices adverse terms trade increased protectionism resulted massive reverse financial flows economies large number developing countries thus drained process development brought standstill third world countries continue impress upon industrialized north need increasingly interdependent world resolve international economic issues dialogue however efforts revive north-south dialogue foundered negative attitude north major industrialized countries impervious concerns third world best marginal role international economic financial decision-making external debt burden third world countries reached astronomical figure trillion believe equitable solution debt problem must devised would allow reasonable economic growth aid avoid disrupting political social fabric debtor nations debt relief measures apply official commercial debts countries managed external debts efficiently penalized excluded debt-relief measures development assistance must also enhanced protectionist policies developed countries support inefficient local industry run contrary principle comparative advantage reduce world productivity act serious obstacle way economic development developing countries tariff non-tariff barriers imports developing countries erected countries advocate merits free-market economies time lead example rather precept dismantle barriers also hope current multi-fibre agreement mfa extended expires time resume dialogue special session devoted international economic co-operation revitalization economic growth end development developing countries scheduled provide opportunity adoption concrete measures redress structural problems besetting international economic relations simultaneously serious attention must devoted elaboration international development strategy fourth united nations development decade protection preservation environment indeed shared objective pakistan part consistently supported international efforts end believe however improvement environment closely linked eradication poverty thus inherent relationship environmental improvement economic development equally important developed countries provide technology financial resources developing countries fight environmental degradation sustaining accelerating economic growth furthermore environment subject north-south agenda entire range economic issues must discussed view finding common solutions pakistan always forefront efforts promote international peace security remove nuclear threat hangs humanity therefore welcomed commencement talks united states soviet union reduction strategic nuclear weapons expectation talks lead substantial reduction nuclear arsenals two super-powers ultimately total elimination nuclear weapons pending achievement ultimate objective effective legally binding international arrangements must worked assure non-nuclear-weapon states use threat use nuclear weapons matter regret conclusion comprehensive nucler~test-ban treaty essential first step towards halting reversing nuclear-arms race remained elusive strongly urge early adoption treaty pakistan consistently supported negotiations global level progress towards general aid complete disarmament however recognize progress towards goal likely slow meanwhile desirable peace-loving countries consider measures disarmament regional level view strengthening regional peace stability denied sense insecurity experienced smaller states usually emanates within region origin insecurity lies variety factors including unresolved territorial disputes ambitions regional dominance hegemonic designs interventionist policies security concerns states differ region region depending upon nature threat perceptions therefore regional approach offers realistic prospect rapid progress towards disarmament believe confidence-building disarmament negotiations pursued simultaneously global aid regional levels pakistan abides concept nuclear non-proliferation also expects nuclear powers reciprocate eliminating nuclear-weapon stocks concept non-proliferation used pretext prevent developing countries pursuing nuclear technology peaceful purposes let reiterate pakistans nuclear programme devoted entirely peaceful purposes commitment keeping region free nuclear weapons led us propose pending adoption global treaty regional bilateral test-ban agreements may concluded spirit pakistan made number proposals including establishment nuclear-weapon-free zone south asia proposal repeatedly endorsed general assembly support steps prevent arms race outer space attach equal importance early conclusion convention prohibiting development production stockpiling use chemical weapons negotiations conventional disarmament global aid regional levels must also pursued vigorously view ensuring undiminished security states concerned lowest level armaments military expenditures objective become important increasing sophistication destructive power conventional weapons naval disarmament also acquired urgency view rapid growth naval flotillas states including introduction nuclear-powered submarines trend cause serious concern may lead arms race field qualitatively higher level scale since independence pakistan steadfastly pursued goal improving security environment neighbourhood lb end made consistent efforts develop good-neighbourly co-operative relations neighbours including india based principles sovereign equality aid non-interference internal affairs states spirit simla agreement shall continue seek peaceful settlement jammu kashmir dispute accordance relevant united nations resolutions recognize right people state decide future agreement non-attack others nuclear facilities signed india pakistan december constitutes significant confidence-building measure stabilizing effect security situation south asia part prepared enter negotiations similar measures hope india respond positively initiatives aid proposals aimed strengthening regional peace security south asian association regional co-operation saarc offers excellent opportunity member states forge greater co-operation fourth saarc summit held islamabad december last year took number momentous decisions evolving regional approaches common problems designation saarc year combating drug abuse drug trafficking underscored joint commitment south asian countries eliminate scourge region role united nations maintenance international peace stability indispensable welcome successful role played united nations resolving disputes conflicts member states united nations must also provide platform developing partnership rich poor let us pledge make world body stronger may address effectively issues universal concern recognition common destiny mankind co-operative approach resolving problems facing us hope usher progressive world order based peace security justice\n"
     ]
    }
   ],
   "source": [
    "meaningful_session2 = []\n",
    "for t in session_token_two:\n",
    "    if not t.lower() in stopwords:\n",
    "        meaningful_session2.append(t)\n",
    "wordsent = ' '.join(meaningful_session2)\n",
    "wordsent\n",
    "print(\"Meaningful words from text one: \",wordsent)"
   ]
  },
  {
   "cell_type": "code",
   "execution_count": 500,
   "metadata": {},
   "outputs": [],
   "source": [
    "session_three = df_final.text.iloc[160]\n",
    "session_three\n",
    "session_token_three = nltk.word_tokenize(session_three)"
   ]
  },
  {
   "cell_type": "code",
   "execution_count": 501,
   "metadata": {},
   "outputs": [
    {
     "name": "stdout",
     "output_type": "stream",
     "text": [
      "Meaningful words from text one:  mr president instead offering congratulations preceding speakers done wish thank behalf delegation thank sought accepted election presidency historic session general assembly bring high office rare combination experience qualifications distinguished diplomat country also distinguished international civil servant eminent scholar also practitioner craft government country background mr president delegation confident management affairs principled practical expeditious hit expedient year celebrate twenty -- fifth anniversary founding united nations even celebrate occasion owe future also make realistic appraisal strengths weaknesses organization prevails substantial body opinion maintains performance united nations fallen far short expectations described organization facing crisis confidence others said united nations afflicted creeping irrelevance one thoughtful critic recently written united nations today probably enjoys less confidence part members public large previous time history causes extensive discontent united nations first cause lies fact united nations largely failed fulfill primary purpose maintain international peace security period since second world war world fortunately spared another global conflict world peaceful place two half decades passed fifty-six conflicts nations involved use threat violence nineteen conflicts interstate character fifteen internal conflicts significant external involvement ten primarily internal twelve others conflicts colonial nature six conflicts said united nations played crucial role snuffing flames war restoring semblance peace second although charter charges united nations promote encourage respect human rights freedoms without distinction race language sex religion truth united nations powerless intercede behalf individuals whose rights cruelly infringed arbitrary actions government victims racial sexual linguistic religious discrimination past twenty-five years united nations enacted impressive body united nations law human rights little vast body law however implemented member states third discourse united nations impressed observers within outside organization consisting mainly propaganda inflated rhetoric fourth decisions united nations main deliberative organs always conformed principle controlled proven facts state affairs result fact delegations approach question position adopt proposal dispute considering truth matter lies short-term self-interests lie equally reprehensible process vote trading bloc voting things reached low point nation look safely united nations assure security external aggression country victim naked incontrovertible aggression stronger bigger nation victim took complaint security council odds council would intercede repel aggressor operative norm seems observed conduct nations united nations following dispute two states one friendly try get involved unavoidable support stronger weaker may true meek shall inherit earth contingent interest strong possess earth show sign immediate mortality fifth reality mirrored united nations often odds objective reality reality world derives fact many nations play game masquerade united nations thus regimes feudal andor repressive home known send united nations representatives pose champions human rights liberalism discrepancy reality home policies pursued postures assumed united nations reduce credibility organization well diminish utility member states center monitor political trends events around world sixth although charter speaks united nations center harmonizing actions nations member states conspicuous seeking use organization end contrary tendency united nations exaggerate differences competing interest groups confront show passion drama sometimes inconsequential matters mere linguistic difference period ideological east west ever ready take cold war knew abated continues abate another specter looming horizon specter increasingly frequent bitter confrontation north rich countries south symbolizing poor countries eastwest confrontation productive nothing except misunderstanding rancor acrimony northsouth confrontation would likely prove equally sterile therefore hoped representatives rich poor nations turn away unproductive course undiplomatic diplomats united nations must reminded primary purpose seek accord discord accord beyond attainment side shows willingness compromise rich give meaningful help poor part must demand less others external help must underwritten maximum possible self-help seventh output achievement united nations commensurate input input consists numberless hours spent representatives meetings conferences experts officials secretariat preparing reports meetings resources bodies commissions sub commissions committees agencies make united nations family system much apparent effort produced little result perhaps one reason overlapping memberships bodies human ingenuity limited speeches made speakers different bodies one would also justified suspecting great proliferation united nations bodies tended towards greater efficiency contrary may detracted therefrom clear united nations need family planning program conscious fact spoken critically united nations intention cause organization harm contrary intention diagnose ills organization together find remedies maladies one noted scholar said institutions languish lovers uncritical critics unloving identify one critical lovers loving critics united nations spirit let turn ask resuscitate united nations two aspects united nations need resuscitation first constitutional second cerebral first concerned improving organization procedures rules customs practices united nations pursuance objective delegation joined canada several delegations proposing new agenda item entitled rationalization procedures organization general assembly propose committee created examine system committees allocation agenda items organization work assembly documentation rules procedure submit recommendations thereon next session assembly intention preempt work proposed committee like touch briefly salient points clear general assembly carry work efficiently must guided steering committee intention charter general committee steering committee assembly general committees past assembly sessions however made effective use powers intimidated dead hand precedent must clearly understood nothing sacrosanct existing structure committees previous decisions concerning allocation agenda items different committees whether agenda item made subitem another item stand single item whether several agenda items pertaining subject matter discussed together separately questions discussed dispassionately rationally general committee subject obfuscating procedural politics committee also ensure equitable distribution workload among committees well prevent duplication work committees may impractical perhaps even undesirable impose time-limits speeches general assembly may beneficial consider whether imposition time-limits statements committees would helpful particularly desirable delegations view case second subsequent statements speakers item well rights reply facilitate work committees would helpful chairmen committees establish commencement session committee one working groups purpose reconciling conflicting draft resolutions respect security council delegation welcomes recent decision council meet periodically closed session minimum level foreign ministers feel security council make greater use individuals small committees meet parties disputes order explore possibilities settlement would also support proposal security council create united nations panel fact-finding mediation support proposal member states unwilling accept judgments third parties might willing accept process factfinding mediation reserving right challenge conclusions third parties panel consist men chosen secretarygeneral basis skill expertise settlement international domestic disputes foregoing suggestions designed improve machinery united nations improving machinery united nations however one half cure half crucial less easy accomplish persuade member states change policies pursue towards united nations towards one another united nations unless member states prepared procedural institutional reforms little avail first member states attempt understand better nature general assemblys decision-making process essential otherwise shall know may properly refer questions general assembly refrain scholars postulated decision-making processes analytically three types legislative adjudicative managerial legislative type decision-making process one enunciates rule principle norm general application adjudicative type decision one settles dispute two parties accordance preexisting rule principle norm decision concerning certain given resources ought allocated characterized managerial decision-making process general assembly appears us approximate legislative model correct giving characterization follows delegations refrain referring questions general assembly amenable legislative type decision border dispute two states example raises issues amenable legislative decision therefore referred general assembly failure heed likely bring result using machine purpose designed would job left undone also run risk wrecking machine second demands member states make united nations ought governed realistic estimation attainable often delegations forget succeed disillusioning hard-won victory later found impossible implement third finally member states must made recognize one factor undermined strength efficacy united nations fact delegations pursued united nations policies predominantly governed short-term national interests unless nations persuaded conceive self interests longterm perspective addition short-term one unless self-interests married principle prospect next twenty-five years much like past twenty-five years\n"
     ]
    }
   ],
   "source": [
    "meaningful_session3 = []\n",
    "for t in session_token_three:\n",
    "    if not t.lower() in stopwords:\n",
    "        meaningful_session3.append(t)\n",
    "wordsent = ' '.join(meaningful_session3)\n",
    "wordsent\n",
    "print(\"Meaningful words from text one: \",wordsent)"
   ]
  },
  {
   "cell_type": "code",
   "execution_count": 502,
   "metadata": {},
   "outputs": [
    {
     "data": {
      "text/html": [
       "<div>\n",
       "<style scoped>\n",
       "    .dataframe tbody tr th:only-of-type {\n",
       "        vertical-align: middle;\n",
       "    }\n",
       "\n",
       "    .dataframe tbody tr th {\n",
       "        vertical-align: top;\n",
       "    }\n",
       "\n",
       "    .dataframe thead th {\n",
       "        text-align: right;\n",
       "    }\n",
       "</style>\n",
       "<table border=\"1\" class=\"dataframe\">\n",
       "  <thead>\n",
       "    <tr style=\"text-align: right;\">\n",
       "      <th></th>\n",
       "      <th>Word</th>\n",
       "      <th>Count</th>\n",
       "    </tr>\n",
       "  </thead>\n",
       "  <tbody>\n",
       "    <tr>\n",
       "      <td>0</td>\n",
       "      <td>nations</td>\n",
       "      <td>29</td>\n",
       "    </tr>\n",
       "    <tr>\n",
       "      <td>1</td>\n",
       "      <td>united</td>\n",
       "      <td>26</td>\n",
       "    </tr>\n",
       "    <tr>\n",
       "      <td>2</td>\n",
       "      <td>peace</td>\n",
       "      <td>25</td>\n",
       "    </tr>\n",
       "    <tr>\n",
       "      <td>3</td>\n",
       "      <td>international</td>\n",
       "      <td>19</td>\n",
       "    </tr>\n",
       "    <tr>\n",
       "      <td>4</td>\n",
       "      <td>community</td>\n",
       "      <td>14</td>\n",
       "    </tr>\n",
       "  </tbody>\n",
       "</table>\n",
       "</div>"
      ],
      "text/plain": [
       "            Word  Count\n",
       "0        nations     29\n",
       "1         united     26\n",
       "2          peace     25\n",
       "3  international     19\n",
       "4      community     14"
      ]
     },
     "execution_count": 502,
     "metadata": {},
     "output_type": "execute_result"
    }
   ],
   "source": [
    "from collections import Counter\n",
    "most_common1 = Counter(meaningful_session1).most_common(20)\n",
    "session1_df = pd.DataFrame(most_common1)\n",
    "\n",
    "session1_df_named = session1_df.rename(columns = {0:\"Word\",1:\"Count\"})\n",
    "session1_df_named.head()"
   ]
  },
  {
   "cell_type": "code",
   "execution_count": 503,
   "metadata": {},
   "outputs": [
    {
     "data": {
      "text/html": [
       "<div>\n",
       "<style scoped>\n",
       "    .dataframe tbody tr th:only-of-type {\n",
       "        vertical-align: middle;\n",
       "    }\n",
       "\n",
       "    .dataframe tbody tr th {\n",
       "        vertical-align: top;\n",
       "    }\n",
       "\n",
       "    .dataframe thead th {\n",
       "        text-align: right;\n",
       "    }\n",
       "</style>\n",
       "<table border=\"1\" class=\"dataframe\">\n",
       "  <thead>\n",
       "    <tr style=\"text-align: right;\">\n",
       "      <th></th>\n",
       "      <th>Word</th>\n",
       "      <th>Count</th>\n",
       "    </tr>\n",
       "  </thead>\n",
       "  <tbody>\n",
       "    <tr>\n",
       "      <td>0</td>\n",
       "      <td>people</td>\n",
       "      <td>23</td>\n",
       "    </tr>\n",
       "    <tr>\n",
       "      <td>1</td>\n",
       "      <td>international</td>\n",
       "      <td>22</td>\n",
       "    </tr>\n",
       "    <tr>\n",
       "      <td>2</td>\n",
       "      <td>pakistan</td>\n",
       "      <td>21</td>\n",
       "    </tr>\n",
       "    <tr>\n",
       "      <td>3</td>\n",
       "      <td>countries</td>\n",
       "      <td>21</td>\n",
       "    </tr>\n",
       "    <tr>\n",
       "      <td>4</td>\n",
       "      <td>nations</td>\n",
       "      <td>19</td>\n",
       "    </tr>\n",
       "  </tbody>\n",
       "</table>\n",
       "</div>"
      ],
      "text/plain": [
       "            Word  Count\n",
       "0         people     23\n",
       "1  international     22\n",
       "2       pakistan     21\n",
       "3      countries     21\n",
       "4        nations     19"
      ]
     },
     "execution_count": 503,
     "metadata": {},
     "output_type": "execute_result"
    }
   ],
   "source": [
    "most_common2 = Counter(meaningful_session2).most_common(20)\n",
    "session2_df = pd.DataFrame(most_common2)\n",
    "\n",
    "session2_df_named = session2_df.rename(columns = {0:\"Word\",1:\"Count\"})\n",
    "session2_df_named.head()"
   ]
  },
  {
   "cell_type": "code",
   "execution_count": 504,
   "metadata": {},
   "outputs": [
    {
     "data": {
      "text/html": [
       "<div>\n",
       "<style scoped>\n",
       "    .dataframe tbody tr th:only-of-type {\n",
       "        vertical-align: middle;\n",
       "    }\n",
       "\n",
       "    .dataframe tbody tr th {\n",
       "        vertical-align: top;\n",
       "    }\n",
       "\n",
       "    .dataframe thead th {\n",
       "        text-align: right;\n",
       "    }\n",
       "</style>\n",
       "<table border=\"1\" class=\"dataframe\">\n",
       "  <thead>\n",
       "    <tr style=\"text-align: right;\">\n",
       "      <th></th>\n",
       "      <th>Word</th>\n",
       "      <th>Count</th>\n",
       "    </tr>\n",
       "  </thead>\n",
       "  <tbody>\n",
       "    <tr>\n",
       "      <td>0</td>\n",
       "      <td>nations</td>\n",
       "      <td>45</td>\n",
       "    </tr>\n",
       "    <tr>\n",
       "      <td>1</td>\n",
       "      <td>united</td>\n",
       "      <td>39</td>\n",
       "    </tr>\n",
       "    <tr>\n",
       "      <td>2</td>\n",
       "      <td>general</td>\n",
       "      <td>13</td>\n",
       "    </tr>\n",
       "    <tr>\n",
       "      <td>3</td>\n",
       "      <td>one</td>\n",
       "      <td>13</td>\n",
       "    </tr>\n",
       "    <tr>\n",
       "      <td>4</td>\n",
       "      <td>assembly</td>\n",
       "      <td>12</td>\n",
       "    </tr>\n",
       "  </tbody>\n",
       "</table>\n",
       "</div>"
      ],
      "text/plain": [
       "       Word  Count\n",
       "0   nations     45\n",
       "1    united     39\n",
       "2   general     13\n",
       "3       one     13\n",
       "4  assembly     12"
      ]
     },
     "execution_count": 504,
     "metadata": {},
     "output_type": "execute_result"
    }
   ],
   "source": [
    "most_common3 = Counter(meaningful_session3).most_common(20)\n",
    "session3_df = pd.DataFrame(most_common3)\n",
    "\n",
    "session3_df_named = session3_df.rename(columns = {0:\"Word\",1:\"Count\"})\n",
    "session3_df_named.head()"
   ]
  },
  {
   "cell_type": "code",
   "execution_count": 505,
   "metadata": {},
   "outputs": [
    {
     "data": {
      "text/html": [
       "<div>\n",
       "<style scoped>\n",
       "    .dataframe tbody tr th:only-of-type {\n",
       "        vertical-align: middle;\n",
       "    }\n",
       "\n",
       "    .dataframe tbody tr th {\n",
       "        vertical-align: top;\n",
       "    }\n",
       "\n",
       "    .dataframe thead th {\n",
       "        text-align: right;\n",
       "    }\n",
       "</style>\n",
       "<table border=\"1\" class=\"dataframe\">\n",
       "  <thead>\n",
       "    <tr style=\"text-align: right;\">\n",
       "      <th></th>\n",
       "      <th>Word</th>\n",
       "      <th>Count_x</th>\n",
       "      <th>Count_y</th>\n",
       "    </tr>\n",
       "  </thead>\n",
       "  <tbody>\n",
       "    <tr>\n",
       "      <td>0</td>\n",
       "      <td>nations</td>\n",
       "      <td>29.0</td>\n",
       "      <td>19.0</td>\n",
       "    </tr>\n",
       "    <tr>\n",
       "      <td>1</td>\n",
       "      <td>united</td>\n",
       "      <td>26.0</td>\n",
       "      <td>16.0</td>\n",
       "    </tr>\n",
       "    <tr>\n",
       "      <td>2</td>\n",
       "      <td>peace</td>\n",
       "      <td>25.0</td>\n",
       "      <td>12.0</td>\n",
       "    </tr>\n",
       "    <tr>\n",
       "      <td>3</td>\n",
       "      <td>international</td>\n",
       "      <td>19.0</td>\n",
       "      <td>22.0</td>\n",
       "    </tr>\n",
       "    <tr>\n",
       "      <td>4</td>\n",
       "      <td>community</td>\n",
       "      <td>14.0</td>\n",
       "      <td>NaN</td>\n",
       "    </tr>\n",
       "  </tbody>\n",
       "</table>\n",
       "</div>"
      ],
      "text/plain": [
       "            Word  Count_x  Count_y\n",
       "0        nations     29.0     19.0\n",
       "1         united     26.0     16.0\n",
       "2          peace     25.0     12.0\n",
       "3  international     19.0     22.0\n",
       "4      community     14.0      NaN"
      ]
     },
     "execution_count": 505,
     "metadata": {},
     "output_type": "execute_result"
    }
   ],
   "source": [
    "full_session1 = session1_df_named.merge(session2_df_named, on= \"Word\", how = \"outer\")\n",
    "full_session1.head()"
   ]
  },
  {
   "cell_type": "code",
   "execution_count": 506,
   "metadata": {},
   "outputs": [
    {
     "data": {
      "text/html": [
       "<div>\n",
       "<style scoped>\n",
       "    .dataframe tbody tr th:only-of-type {\n",
       "        vertical-align: middle;\n",
       "    }\n",
       "\n",
       "    .dataframe tbody tr th {\n",
       "        vertical-align: top;\n",
       "    }\n",
       "\n",
       "    .dataframe thead th {\n",
       "        text-align: right;\n",
       "    }\n",
       "</style>\n",
       "<table border=\"1\" class=\"dataframe\">\n",
       "  <thead>\n",
       "    <tr style=\"text-align: right;\">\n",
       "      <th></th>\n",
       "      <th>Word</th>\n",
       "      <th>Count_x</th>\n",
       "      <th>Count_y</th>\n",
       "      <th>Count</th>\n",
       "    </tr>\n",
       "  </thead>\n",
       "  <tbody>\n",
       "    <tr>\n",
       "      <td>0</td>\n",
       "      <td>nations</td>\n",
       "      <td>29.0</td>\n",
       "      <td>19.0</td>\n",
       "      <td>45.0</td>\n",
       "    </tr>\n",
       "    <tr>\n",
       "      <td>1</td>\n",
       "      <td>united</td>\n",
       "      <td>26.0</td>\n",
       "      <td>16.0</td>\n",
       "      <td>39.0</td>\n",
       "    </tr>\n",
       "    <tr>\n",
       "      <td>2</td>\n",
       "      <td>peace</td>\n",
       "      <td>25.0</td>\n",
       "      <td>12.0</td>\n",
       "      <td>NaN</td>\n",
       "    </tr>\n",
       "    <tr>\n",
       "      <td>3</td>\n",
       "      <td>international</td>\n",
       "      <td>19.0</td>\n",
       "      <td>22.0</td>\n",
       "      <td>NaN</td>\n",
       "    </tr>\n",
       "    <tr>\n",
       "      <td>4</td>\n",
       "      <td>community</td>\n",
       "      <td>14.0</td>\n",
       "      <td>NaN</td>\n",
       "      <td>NaN</td>\n",
       "    </tr>\n",
       "  </tbody>\n",
       "</table>\n",
       "</div>"
      ],
      "text/plain": [
       "            Word  Count_x  Count_y  Count\n",
       "0        nations     29.0     19.0   45.0\n",
       "1         united     26.0     16.0   39.0\n",
       "2          peace     25.0     12.0    NaN\n",
       "3  international     19.0     22.0    NaN\n",
       "4      community     14.0      NaN    NaN"
      ]
     },
     "execution_count": 506,
     "metadata": {},
     "output_type": "execute_result"
    }
   ],
   "source": [
    "full_session2 = full_session1.merge(session3_df_named, on= \"Word\", how = \"outer\")\n",
    "full_session2.head()"
   ]
  },
  {
   "cell_type": "code",
   "execution_count": 507,
   "metadata": {},
   "outputs": [
    {
     "data": {
      "text/html": [
       "<div>\n",
       "<style scoped>\n",
       "    .dataframe tbody tr th:only-of-type {\n",
       "        vertical-align: middle;\n",
       "    }\n",
       "\n",
       "    .dataframe tbody tr th {\n",
       "        vertical-align: top;\n",
       "    }\n",
       "\n",
       "    .dataframe thead th {\n",
       "        text-align: right;\n",
       "    }\n",
       "</style>\n",
       "<table border=\"1\" class=\"dataframe\">\n",
       "  <thead>\n",
       "    <tr style=\"text-align: right;\">\n",
       "      <th></th>\n",
       "      <th>Session 60</th>\n",
       "      <th>Session 100</th>\n",
       "      <th>Session 160</th>\n",
       "    </tr>\n",
       "    <tr>\n",
       "      <th>Word</th>\n",
       "      <th></th>\n",
       "      <th></th>\n",
       "      <th></th>\n",
       "    </tr>\n",
       "  </thead>\n",
       "  <tbody>\n",
       "    <tr>\n",
       "      <td>nations</td>\n",
       "      <td>29.0</td>\n",
       "      <td>19.0</td>\n",
       "      <td>45.0</td>\n",
       "    </tr>\n",
       "    <tr>\n",
       "      <td>united</td>\n",
       "      <td>26.0</td>\n",
       "      <td>16.0</td>\n",
       "      <td>39.0</td>\n",
       "    </tr>\n",
       "    <tr>\n",
       "      <td>peace</td>\n",
       "      <td>25.0</td>\n",
       "      <td>12.0</td>\n",
       "      <td>0.0</td>\n",
       "    </tr>\n",
       "    <tr>\n",
       "      <td>international</td>\n",
       "      <td>19.0</td>\n",
       "      <td>22.0</td>\n",
       "      <td>0.0</td>\n",
       "    </tr>\n",
       "    <tr>\n",
       "      <td>community</td>\n",
       "      <td>14.0</td>\n",
       "      <td>0.0</td>\n",
       "      <td>0.0</td>\n",
       "    </tr>\n",
       "  </tbody>\n",
       "</table>\n",
       "</div>"
      ],
      "text/plain": [
       "               Session 60  Session 100  Session 160\n",
       "Word                                               \n",
       "nations              29.0         19.0         45.0\n",
       "united               26.0         16.0         39.0\n",
       "peace                25.0         12.0          0.0\n",
       "international        19.0         22.0          0.0\n",
       "community            14.0          0.0          0.0"
      ]
     },
     "execution_count": 507,
     "metadata": {},
     "output_type": "execute_result"
    }
   ],
   "source": [
    "#remove NaN\n",
    "full_session3 = full_session2.replace(np.NaN, 0)\n",
    "full_session = full_session3.rename(columns = {\"Count_x\":\"Session 60\",\"Count_y\": \"Session 100\",\"Count\": \"Session 160\" })\n",
    "full_session\n",
    "top_five = full_session.set_index('Word').head(5)\n",
    "top_five"
   ]
  },
  {
   "cell_type": "code",
   "execution_count": 508,
   "metadata": {},
   "outputs": [
    {
     "data": {
      "text/html": [
       "<div>\n",
       "<style scoped>\n",
       "    .dataframe tbody tr th:only-of-type {\n",
       "        vertical-align: middle;\n",
       "    }\n",
       "\n",
       "    .dataframe tbody tr th {\n",
       "        vertical-align: top;\n",
       "    }\n",
       "\n",
       "    .dataframe thead th {\n",
       "        text-align: right;\n",
       "    }\n",
       "</style>\n",
       "<table border=\"1\" class=\"dataframe\">\n",
       "  <thead>\n",
       "    <tr style=\"text-align: right;\">\n",
       "      <th>Word</th>\n",
       "      <th>nations</th>\n",
       "      <th>united</th>\n",
       "      <th>peace</th>\n",
       "      <th>international</th>\n",
       "      <th>community</th>\n",
       "    </tr>\n",
       "  </thead>\n",
       "  <tbody>\n",
       "    <tr>\n",
       "      <td>Session 60</td>\n",
       "      <td>29.0</td>\n",
       "      <td>26.0</td>\n",
       "      <td>25.0</td>\n",
       "      <td>19.0</td>\n",
       "      <td>14.0</td>\n",
       "    </tr>\n",
       "    <tr>\n",
       "      <td>Session 100</td>\n",
       "      <td>19.0</td>\n",
       "      <td>16.0</td>\n",
       "      <td>12.0</td>\n",
       "      <td>22.0</td>\n",
       "      <td>0.0</td>\n",
       "    </tr>\n",
       "    <tr>\n",
       "      <td>Session 160</td>\n",
       "      <td>45.0</td>\n",
       "      <td>39.0</td>\n",
       "      <td>0.0</td>\n",
       "      <td>0.0</td>\n",
       "      <td>0.0</td>\n",
       "    </tr>\n",
       "  </tbody>\n",
       "</table>\n",
       "</div>"
      ],
      "text/plain": [
       "Word         nations  united  peace  international  community\n",
       "Session 60      29.0    26.0   25.0           19.0       14.0\n",
       "Session 100     19.0    16.0   12.0           22.0        0.0\n",
       "Session 160     45.0    39.0    0.0            0.0        0.0"
      ]
     },
     "execution_count": 508,
     "metadata": {},
     "output_type": "execute_result"
    }
   ],
   "source": [
    "session_plot_df = top_five.transpose()\n",
    "session_plot_df"
   ]
  },
  {
   "cell_type": "code",
   "execution_count": 509,
   "metadata": {},
   "outputs": [
    {
     "data": {
      "text/plain": [
       "<matplotlib.axes._subplots.AxesSubplot at 0x20b93e0e788>"
      ]
     },
     "execution_count": 509,
     "metadata": {},
     "output_type": "execute_result"
    },
    {
     "data": {
      "image/png": "[encoded data removed]",
      "text/plain": [
       "<Figure size 1080x720 with 1 Axes>"
      ]
     },
     "metadata": {
      "needs_background": "light"
     },
     "output_type": "display_data"
    }
   ],
   "source": [
    "session_plot_df.plot(kind = 'line',figsize = (15,10))"
   ]
  },
  {
   "cell_type": "code",
   "execution_count": 510,
   "metadata": {},
   "outputs": [
    {
     "data": {
      "text/plain": [
       "<matplotlib.axes._subplots.AxesSubplot at 0x20b93dd9a08>"
      ]
     },
     "execution_count": 510,
     "metadata": {},
     "output_type": "execute_result"
    },
    {
     "data": {
      "image/png": "[encoded data removed]",
      "text/plain": [
       "<Figure size 1080x720 with 1 Axes>"
      ]
     },
     "metadata": {
      "needs_background": "light"
     },
     "output_type": "display_data"
    }
   ],
   "source": [
    "session_plot_df.plot(kind = 'bar',figsize = (15,10))"
   ]
  },
  {
   "cell_type": "markdown",
   "metadata": {},
   "source": [
    "From the above line graph and boxplot it can be analysed that Session 60 has all the five words in good frequency, Session 100 has all the words except \"community\" in average frequency and Session 160 has the highest frequency of the word \"nations\" and united\" but also lowest/absence of the words \"community\", \"international\" and \"peace\"."
   ]
  },
  {
   "cell_type": "markdown",
   "metadata": {},
   "source": [
    "### <span style=\"color:magenta\"> Bonus. [5 pts] Similarity using GloVe\n",
    "GloVe is an unsupervised learning algorithm for obtaining vector representations of words that's conceptually similar to, but technically different from, Word2Vec. Use gensim to load a GloVe model, one way to do this is by importing and using gensim.downloader (https://radimrehurek.com/gensim/downloader.html). See available options for GloVe models here: https://github.com/RaRe-Technologies/gensim-data#models. Even the smallest GloVe model should suffice for our purposes.\n",
    "1. Choose 5 words related to the UN and its mission (https://www.un.org/en/sections/what-we-do/).\n",
    "1. What are the top-10 similar words of each? Do you find anything odd or interesting? Please explain.\n",
    "1. What do the top-10 most similar words indicate about the searched word, its definition, or what it implies?\n",
    "    \n",
    "Make a good choice in terms of how much time you spend on a five point bonus question. It may not be worth hours of effort if it's too demanding. 😊"
   ]
  },
  {
   "cell_type": "code",
   "execution_count": 511,
   "metadata": {},
   "outputs": [],
   "source": [
    "# put your code here"
   ]
  },
  {
   "cell_type": "markdown",
   "metadata": {},
   "source": [
    "Worked on the notebook with Tanvi Shah and David Josue Molina"
   ]
  }
 ],
 "metadata": {
  "colab": {
   "collapsed_sections": [],
   "name": "618_HW3.ipynb",
   "provenance": [],
   "version": "0.3.2"
  },
  "kernelspec": {
   "display_name": "Python 3",
   "language": "python",
   "name": "python3"
  },
  "language_info": {
   "codemirror_mode": {
    "name": "ipython",
    "version": 3
   },
   "file_extension": ".py",
   "mimetype": "text/x-python",
   "name": "python",
   "nbconvert_exporter": "python",
   "pygments_lexer": "ipython3",
   "version": "3.7.4"
  }
 },
 "nbformat": 4,
 "nbformat_minor": 4
}
